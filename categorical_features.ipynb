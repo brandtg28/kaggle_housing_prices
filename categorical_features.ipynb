{
 "cells": [
  {
   "cell_type": "code",
   "execution_count": 179,
   "metadata": {},
   "outputs": [],
   "source": [
    "import pandas as pd\n",
    "import numpy as np\n",
    "%matplotlib inline\n",
    "import matplotlib.pyplot as plt\n",
    "from sklearn.linear_model import LinearRegression"
   ]
  },
  {
   "cell_type": "code",
   "execution_count": 180,
   "metadata": {},
   "outputs": [
    {
     "data": {
      "text/html": [
       "<div>\n",
       "<style scoped>\n",
       "    .dataframe tbody tr th:only-of-type {\n",
       "        vertical-align: middle;\n",
       "    }\n",
       "\n",
       "    .dataframe tbody tr th {\n",
       "        vertical-align: top;\n",
       "    }\n",
       "\n",
       "    .dataframe thead th {\n",
       "        text-align: right;\n",
       "    }\n",
       "</style>\n",
       "<table border=\"1\" class=\"dataframe\">\n",
       "  <thead>\n",
       "    <tr style=\"text-align: right;\">\n",
       "      <th></th>\n",
       "      <th>Id</th>\n",
       "      <th>MSSubClass</th>\n",
       "      <th>MSZoning</th>\n",
       "      <th>LotFrontage</th>\n",
       "      <th>LotArea</th>\n",
       "      <th>Street</th>\n",
       "      <th>Alley</th>\n",
       "      <th>LotShape</th>\n",
       "      <th>LandContour</th>\n",
       "      <th>Utilities</th>\n",
       "      <th>...</th>\n",
       "      <th>OpenPorchSF</th>\n",
       "      <th>PoolQC</th>\n",
       "      <th>Fence</th>\n",
       "      <th>MiscFeature</th>\n",
       "      <th>MoSold</th>\n",
       "      <th>YrSold</th>\n",
       "      <th>SaleType</th>\n",
       "      <th>SaleCondition</th>\n",
       "      <th>SalePrice</th>\n",
       "      <th>log_SalePrice</th>\n",
       "    </tr>\n",
       "  </thead>\n",
       "  <tbody>\n",
       "    <tr>\n",
       "      <th>0</th>\n",
       "      <td>1</td>\n",
       "      <td>60</td>\n",
       "      <td>RL</td>\n",
       "      <td>65.0</td>\n",
       "      <td>8450</td>\n",
       "      <td>Pave</td>\n",
       "      <td>NaN</td>\n",
       "      <td>Reg</td>\n",
       "      <td>Lvl</td>\n",
       "      <td>AllPub</td>\n",
       "      <td>...</td>\n",
       "      <td>61</td>\n",
       "      <td>NaN</td>\n",
       "      <td>NaN</td>\n",
       "      <td>NaN</td>\n",
       "      <td>2</td>\n",
       "      <td>2008</td>\n",
       "      <td>WD</td>\n",
       "      <td>Normal</td>\n",
       "      <td>208500</td>\n",
       "      <td>12.247694</td>\n",
       "    </tr>\n",
       "    <tr>\n",
       "      <th>1</th>\n",
       "      <td>2</td>\n",
       "      <td>20</td>\n",
       "      <td>RL</td>\n",
       "      <td>80.0</td>\n",
       "      <td>9600</td>\n",
       "      <td>Pave</td>\n",
       "      <td>NaN</td>\n",
       "      <td>Reg</td>\n",
       "      <td>Lvl</td>\n",
       "      <td>AllPub</td>\n",
       "      <td>...</td>\n",
       "      <td>0</td>\n",
       "      <td>NaN</td>\n",
       "      <td>NaN</td>\n",
       "      <td>NaN</td>\n",
       "      <td>5</td>\n",
       "      <td>2007</td>\n",
       "      <td>WD</td>\n",
       "      <td>Normal</td>\n",
       "      <td>181500</td>\n",
       "      <td>12.109011</td>\n",
       "    </tr>\n",
       "    <tr>\n",
       "      <th>2</th>\n",
       "      <td>3</td>\n",
       "      <td>60</td>\n",
       "      <td>RL</td>\n",
       "      <td>68.0</td>\n",
       "      <td>11250</td>\n",
       "      <td>Pave</td>\n",
       "      <td>NaN</td>\n",
       "      <td>IR1</td>\n",
       "      <td>Lvl</td>\n",
       "      <td>AllPub</td>\n",
       "      <td>...</td>\n",
       "      <td>42</td>\n",
       "      <td>NaN</td>\n",
       "      <td>NaN</td>\n",
       "      <td>NaN</td>\n",
       "      <td>9</td>\n",
       "      <td>2008</td>\n",
       "      <td>WD</td>\n",
       "      <td>Normal</td>\n",
       "      <td>223500</td>\n",
       "      <td>12.317167</td>\n",
       "    </tr>\n",
       "    <tr>\n",
       "      <th>3</th>\n",
       "      <td>4</td>\n",
       "      <td>70</td>\n",
       "      <td>RL</td>\n",
       "      <td>60.0</td>\n",
       "      <td>9550</td>\n",
       "      <td>Pave</td>\n",
       "      <td>NaN</td>\n",
       "      <td>IR1</td>\n",
       "      <td>Lvl</td>\n",
       "      <td>AllPub</td>\n",
       "      <td>...</td>\n",
       "      <td>35</td>\n",
       "      <td>NaN</td>\n",
       "      <td>NaN</td>\n",
       "      <td>NaN</td>\n",
       "      <td>2</td>\n",
       "      <td>2006</td>\n",
       "      <td>WD</td>\n",
       "      <td>Abnorml</td>\n",
       "      <td>140000</td>\n",
       "      <td>11.849398</td>\n",
       "    </tr>\n",
       "    <tr>\n",
       "      <th>4</th>\n",
       "      <td>5</td>\n",
       "      <td>60</td>\n",
       "      <td>RL</td>\n",
       "      <td>84.0</td>\n",
       "      <td>14260</td>\n",
       "      <td>Pave</td>\n",
       "      <td>NaN</td>\n",
       "      <td>IR1</td>\n",
       "      <td>Lvl</td>\n",
       "      <td>AllPub</td>\n",
       "      <td>...</td>\n",
       "      <td>84</td>\n",
       "      <td>NaN</td>\n",
       "      <td>NaN</td>\n",
       "      <td>NaN</td>\n",
       "      <td>12</td>\n",
       "      <td>2008</td>\n",
       "      <td>WD</td>\n",
       "      <td>Normal</td>\n",
       "      <td>250000</td>\n",
       "      <td>12.429216</td>\n",
       "    </tr>\n",
       "  </tbody>\n",
       "</table>\n",
       "<p>5 rows × 73 columns</p>\n",
       "</div>"
      ],
      "text/plain": [
       "   Id MSSubClass MSZoning  LotFrontage  LotArea Street Alley LotShape  \\\n",
       "0   1         60       RL         65.0     8450   Pave   NaN      Reg   \n",
       "1   2         20       RL         80.0     9600   Pave   NaN      Reg   \n",
       "2   3         60       RL         68.0    11250   Pave   NaN      IR1   \n",
       "3   4         70       RL         60.0     9550   Pave   NaN      IR1   \n",
       "4   5         60       RL         84.0    14260   Pave   NaN      IR1   \n",
       "\n",
       "  LandContour Utilities  ... OpenPorchSF PoolQC Fence MiscFeature MoSold  \\\n",
       "0         Lvl    AllPub  ...          61    NaN   NaN         NaN      2   \n",
       "1         Lvl    AllPub  ...           0    NaN   NaN         NaN      5   \n",
       "2         Lvl    AllPub  ...          42    NaN   NaN         NaN      9   \n",
       "3         Lvl    AllPub  ...          35    NaN   NaN         NaN      2   \n",
       "4         Lvl    AllPub  ...          84    NaN   NaN         NaN     12   \n",
       "\n",
       "  YrSold SaleType  SaleCondition  SalePrice  log_SalePrice  \n",
       "0   2008       WD         Normal     208500      12.247694  \n",
       "1   2007       WD         Normal     181500      12.109011  \n",
       "2   2008       WD         Normal     223500      12.317167  \n",
       "3   2006       WD        Abnorml     140000      11.849398  \n",
       "4   2008       WD         Normal     250000      12.429216  \n",
       "\n",
       "[5 rows x 73 columns]"
      ]
     },
     "execution_count": 180,
     "metadata": {},
     "output_type": "execute_result"
    }
   ],
   "source": [
    "%store -r train\n",
    "%store -r null_vals\n",
    "%store -r test\n",
    "train.head()"
   ]
  },
  {
   "cell_type": "code",
   "execution_count": 181,
   "metadata": {},
   "outputs": [
    {
     "name": "stdout",
     "output_type": "stream",
     "text": [
      "(1448, 73)\n",
      "(1459, 71)\n"
     ]
    }
   ],
   "source": [
    "print(train.shape)\n",
    "print(test.shape)"
   ]
  },
  {
   "cell_type": "code",
   "execution_count": 182,
   "metadata": {},
   "outputs": [
    {
     "name": "stdout",
     "output_type": "stream",
     "text": [
      "(1448, 46)\n",
      "        MSSubClass MSZoning Street Alley LotShape LandContour Utilities  \\\n",
      "count         1448     1448   1448    90     1448        1448      1448   \n",
      "unique          15        5      2     2        4           4         2   \n",
      "top             20       RL   Pave  Grvl      Reg         Lvl    AllPub   \n",
      "freq           533     1143   1444    49      919        1307      1447   \n",
      "\n",
      "       LotConfig LandSlope Neighborhood  ... GarageQual GarageCond PavedDrive  \\\n",
      "count       1448      1448         1448  ...       1368       1368       1448   \n",
      "unique         5         3           25  ...          5          5          3   \n",
      "top       Inside       Gtl        NAmes  ...         TA         TA          Y   \n",
      "freq        1044      1375          224  ...       1302       1315       1329   \n",
      "\n",
      "       PoolQC  Fence MiscFeature MoSold YrSold SaleType SaleCondition  \n",
      "count       6    279          50   1448   1448     1448          1448  \n",
      "unique      3      4           4     12      5        9             6  \n",
      "top        Fa  MnPrv        Shed      6   2009       WD        Normal  \n",
      "freq        2    156          45    250    335     1259          1190  \n",
      "\n",
      "[4 rows x 46 columns]\n",
      "MSSubClass       object\n",
      "MSZoning         object\n",
      "Street           object\n",
      "Alley            object\n",
      "LotShape         object\n",
      "LandContour      object\n",
      "Utilities        object\n",
      "LotConfig        object\n",
      "LandSlope        object\n",
      "Neighborhood     object\n",
      "Condition1       object\n",
      "Condition2       object\n",
      "BldgType         object\n",
      "HouseStyle       object\n",
      "RoofStyle        object\n",
      "RoofMatl         object\n",
      "Exterior1st      object\n",
      "Exterior2nd      object\n",
      "MasVnrType       object\n",
      "ExterQual        object\n",
      "ExterCond        object\n",
      "Foundation       object\n",
      "BsmtQual         object\n",
      "BsmtCond         object\n",
      "BsmtExposure     object\n",
      "BsmtFinType1     object\n",
      "BsmtFinType2     object\n",
      "Heating          object\n",
      "HeatingQC        object\n",
      "CentralAir       object\n",
      "Electrical       object\n",
      "KitchenQual      object\n",
      "Functional       object\n",
      "FireplaceQu      object\n",
      "GarageType       object\n",
      "GarageFinish     object\n",
      "GarageQual       object\n",
      "GarageCond       object\n",
      "PavedDrive       object\n",
      "PoolQC           object\n",
      "Fence            object\n",
      "MiscFeature      object\n",
      "MoSold           object\n",
      "YrSold           object\n",
      "SaleType         object\n",
      "SaleCondition    object\n",
      "dtype: object\n"
     ]
    }
   ],
   "source": [
    "categorical_cols = train.select_dtypes(exclude=np.number)\n",
    "print(categorical_cols.shape)\n",
    "print(categorical_cols.describe())\n",
    "print(categorical_cols.dtypes)"
   ]
  },
  {
   "cell_type": "markdown",
   "metadata": {},
   "source": [
    "## MSSubClass"
   ]
  },
  {
   "cell_type": "code",
   "execution_count": 183,
   "metadata": {},
   "outputs": [
    {
     "name": "stdout",
     "output_type": "stream",
     "text": [
      "20     533\n",
      "60     297\n",
      "50     142\n",
      "120     87\n",
      "30      67\n",
      "160     63\n",
      "70      60\n",
      "80      58\n",
      "90      52\n",
      "190     28\n",
      "85      20\n",
      "75      15\n",
      "45      12\n",
      "180     10\n",
      "40       4\n",
      "Name: MSSubClass, dtype: int64\n",
      "0\n",
      "20     543\n",
      "60     276\n",
      "50     143\n",
      "120     95\n",
      "30      70\n",
      "70      68\n",
      "160     65\n",
      "80      60\n",
      "90      57\n",
      "190     31\n",
      "85      28\n",
      "180      7\n",
      "75       7\n",
      "45       6\n",
      "40       2\n",
      "150      1\n",
      "Name: MSSubClass, dtype: int64\n",
      "0\n"
     ]
    },
    {
     "data": {
      "image/png": "[encoded data removed]",
      "text/plain": [
       "<Figure size 432x288 with 1 Axes>"
      ]
     },
     "metadata": {
      "needs_background": "light"
     },
     "output_type": "display_data"
    }
   ],
   "source": [
    "train.pivot_table(index='MSSubClass', \n",
    "                         values = 'log_SalePrice', \n",
    "                         aggfunc = np.median).plot(kind='bar',ylim=(11,12.5))\n",
    "print(train.MSSubClass.value_counts())\n",
    "print(train.MSSubClass.isnull().sum())\n",
    "print(test.MSSubClass.value_counts())\n",
    "print(test.MSSubClass.isnull().sum())"
   ]
  },
  {
   "cell_type": "code",
   "execution_count": 184,
   "metadata": {},
   "outputs": [
    {
     "name": "stdout",
     "output_type": "stream",
     "text": [
      "(1448, 73)\n",
      "(1459, 71)\n"
     ]
    }
   ],
   "source": [
    "print(train.shape)\n",
    "print(test.shape)"
   ]
  },
  {
   "cell_type": "code",
   "execution_count": 185,
   "metadata": {},
   "outputs": [
    {
     "name": "stdout",
     "output_type": "stream",
     "text": [
      "(1448, 86)\n"
     ]
    }
   ],
   "source": [
    "train = pd.concat([train, pd.get_dummies(train.MSSubClass, drop_first = True)], axis=1)\n",
    "train = train.drop('MSSubClass', axis=1)\n",
    "print(train.shape)\n"
   ]
  },
  {
   "cell_type": "code",
   "execution_count": 186,
   "metadata": {},
   "outputs": [
    {
     "name": "stdout",
     "output_type": "stream",
     "text": [
      "(1459, 85)\n"
     ]
    }
   ],
   "source": [
    "test = pd.concat([test, pd.get_dummies(test.MSSubClass, drop_first = True)], axis=1)\n",
    "test = test.drop('MSSubClass', axis=1)\n",
    "print(test.shape)"
   ]
  },
  {
   "cell_type": "markdown",
   "metadata": {},
   "source": [
    "## MSZoning"
   ]
  },
  {
   "cell_type": "code",
   "execution_count": 187,
   "metadata": {},
   "outputs": [
    {
     "name": "stdout",
     "output_type": "stream",
     "text": [
      "RL         1143\n",
      "RM          216\n",
      "FV           65\n",
      "RH           16\n",
      "C (all)       8\n",
      "Name: MSZoning, dtype: int64\n",
      "0\n"
     ]
    },
    {
     "data": {
      "image/png": "[encoded data removed]",
      "text/plain": [
       "<Figure size 432x288 with 1 Axes>"
      ]
     },
     "metadata": {
      "needs_background": "light"
     },
     "output_type": "display_data"
    }
   ],
   "source": [
    "train.pivot_table(index='MSZoning', \n",
    "                         values = 'log_SalePrice', \n",
    "                         aggfunc = np.median).plot(kind='bar',ylim=(11,12.5))\n",
    "print(train.MSZoning.value_counts())\n",
    "print(train.MSZoning.isnull().sum())"
   ]
  },
  {
   "cell_type": "code",
   "execution_count": 188,
   "metadata": {},
   "outputs": [
    {
     "name": "stdout",
     "output_type": "stream",
     "text": [
      "(1448, 89)\n"
     ]
    }
   ],
   "source": [
    "train = pd.concat([train, pd.get_dummies(train.MSZoning, drop_first = True)], axis=1)\n",
    "train = train.drop('MSZoning', axis=1)\n",
    "print(train.shape)\n"
   ]
  },
  {
   "cell_type": "code",
   "execution_count": 189,
   "metadata": {},
   "outputs": [
    {
     "name": "stdout",
     "output_type": "stream",
     "text": [
      "(1459, 88)\n"
     ]
    }
   ],
   "source": [
    "test = pd.concat([test, pd.get_dummies(test.MSZoning, drop_first = True)], axis=1)\n",
    "test = test.drop('MSZoning', axis=1)\n",
    "print(test.shape)"
   ]
  },
  {
   "cell_type": "markdown",
   "metadata": {},
   "source": [
    "## Street"
   ]
  },
  {
   "cell_type": "code",
   "execution_count": 190,
   "metadata": {},
   "outputs": [
    {
     "name": "stdout",
     "output_type": "stream",
     "text": [
      "Pave    1444\n",
      "Grvl       4\n",
      "Name: Street, dtype: int64\n",
      "0\n"
     ]
    },
    {
     "data": {
      "image/png": "[encoded data removed]",
      "text/plain": [
       "<Figure size 432x288 with 1 Axes>"
      ]
     },
     "metadata": {
      "needs_background": "light"
     },
     "output_type": "display_data"
    }
   ],
   "source": [
    "train.pivot_table(index='Street', \n",
    "                         values = 'log_SalePrice', \n",
    "                         aggfunc = np.median).plot(kind='bar',ylim=(11,12.5))\n",
    "print(train.Street.value_counts())\n",
    "print(train.Street.isnull().sum())"
   ]
  },
  {
   "cell_type": "code",
   "execution_count": 191,
   "metadata": {},
   "outputs": [
    {
     "name": "stdout",
     "output_type": "stream",
     "text": [
      "(1448, 89)\n"
     ]
    }
   ],
   "source": [
    "train = pd.concat([train, pd.get_dummies(train.Street, drop_first = True)], axis=1)\n",
    "train = train.drop('Street', axis=1)\n",
    "print(train.shape)"
   ]
  },
  {
   "cell_type": "code",
   "execution_count": 192,
   "metadata": {},
   "outputs": [
    {
     "name": "stdout",
     "output_type": "stream",
     "text": [
      "(1459, 88)\n"
     ]
    }
   ],
   "source": [
    "test = pd.concat([test, pd.get_dummies(test.Street, drop_first = True)], axis=1)\n",
    "test = test.drop('Street', axis=1)\n",
    "print(test.shape)"
   ]
  },
  {
   "cell_type": "markdown",
   "metadata": {},
   "source": [
    "## Alley"
   ]
  },
  {
   "cell_type": "code",
   "execution_count": 193,
   "metadata": {},
   "outputs": [
    {
     "name": "stdout",
     "output_type": "stream",
     "text": [
      "Grvl    49\n",
      "Pave    41\n",
      "Name: Alley, dtype: int64\n",
      "1358\n"
     ]
    },
    {
     "data": {
      "image/png": "[encoded data removed]",
      "text/plain": [
       "<Figure size 432x288 with 1 Axes>"
      ]
     },
     "metadata": {
      "needs_background": "light"
     },
     "output_type": "display_data"
    }
   ],
   "source": [
    "train.pivot_table(index='Alley', \n",
    "                         values = 'log_SalePrice', \n",
    "                         aggfunc = np.median).plot(kind='bar',ylim=(11,12.5))\n",
    "print(train.Alley.value_counts())\n",
    "print(train.Alley.isnull().sum())"
   ]
  },
  {
   "cell_type": "code",
   "execution_count": 194,
   "metadata": {},
   "outputs": [
    {
     "name": "stdout",
     "output_type": "stream",
     "text": [
      "(1448, 88)\n"
     ]
    }
   ],
   "source": [
    "train=train.drop('Alley', axis=1)\n",
    "print(train.shape)"
   ]
  },
  {
   "cell_type": "code",
   "execution_count": 195,
   "metadata": {},
   "outputs": [
    {
     "name": "stdout",
     "output_type": "stream",
     "text": [
      "(1459, 87)\n"
     ]
    }
   ],
   "source": [
    "test=test.drop('Alley', axis=1)\n",
    "print(test.shape)"
   ]
  },
  {
   "cell_type": "markdown",
   "metadata": {},
   "source": [
    "## LotShape"
   ]
  },
  {
   "cell_type": "code",
   "execution_count": 196,
   "metadata": {},
   "outputs": [
    {
     "name": "stdout",
     "output_type": "stream",
     "text": [
      "Reg    919\n",
      "IR1    482\n",
      "IR2     39\n",
      "IR3      8\n",
      "Name: LotShape, dtype: int64\n",
      "0\n"
     ]
    },
    {
     "data": {
      "image/png": "[encoded data removed]",
      "text/plain": [
       "<Figure size 432x288 with 1 Axes>"
      ]
     },
     "metadata": {
      "needs_background": "light"
     },
     "output_type": "display_data"
    }
   ],
   "source": [
    "train.pivot_table(index='LotShape', \n",
    "                         values = 'log_SalePrice', \n",
    "                         aggfunc = np.median).plot(kind='bar',ylim=(11,12.5))\n",
    "print(train.LotShape.value_counts())\n",
    "print(train.LotShape.isnull().sum())"
   ]
  },
  {
   "cell_type": "code",
   "execution_count": 197,
   "metadata": {},
   "outputs": [
    {
     "name": "stdout",
     "output_type": "stream",
     "text": [
      "1    919\n",
      "0    529\n",
      "Name: LotShape, dtype: int64\n",
      "(1448, 88)\n"
     ]
    }
   ],
   "source": [
    "#Reducing to binary Regular vs Irregular\n",
    "def f(x):\n",
    " return 1 if x == 'Reg' else 0\n",
    "train['LotShape'] = train['LotShape'].apply(f)\n",
    "print(train.LotShape.value_counts())   \n",
    "print(train.shape)"
   ]
  },
  {
   "cell_type": "code",
   "execution_count": 198,
   "metadata": {},
   "outputs": [
    {
     "name": "stdout",
     "output_type": "stream",
     "text": [
      "1    934\n",
      "0    525\n",
      "Name: LotShape, dtype: int64\n",
      "(1459, 87)\n"
     ]
    }
   ],
   "source": [
    "def g(x):\n",
    " return 1 if x == 'Reg' else 0\n",
    "test['LotShape'] = test['LotShape'].apply(g)\n",
    "print(test.LotShape.value_counts())   \n",
    "print(test.shape)"
   ]
  },
  {
   "cell_type": "markdown",
   "metadata": {},
   "source": [
    "## LandContour"
   ]
  },
  {
   "cell_type": "code",
   "execution_count": 199,
   "metadata": {},
   "outputs": [
    {
     "name": "stdout",
     "output_type": "stream",
     "text": [
      "Lvl    1307\n",
      "Bnk      61\n",
      "HLS      48\n",
      "Low      32\n",
      "Name: LandContour, dtype: int64\n",
      "0\n"
     ]
    },
    {
     "data": {
      "image/png": "[encoded data removed]",
      "text/plain": [
       "<Figure size 432x288 with 1 Axes>"
      ]
     },
     "metadata": {
      "needs_background": "light"
     },
     "output_type": "display_data"
    }
   ],
   "source": [
    "train.pivot_table(index='LandContour', \n",
    "                         values = 'log_SalePrice', \n",
    "                         aggfunc = np.median).plot(kind='bar',ylim=(11,12.5))\n",
    "print(train.LandContour.value_counts())\n",
    "print(train.LandContour.isnull().sum())"
   ]
  },
  {
   "cell_type": "code",
   "execution_count": 200,
   "metadata": {},
   "outputs": [
    {
     "name": "stdout",
     "output_type": "stream",
     "text": [
      "(1448, 90)\n"
     ]
    }
   ],
   "source": [
    "train = pd.concat([train, pd.get_dummies(train.LandContour, drop_first = True)], axis=1)\n",
    "train = train.drop('LandContour', axis=1)\n",
    "print(train.shape)"
   ]
  },
  {
   "cell_type": "code",
   "execution_count": 201,
   "metadata": {},
   "outputs": [
    {
     "name": "stdout",
     "output_type": "stream",
     "text": [
      "(1459, 89)\n"
     ]
    }
   ],
   "source": [
    "test = pd.concat([test, pd.get_dummies(test.LandContour, drop_first = True)], axis=1)\n",
    "test = test.drop('LandContour', axis=1)\n",
    "print(test.shape)"
   ]
  },
  {
   "cell_type": "markdown",
   "metadata": {},
   "source": [
    "## Utilities"
   ]
  },
  {
   "cell_type": "code",
   "execution_count": 202,
   "metadata": {},
   "outputs": [
    {
     "name": "stdout",
     "output_type": "stream",
     "text": [
      "AllPub    1447\n",
      "NoSeWa       1\n",
      "Name: Utilities, dtype: int64\n",
      "0\n"
     ]
    },
    {
     "data": {
      "image/png": "[encoded data removed]",
      "text/plain": [
       "<Figure size 432x288 with 1 Axes>"
      ]
     },
     "metadata": {
      "needs_background": "light"
     },
     "output_type": "display_data"
    }
   ],
   "source": [
    "train.pivot_table(index='Utilities', \n",
    "                         values = 'log_SalePrice', \n",
    "                         aggfunc = np.median).plot(kind='bar',ylim=(11,12.5))\n",
    "print(train.Utilities.value_counts())\n",
    "print(train.Utilities.isnull().sum())"
   ]
  },
  {
   "cell_type": "code",
   "execution_count": 203,
   "metadata": {},
   "outputs": [],
   "source": [
    "# dropping utilities"
   ]
  },
  {
   "cell_type": "code",
   "execution_count": 204,
   "metadata": {},
   "outputs": [
    {
     "name": "stdout",
     "output_type": "stream",
     "text": [
      "(1448, 89)\n"
     ]
    }
   ],
   "source": [
    "train = train.drop('Utilities', axis=1)\n",
    "print(train.shape)"
   ]
  },
  {
   "cell_type": "code",
   "execution_count": 205,
   "metadata": {},
   "outputs": [
    {
     "name": "stdout",
     "output_type": "stream",
     "text": [
      "(1459, 88)\n"
     ]
    }
   ],
   "source": [
    "test = test.drop('Utilities', axis=1)\n",
    "print(test.shape)"
   ]
  },
  {
   "cell_type": "markdown",
   "metadata": {},
   "source": [
    "## LotConfig"
   ]
  },
  {
   "cell_type": "code",
   "execution_count": 206,
   "metadata": {
    "scrolled": true
   },
   "outputs": [
    {
     "name": "stdout",
     "output_type": "stream",
     "text": [
      "Inside     1044\n",
      "Corner      260\n",
      "CulDSac      93\n",
      "FR2          47\n",
      "FR3           4\n",
      "Name: LotConfig, dtype: int64\n",
      "0\n"
     ]
    },
    {
     "data": {
      "image/png": "[encoded data removed]",
      "text/plain": [
       "<Figure size 432x288 with 1 Axes>"
      ]
     },
     "metadata": {
      "needs_background": "light"
     },
     "output_type": "display_data"
    }
   ],
   "source": [
    "train.pivot_table(index='LotConfig', \n",
    "                         values = 'log_SalePrice', \n",
    "                         aggfunc = np.median).plot(kind='bar',ylim=(11,12.5))\n",
    "print(train.LotConfig.value_counts())\n",
    "print(train.LotConfig.isnull().sum())"
   ]
  },
  {
   "cell_type": "code",
   "execution_count": 207,
   "metadata": {},
   "outputs": [
    {
     "name": "stdout",
     "output_type": "stream",
     "text": [
      "(1448, 92)\n"
     ]
    }
   ],
   "source": [
    "train = pd.concat([train, pd.get_dummies(train.LotConfig, drop_first = True)], axis=1)\n",
    "train = train.drop('LotConfig', axis=1)\n",
    "print(train.shape)"
   ]
  },
  {
   "cell_type": "code",
   "execution_count": 208,
   "metadata": {},
   "outputs": [
    {
     "name": "stdout",
     "output_type": "stream",
     "text": [
      "(1459, 91)\n"
     ]
    }
   ],
   "source": [
    "test = pd.concat([test, pd.get_dummies(test.LotConfig, drop_first = True)], axis=1)\n",
    "test = test.drop('LotConfig', axis=1)\n",
    "print(test.shape)"
   ]
  },
  {
   "cell_type": "markdown",
   "metadata": {},
   "source": [
    "## LandSlope"
   ]
  },
  {
   "cell_type": "code",
   "execution_count": 209,
   "metadata": {},
   "outputs": [
    {
     "name": "stdout",
     "output_type": "stream",
     "text": [
      "Gtl    1375\n",
      "Mod      63\n",
      "Sev      10\n",
      "Name: LandSlope, dtype: int64\n",
      "0\n"
     ]
    },
    {
     "data": {
      "image/png": "[encoded data removed]",
      "text/plain": [
       "<Figure size 432x288 with 1 Axes>"
      ]
     },
     "metadata": {
      "needs_background": "light"
     },
     "output_type": "display_data"
    }
   ],
   "source": [
    "train.pivot_table(index='LandSlope', \n",
    "                         values = 'log_SalePrice', \n",
    "                         aggfunc = np.median).plot(kind='bar',ylim=(11,12.5))\n",
    "print(train.LandSlope.value_counts())\n",
    "print(train.LandSlope.isnull().sum())"
   ]
  },
  {
   "cell_type": "code",
   "execution_count": 210,
   "metadata": {},
   "outputs": [
    {
     "name": "stdout",
     "output_type": "stream",
     "text": [
      "(1448, 93)\n"
     ]
    }
   ],
   "source": [
    "train = pd.concat([train, pd.get_dummies(train.LandSlope, drop_first = True)], axis=1)\n",
    "train = train.drop('LandSlope', axis=1)\n",
    "print(train.shape)\n"
   ]
  },
  {
   "cell_type": "code",
   "execution_count": 211,
   "metadata": {},
   "outputs": [
    {
     "name": "stdout",
     "output_type": "stream",
     "text": [
      "(1459, 92)\n"
     ]
    }
   ],
   "source": [
    "test = pd.concat([test, pd.get_dummies(test.LandSlope, drop_first = True)], axis=1)\n",
    "test = test.drop('LandSlope', axis=1)\n",
    "print(test.shape)"
   ]
  },
  {
   "cell_type": "markdown",
   "metadata": {},
   "source": [
    "## Neighborhood"
   ]
  },
  {
   "cell_type": "code",
   "execution_count": 212,
   "metadata": {},
   "outputs": [
    {
     "name": "stdout",
     "output_type": "stream",
     "text": [
      "NAmes      224\n",
      "CollgCr    150\n",
      "OldTown    111\n",
      "Edwards     98\n",
      "Somerst     86\n",
      "Gilbert     79\n",
      "NridgHt     76\n",
      "Sawyer      74\n",
      "NWAmes      73\n",
      "SawyerW     59\n",
      "BrkSide     58\n",
      "Crawfor     51\n",
      "Mitchel     48\n",
      "NoRidge     41\n",
      "Timber      36\n",
      "IDOTRR      35\n",
      "ClearCr     27\n",
      "StoneBr     25\n",
      "SWISU       25\n",
      "Blmngtn     17\n",
      "MeadowV     17\n",
      "BrDale      16\n",
      "Veenker     11\n",
      "NPkVill      9\n",
      "Blueste      2\n",
      "Name: Neighborhood, dtype: int64\n",
      "0\n"
     ]
    },
    {
     "data": {
      "image/png": "[encoded data removed]",
      "text/plain": [
       "<Figure size 432x288 with 1 Axes>"
      ]
     },
     "metadata": {
      "needs_background": "light"
     },
     "output_type": "display_data"
    }
   ],
   "source": [
    "train.pivot_table(index='Neighborhood', \n",
    "                         values = 'log_SalePrice', \n",
    "                         aggfunc = np.median).plot(kind='bar',ylim=(11,12.5))\n",
    "print(train.Neighborhood.value_counts())\n",
    "print(train.Neighborhood.isnull().sum())"
   ]
  },
  {
   "cell_type": "code",
   "execution_count": 213,
   "metadata": {},
   "outputs": [
    {
     "name": "stdout",
     "output_type": "stream",
     "text": [
      "(1448, 116)\n"
     ]
    }
   ],
   "source": [
    "train = pd.concat([train, pd.get_dummies(train.Neighborhood, drop_first = True)], axis=1)\n",
    "train = train.drop('Neighborhood', axis=1)\n",
    "print(train.shape)"
   ]
  },
  {
   "cell_type": "code",
   "execution_count": 214,
   "metadata": {},
   "outputs": [
    {
     "name": "stdout",
     "output_type": "stream",
     "text": [
      "(1459, 115)\n"
     ]
    }
   ],
   "source": [
    "test = pd.concat([test, pd.get_dummies(test.Neighborhood, drop_first = True)], axis=1)\n",
    "test = test.drop('Neighborhood', axis=1)\n",
    "print(test.shape)"
   ]
  },
  {
   "cell_type": "markdown",
   "metadata": {},
   "source": [
    "## Condition1"
   ]
  },
  {
   "cell_type": "code",
   "execution_count": 215,
   "metadata": {},
   "outputs": [
    {
     "name": "stdout",
     "output_type": "stream",
     "text": [
      "Norm      1252\n",
      "Feedr       80\n",
      "Artery      47\n",
      "RRAn        26\n",
      "PosN        18\n",
      "RRAe        11\n",
      "PosA         7\n",
      "RRNn         5\n",
      "RRNe         2\n",
      "Name: Condition1, dtype: int64\n",
      "0\n"
     ]
    },
    {
     "data": {
      "image/png": "[encoded data removed]",
      "text/plain": [
       "<Figure size 432x288 with 1 Axes>"
      ]
     },
     "metadata": {
      "needs_background": "light"
     },
     "output_type": "display_data"
    }
   ],
   "source": [
    "train.pivot_table(index='Condition1', \n",
    "                         values = 'log_SalePrice', \n",
    "                         aggfunc = np.median).plot(kind='bar',ylim=(11,12.5))\n",
    "print(train.Condition1.value_counts())\n",
    "print(train.Condition1.isnull().sum())"
   ]
  },
  {
   "cell_type": "code",
   "execution_count": 216,
   "metadata": {},
   "outputs": [
    {
     "name": "stdout",
     "output_type": "stream",
     "text": [
      "(1448, 123)\n"
     ]
    }
   ],
   "source": [
    "train = pd.concat([train, pd.get_dummies(train.Condition1, drop_first = True)], axis=1)\n",
    "train = train.drop('Condition1', axis=1)\n",
    "print(train.shape)"
   ]
  },
  {
   "cell_type": "code",
   "execution_count": 217,
   "metadata": {},
   "outputs": [
    {
     "name": "stdout",
     "output_type": "stream",
     "text": [
      "(1459, 122)\n"
     ]
    }
   ],
   "source": [
    "test = pd.concat([test, pd.get_dummies(test.Condition1, drop_first = True)], axis=1)\n",
    "test = test.drop('Condition1', axis=1)\n",
    "print(test.shape)"
   ]
  },
  {
   "cell_type": "markdown",
   "metadata": {},
   "source": [
    "## Condition2"
   ]
  },
  {
   "cell_type": "code",
   "execution_count": 218,
   "metadata": {},
   "outputs": [
    {
     "name": "stdout",
     "output_type": "stream",
     "text": [
      "(1448, 122)\n"
     ]
    }
   ],
   "source": [
    "#dropping condition 2, 99% norm\n",
    "train=train.drop('Condition2', axis=1)\n",
    "print(train.shape)"
   ]
  },
  {
   "cell_type": "code",
   "execution_count": 219,
   "metadata": {},
   "outputs": [
    {
     "name": "stdout",
     "output_type": "stream",
     "text": [
      "(1459, 121)\n"
     ]
    }
   ],
   "source": [
    "test=test.drop('Condition2', axis=1)\n",
    "print(test.shape)"
   ]
  },
  {
   "cell_type": "markdown",
   "metadata": {},
   "source": [
    "## BldgType"
   ]
  },
  {
   "cell_type": "code",
   "execution_count": 220,
   "metadata": {},
   "outputs": [
    {
     "name": "stdout",
     "output_type": "stream",
     "text": [
      "1Fam      1210\n",
      "TwnhsE     114\n",
      "Duplex      52\n",
      "Twnhs       43\n",
      "2fmCon      29\n",
      "Name: BldgType, dtype: int64\n",
      "0\n"
     ]
    },
    {
     "data": {
      "image/png": "[encoded data removed]",
      "text/plain": [
       "<Figure size 432x288 with 1 Axes>"
      ]
     },
     "metadata": {
      "needs_background": "light"
     },
     "output_type": "display_data"
    }
   ],
   "source": [
    "train.pivot_table(index='BldgType', \n",
    "                         values = 'log_SalePrice', \n",
    "                         aggfunc = np.median).plot(kind='bar',ylim=(11,12.5))\n",
    "print(train.BldgType.value_counts())\n",
    "print(train.BldgType.isnull().sum())"
   ]
  },
  {
   "cell_type": "code",
   "execution_count": 221,
   "metadata": {},
   "outputs": [
    {
     "name": "stdout",
     "output_type": "stream",
     "text": [
      "(1448, 125)\n"
     ]
    }
   ],
   "source": [
    "train = pd.concat([train, pd.get_dummies(train.BldgType, drop_first = True)], axis=1)\n",
    "train = train.drop('BldgType', axis=1)\n",
    "print(train.shape)"
   ]
  },
  {
   "cell_type": "code",
   "execution_count": 222,
   "metadata": {},
   "outputs": [
    {
     "name": "stdout",
     "output_type": "stream",
     "text": [
      "(1459, 124)\n"
     ]
    }
   ],
   "source": [
    "test = pd.concat([test, pd.get_dummies(test.BldgType, drop_first = True)], axis=1)\n",
    "test = test.drop('BldgType', axis=1)\n",
    "print(test.shape)"
   ]
  },
  {
   "cell_type": "markdown",
   "metadata": {},
   "source": [
    "## HouseStyle"
   ]
  },
  {
   "cell_type": "code",
   "execution_count": 223,
   "metadata": {},
   "outputs": [
    {
     "name": "stdout",
     "output_type": "stream",
     "text": [
      "1Story    720\n",
      "2Story    443\n",
      "1.5Fin    151\n",
      "SLvl       65\n",
      "SFoyer     37\n",
      "1.5Unf     14\n",
      "2.5Unf     10\n",
      "2.5Fin      8\n",
      "Name: HouseStyle, dtype: int64\n",
      "0\n",
      "1Story    745\n",
      "2Story    427\n",
      "1.5Fin    160\n",
      "SLvl       63\n",
      "SFoyer     46\n",
      "2.5Unf     13\n",
      "1.5Unf      5\n",
      "Name: HouseStyle, dtype: int64\n",
      "0\n"
     ]
    },
    {
     "data": {
      "image/png": "[encoded data removed]",
      "text/plain": [
       "<Figure size 432x288 with 1 Axes>"
      ]
     },
     "metadata": {
      "needs_background": "light"
     },
     "output_type": "display_data"
    }
   ],
   "source": [
    "train.pivot_table(index='HouseStyle', \n",
    "                         values = 'log_SalePrice', \n",
    "                         aggfunc = np.median).plot(kind='bar',ylim=(11,12.5))\n",
    "print(train.HouseStyle.value_counts())\n",
    "print(train.HouseStyle.isnull().sum())\n",
    "print(test.HouseStyle.value_counts())\n",
    "print(test.HouseStyle.isnull().sum())"
   ]
  },
  {
   "cell_type": "code",
   "execution_count": 224,
   "metadata": {},
   "outputs": [
    {
     "name": "stdout",
     "output_type": "stream",
     "text": [
      "(1448, 131)\n"
     ]
    }
   ],
   "source": [
    "train = pd.concat([train, pd.get_dummies(train.HouseStyle, drop_first = True)], axis=1)\n",
    "train = train.drop('HouseStyle', axis=1)\n",
    "print(train.shape)"
   ]
  },
  {
   "cell_type": "code",
   "execution_count": 225,
   "metadata": {},
   "outputs": [
    {
     "name": "stdout",
     "output_type": "stream",
     "text": [
      "(1459, 129)\n"
     ]
    }
   ],
   "source": [
    "test = pd.concat([test, pd.get_dummies(test.HouseStyle, drop_first = True)], axis=1)\n",
    "test = test.drop('HouseStyle', axis=1)\n",
    "print(test.shape)"
   ]
  },
  {
   "cell_type": "markdown",
   "metadata": {},
   "source": [
    "## RoofStyle"
   ]
  },
  {
   "cell_type": "code",
   "execution_count": 226,
   "metadata": {},
   "outputs": [
    {
     "name": "stdout",
     "output_type": "stream",
     "text": [
      "Gable      1134\n",
      "Hip         282\n",
      "Flat         12\n",
      "Gambrel      11\n",
      "Mansard       7\n",
      "Shed          2\n",
      "Name: RoofStyle, dtype: int64\n",
      "0\n"
     ]
    },
    {
     "data": {
      "image/png": "[encoded data removed]",
      "text/plain": [
       "<Figure size 432x288 with 1 Axes>"
      ]
     },
     "metadata": {
      "needs_background": "light"
     },
     "output_type": "display_data"
    }
   ],
   "source": [
    "train.pivot_table(index='RoofStyle', \n",
    "                         values = 'log_SalePrice', \n",
    "                         aggfunc = np.median).plot(kind='bar',ylim=(11,12.5))\n",
    "print(train.RoofStyle.value_counts())\n",
    "print(train.RoofStyle.isnull().sum())"
   ]
  },
  {
   "cell_type": "code",
   "execution_count": 227,
   "metadata": {},
   "outputs": [
    {
     "name": "stdout",
     "output_type": "stream",
     "text": [
      "(1448, 135)\n"
     ]
    }
   ],
   "source": [
    "train = pd.concat([train, pd.get_dummies(train.RoofStyle, drop_first = True)], axis=1)\n",
    "train = train.drop('RoofStyle', axis=1)\n",
    "print(train.shape)"
   ]
  },
  {
   "cell_type": "code",
   "execution_count": 228,
   "metadata": {},
   "outputs": [
    {
     "name": "stdout",
     "output_type": "stream",
     "text": [
      "(1459, 133)\n"
     ]
    }
   ],
   "source": [
    "test = pd.concat([test, pd.get_dummies(test.RoofStyle, drop_first = True)], axis=1)\n",
    "test = test.drop('RoofStyle', axis=1)\n",
    "print(test.shape)"
   ]
  },
  {
   "cell_type": "markdown",
   "metadata": {},
   "source": [
    "## RoofMatl"
   ]
  },
  {
   "cell_type": "code",
   "execution_count": 229,
   "metadata": {},
   "outputs": [
    {
     "name": "stdout",
     "output_type": "stream",
     "text": [
      "(1448, 134)\n"
     ]
    }
   ],
   "source": [
    "#drop RoofMatl\n",
    "train = train.drop('RoofMatl', axis = 1)\n",
    "print(train.shape)"
   ]
  },
  {
   "cell_type": "code",
   "execution_count": 230,
   "metadata": {},
   "outputs": [
    {
     "name": "stdout",
     "output_type": "stream",
     "text": [
      "(1459, 132)\n"
     ]
    }
   ],
   "source": [
    "test = test.drop('RoofMatl', axis = 1)\n",
    "print(test.shape)"
   ]
  },
  {
   "cell_type": "markdown",
   "metadata": {},
   "source": [
    "## Exterior1st"
   ]
  },
  {
   "cell_type": "code",
   "execution_count": 231,
   "metadata": {},
   "outputs": [
    {
     "name": "stdout",
     "output_type": "stream",
     "text": [
      "VinylSd    514\n",
      "HdBoard    222\n",
      "MetalSd    218\n",
      "Wd Sdng    202\n",
      "Plywood    107\n",
      "CemntBd     60\n",
      "BrkFace     48\n",
      "WdShing     26\n",
      "Stucco      24\n",
      "AsbShng     20\n",
      "Stone        2\n",
      "BrkComm      2\n",
      "CBlock       1\n",
      "ImStucc      1\n",
      "AsphShn      1\n",
      "Name: Exterior1st, dtype: int64\n",
      "0\n"
     ]
    },
    {
     "data": {
      "image/png": "[encoded data removed]",
      "text/plain": [
       "<Figure size 432x288 with 1 Axes>"
      ]
     },
     "metadata": {
      "needs_background": "light"
     },
     "output_type": "display_data"
    }
   ],
   "source": [
    "train.pivot_table(index='Exterior1st', \n",
    "                         values = 'log_SalePrice', \n",
    "                         aggfunc = np.median).plot(kind='bar',ylim=(11,12.5))\n",
    "print(train.Exterior1st.value_counts())\n",
    "print(train.Exterior1st.isnull().sum())"
   ]
  },
  {
   "cell_type": "code",
   "execution_count": 232,
   "metadata": {},
   "outputs": [
    {
     "name": "stdout",
     "output_type": "stream",
     "text": [
      "(1448, 147)\n"
     ]
    }
   ],
   "source": [
    "train = pd.concat([train, pd.get_dummies(train.Exterior1st, drop_first = True)], axis=1)\n",
    "train = train.drop('Exterior1st', axis=1)\n",
    "print(train.shape)"
   ]
  },
  {
   "cell_type": "code",
   "execution_count": 233,
   "metadata": {},
   "outputs": [
    {
     "name": "stdout",
     "output_type": "stream",
     "text": [
      "(1459, 143)\n"
     ]
    }
   ],
   "source": [
    "test = pd.concat([test, pd.get_dummies(test.Exterior1st, drop_first = True)], axis=1)\n",
    "test = test.drop('Exterior1st', axis=1)\n",
    "print(test.shape)"
   ]
  },
  {
   "cell_type": "markdown",
   "metadata": {},
   "source": [
    "## Exterior2nd"
   ]
  },
  {
   "cell_type": "code",
   "execution_count": 234,
   "metadata": {},
   "outputs": [
    {
     "name": "stdout",
     "output_type": "stream",
     "text": [
      "(1448, 146)\n"
     ]
    }
   ],
   "source": [
    "#drop \n",
    "train=train.drop('Exterior2nd', axis=1)\n",
    "print(train.shape)"
   ]
  },
  {
   "cell_type": "code",
   "execution_count": 235,
   "metadata": {},
   "outputs": [
    {
     "name": "stdout",
     "output_type": "stream",
     "text": [
      "(1459, 142)\n"
     ]
    }
   ],
   "source": [
    "test=test.drop('Exterior2nd', axis=1)\n",
    "print(test.shape)"
   ]
  },
  {
   "cell_type": "markdown",
   "metadata": {},
   "source": [
    "## MasVnrType"
   ]
  },
  {
   "cell_type": "code",
   "execution_count": 236,
   "metadata": {},
   "outputs": [],
   "source": [
    "train['MasVnrType'] = train['MasVnrType'].fillna(value=train.mode()['MasVnrType'][0])"
   ]
  },
  {
   "cell_type": "code",
   "execution_count": 237,
   "metadata": {},
   "outputs": [],
   "source": [
    "test['MasVnrType'] = test['MasVnrType'].fillna(value=test.mode()['MasVnrType'][0])"
   ]
  },
  {
   "cell_type": "code",
   "execution_count": 238,
   "metadata": {},
   "outputs": [
    {
     "name": "stdout",
     "output_type": "stream",
     "text": [
      "None       865\n",
      "BrkFace    444\n",
      "Stone      125\n",
      "BrkCmn      14\n",
      "Name: MasVnrType, dtype: int64\n",
      "0\n"
     ]
    },
    {
     "data": {
      "image/png": "[encoded data removed]",
      "text/plain": [
       "<Figure size 432x288 with 1 Axes>"
      ]
     },
     "metadata": {
      "needs_background": "light"
     },
     "output_type": "display_data"
    }
   ],
   "source": [
    "train.pivot_table(index='MasVnrType', \n",
    "                         values = 'log_SalePrice', \n",
    "                         aggfunc = np.median).plot(kind='bar',ylim=(11,12.5))\n",
    "print(train.MasVnrType.value_counts())\n",
    "print(train.MasVnrType.isnull().sum())"
   ]
  },
  {
   "cell_type": "code",
   "execution_count": 239,
   "metadata": {},
   "outputs": [
    {
     "name": "stdout",
     "output_type": "stream",
     "text": [
      "(1448, 148)\n"
     ]
    }
   ],
   "source": [
    "train = pd.concat([train, pd.get_dummies(train.MasVnrType, drop_first = True)], axis=1)\n",
    "train = train.drop('MasVnrType', axis=1)\n",
    "print(train.shape)"
   ]
  },
  {
   "cell_type": "code",
   "execution_count": 240,
   "metadata": {},
   "outputs": [
    {
     "name": "stdout",
     "output_type": "stream",
     "text": [
      "(1459, 144)\n"
     ]
    }
   ],
   "source": [
    "test = pd.concat([test, pd.get_dummies(test.MasVnrType, drop_first = True)], axis=1)\n",
    "test = test.drop('MasVnrType', axis=1)\n",
    "print(test.shape)"
   ]
  },
  {
   "cell_type": "markdown",
   "metadata": {},
   "source": [
    "## ExterQual"
   ]
  },
  {
   "cell_type": "code",
   "execution_count": 241,
   "metadata": {},
   "outputs": [
    {
     "name": "stdout",
     "output_type": "stream",
     "text": [
      "TA    901\n",
      "Gd    486\n",
      "Ex     48\n",
      "Fa     13\n",
      "Name: ExterQual, dtype: int64\n",
      "0\n"
     ]
    },
    {
     "data": {
      "image/png": "[encoded data removed]",
      "text/plain": [
       "<Figure size 432x288 with 1 Axes>"
      ]
     },
     "metadata": {
      "needs_background": "light"
     },
     "output_type": "display_data"
    }
   ],
   "source": [
    "train.pivot_table(index='ExterQual', \n",
    "                         values = 'log_SalePrice', \n",
    "                         aggfunc = np.median).plot(kind='bar',ylim=(11,12.5))\n",
    "print(train.ExterQual.value_counts())\n",
    "print(train.ExterQual.isnull().sum())"
   ]
  },
  {
   "cell_type": "code",
   "execution_count": 242,
   "metadata": {},
   "outputs": [
    {
     "name": "stdout",
     "output_type": "stream",
     "text": [
      "(1448, 150)\n"
     ]
    }
   ],
   "source": [
    "train = pd.concat([train, pd.get_dummies(train.ExterQual, drop_first = True)], axis=1)\n",
    "train = train.drop('ExterQual', axis=1)\n",
    "print(train.shape)"
   ]
  },
  {
   "cell_type": "code",
   "execution_count": 243,
   "metadata": {},
   "outputs": [
    {
     "name": "stdout",
     "output_type": "stream",
     "text": [
      "(1459, 146)\n"
     ]
    }
   ],
   "source": [
    "test = pd.concat([test, pd.get_dummies(test.ExterQual, drop_first = True)], axis=1)\n",
    "test = test.drop('ExterQual', axis=1)\n",
    "print(test.shape)"
   ]
  },
  {
   "cell_type": "markdown",
   "metadata": {},
   "source": [
    "## ExterCond"
   ]
  },
  {
   "cell_type": "code",
   "execution_count": 244,
   "metadata": {},
   "outputs": [
    {
     "name": "stdout",
     "output_type": "stream",
     "text": [
      "TA    1273\n",
      "Gd     144\n",
      "Fa      28\n",
      "Ex       2\n",
      "Po       1\n",
      "Name: ExterCond, dtype: int64\n",
      "0\n"
     ]
    },
    {
     "data": {
      "image/png": "[encoded data removed]",
      "text/plain": [
       "<Figure size 432x288 with 1 Axes>"
      ]
     },
     "metadata": {
      "needs_background": "light"
     },
     "output_type": "display_data"
    }
   ],
   "source": [
    "train.pivot_table(index='ExterCond', \n",
    "                         values = 'log_SalePrice', \n",
    "                         aggfunc = np.median).plot(kind='bar',ylim=(11,12.5))\n",
    "print(train.ExterCond.value_counts())\n",
    "print(train.ExterCond.isnull().sum())"
   ]
  },
  {
   "cell_type": "code",
   "execution_count": 245,
   "metadata": {},
   "outputs": [
    {
     "name": "stdout",
     "output_type": "stream",
     "text": [
      "(1448, 153)\n"
     ]
    }
   ],
   "source": [
    "train = pd.concat([train, pd.get_dummies(train.ExterCond, drop_first = True)], axis=1)\n",
    "train = train.drop('ExterCond', axis=1)\n",
    "print(train.shape)"
   ]
  },
  {
   "cell_type": "code",
   "execution_count": 246,
   "metadata": {},
   "outputs": [
    {
     "name": "stdout",
     "output_type": "stream",
     "text": [
      "(1459, 149)\n"
     ]
    }
   ],
   "source": [
    "test = pd.concat([test, pd.get_dummies(test.ExterCond, drop_first = True)], axis=1)\n",
    "test = test.drop('ExterCond', axis=1)\n",
    "print(test.shape)"
   ]
  },
  {
   "cell_type": "markdown",
   "metadata": {},
   "source": [
    "## Foundation"
   ]
  },
  {
   "cell_type": "code",
   "execution_count": 247,
   "metadata": {},
   "outputs": [
    {
     "name": "stdout",
     "output_type": "stream",
     "text": [
      "PConc     644\n",
      "CBlock    627\n",
      "BrkTil    144\n",
      "Slab       24\n",
      "Stone       6\n",
      "Wood        3\n",
      "Name: Foundation, dtype: int64\n",
      "0\n"
     ]
    },
    {
     "data": {
      "image/png": "[encoded data removed]",
      "text/plain": [
       "<Figure size 432x288 with 1 Axes>"
      ]
     },
     "metadata": {
      "needs_background": "light"
     },
     "output_type": "display_data"
    }
   ],
   "source": [
    "train.pivot_table(index='Foundation', \n",
    "                         values = 'log_SalePrice', \n",
    "                         aggfunc = np.median).plot(kind='bar',ylim=(11,12.5))\n",
    "print(train.Foundation.value_counts())\n",
    "print(train.Foundation.isnull().sum())"
   ]
  },
  {
   "cell_type": "code",
   "execution_count": 248,
   "metadata": {},
   "outputs": [
    {
     "name": "stdout",
     "output_type": "stream",
     "text": [
      "0    804\n",
      "1    644\n",
      "Name: Foundation, dtype: int64\n"
     ]
    }
   ],
   "source": [
    "def f(x):\n",
    " return 1 if x == 'PConc' else 0\n",
    "train['Foundation'] = train['Foundation'].apply(f)\n",
    "print(train.Foundation.value_counts())   "
   ]
  },
  {
   "cell_type": "code",
   "execution_count": 249,
   "metadata": {},
   "outputs": [
    {
     "name": "stdout",
     "output_type": "stream",
     "text": [
      "0    798\n",
      "1    661\n",
      "Name: Foundation, dtype: int64\n"
     ]
    }
   ],
   "source": [
    "def g(x):\n",
    " return 1 if x == 'PConc' else 0\n",
    "test['Foundation'] = test['Foundation'].apply(g)\n",
    "print(test.Foundation.value_counts())   "
   ]
  },
  {
   "cell_type": "markdown",
   "metadata": {},
   "source": [
    "## BsmtQual"
   ]
  },
  {
   "cell_type": "code",
   "execution_count": 250,
   "metadata": {},
   "outputs": [],
   "source": [
    "train['BsmtQual'] = train['BsmtQual'].fillna(value=train.mode()['BsmtQual'][0])"
   ]
  },
  {
   "cell_type": "code",
   "execution_count": 251,
   "metadata": {},
   "outputs": [],
   "source": [
    "test['BsmtQual'] = test['BsmtQual'].fillna(value=test.mode()['BsmtQual'][0])"
   ]
  },
  {
   "cell_type": "code",
   "execution_count": 252,
   "metadata": {},
   "outputs": [
    {
     "name": "stdout",
     "output_type": "stream",
     "text": [
      "TA    681\n",
      "Gd    614\n",
      "Ex    118\n",
      "Fa     35\n",
      "Name: BsmtQual, dtype: int64\n",
      "0\n"
     ]
    },
    {
     "data": {
      "image/png": "[encoded data removed]",
      "text/plain": [
       "<Figure size 432x288 with 1 Axes>"
      ]
     },
     "metadata": {
      "needs_background": "light"
     },
     "output_type": "display_data"
    }
   ],
   "source": [
    "train.pivot_table(index='BsmtQual', \n",
    "                         values = 'log_SalePrice', \n",
    "                         aggfunc = np.median).plot(kind='bar',ylim=(11,12.5))\n",
    "print(train.BsmtQual.value_counts())\n",
    "print(train.BsmtQual.isnull().sum())"
   ]
  },
  {
   "cell_type": "code",
   "execution_count": 253,
   "metadata": {},
   "outputs": [
    {
     "name": "stdout",
     "output_type": "stream",
     "text": [
      "(1448, 155)\n"
     ]
    }
   ],
   "source": [
    "train = pd.concat([train, pd.get_dummies(train.BsmtQual, drop_first = True)], axis=1)\n",
    "train = train.drop('BsmtQual', axis=1)\n",
    "print(train.shape)"
   ]
  },
  {
   "cell_type": "code",
   "execution_count": 254,
   "metadata": {},
   "outputs": [
    {
     "name": "stdout",
     "output_type": "stream",
     "text": [
      "(1459, 151)\n"
     ]
    }
   ],
   "source": [
    "test = pd.concat([test, pd.get_dummies(test.BsmtQual, drop_first = True)], axis=1)\n",
    "test = test.drop('BsmtQual', axis=1)\n",
    "print(test.shape)"
   ]
  },
  {
   "cell_type": "markdown",
   "metadata": {},
   "source": [
    "## BsmtCond"
   ]
  },
  {
   "cell_type": "code",
   "execution_count": 255,
   "metadata": {},
   "outputs": [],
   "source": [
    "train['BsmtCond'] = train['BsmtCond'].fillna(value=train.mode()['BsmtCond'][0])\n",
    "test['BsmtCond'] = test['BsmtCond'].fillna(value=test.mode()['BsmtCond'][0])"
   ]
  },
  {
   "cell_type": "code",
   "execution_count": 256,
   "metadata": {},
   "outputs": [
    {
     "name": "stdout",
     "output_type": "stream",
     "text": [
      "TA    1336\n",
      "Gd      65\n",
      "Fa      45\n",
      "Po       2\n",
      "Name: BsmtCond, dtype: int64\n",
      "0\n"
     ]
    },
    {
     "data": {
      "image/png": "[encoded data removed]",
      "text/plain": [
       "<Figure size 432x288 with 1 Axes>"
      ]
     },
     "metadata": {
      "needs_background": "light"
     },
     "output_type": "display_data"
    }
   ],
   "source": [
    "train.pivot_table(index='BsmtCond', \n",
    "                         values = 'log_SalePrice', \n",
    "                         aggfunc = np.median).plot(kind='bar',ylim=(11,12.5))\n",
    "print(train.BsmtCond.value_counts())\n",
    "print(train.BsmtCond.isnull().sum())"
   ]
  },
  {
   "cell_type": "code",
   "execution_count": 257,
   "metadata": {},
   "outputs": [
    {
     "name": "stdout",
     "output_type": "stream",
     "text": [
      "(1448, 157)\n"
     ]
    }
   ],
   "source": [
    "train = pd.concat([train, pd.get_dummies(train.BsmtCond, drop_first = True)], axis=1)\n",
    "train = train.drop('BsmtCond', axis=1)\n",
    "print(train.shape)"
   ]
  },
  {
   "cell_type": "code",
   "execution_count": 258,
   "metadata": {},
   "outputs": [
    {
     "name": "stdout",
     "output_type": "stream",
     "text": [
      "(1459, 153)\n"
     ]
    }
   ],
   "source": [
    "test = pd.concat([test, pd.get_dummies(test.BsmtCond, drop_first = True)], axis=1)\n",
    "test = test.drop('BsmtCond', axis=1)\n",
    "print(test.shape)"
   ]
  },
  {
   "cell_type": "markdown",
   "metadata": {},
   "source": [
    "## BsmtExposure"
   ]
  },
  {
   "cell_type": "code",
   "execution_count": 259,
   "metadata": {},
   "outputs": [],
   "source": [
    "train['BsmtExposure'] = train['BsmtExposure'].fillna(value=train.mode()['BsmtExposure'][0])\n",
    "test['BsmtExposure'] = test['BsmtExposure'].fillna(value=test.mode()['BsmtExposure'][0])"
   ]
  },
  {
   "cell_type": "code",
   "execution_count": 260,
   "metadata": {},
   "outputs": [
    {
     "name": "stdout",
     "output_type": "stream",
     "text": [
      "No    986\n",
      "Av    220\n",
      "Gd    128\n",
      "Mn    114\n",
      "Name: BsmtExposure, dtype: int64\n",
      "0\n"
     ]
    },
    {
     "data": {
      "image/png": "[encoded data removed]",
      "text/plain": [
       "<Figure size 432x288 with 1 Axes>"
      ]
     },
     "metadata": {
      "needs_background": "light"
     },
     "output_type": "display_data"
    }
   ],
   "source": [
    "train.pivot_table(index='BsmtExposure', \n",
    "                         values = 'log_SalePrice', \n",
    "                         aggfunc = np.median).plot(kind='bar',ylim=(11,12.5))\n",
    "print(train.BsmtExposure.value_counts())\n",
    "print(train.BsmtExposure.isnull().sum())"
   ]
  },
  {
   "cell_type": "code",
   "execution_count": 261,
   "metadata": {},
   "outputs": [
    {
     "name": "stdout",
     "output_type": "stream",
     "text": [
      "(1448, 159)\n"
     ]
    }
   ],
   "source": [
    "train = pd.concat([train, pd.get_dummies(train.BsmtExposure, drop_first = True)], axis=1)\n",
    "train = train.drop('BsmtExposure', axis=1)\n",
    "print(train.shape)"
   ]
  },
  {
   "cell_type": "code",
   "execution_count": 262,
   "metadata": {},
   "outputs": [
    {
     "name": "stdout",
     "output_type": "stream",
     "text": [
      "(1459, 155)\n"
     ]
    }
   ],
   "source": [
    "test = pd.concat([test, pd.get_dummies(test.BsmtExposure, drop_first = True)], axis=1)\n",
    "test = test.drop('BsmtExposure', axis=1)\n",
    "print(test.shape)"
   ]
  },
  {
   "cell_type": "markdown",
   "metadata": {},
   "source": [
    "## BsmtFinType1"
   ]
  },
  {
   "cell_type": "code",
   "execution_count": 263,
   "metadata": {},
   "outputs": [],
   "source": [
    "train['BsmtFinType1'] = train['BsmtFinType1'].fillna(value='No Basement')\n",
    "test['BsmtFinType1'] = test['BsmtFinType1'].fillna(value='No Basement')"
   ]
  },
  {
   "cell_type": "code",
   "execution_count": 264,
   "metadata": {},
   "outputs": [
    {
     "name": "stdout",
     "output_type": "stream",
     "text": [
      "Unf            427\n",
      "GLQ            415\n",
      "ALQ            218\n",
      "BLQ            147\n",
      "Rec            131\n",
      "LwQ             73\n",
      "No Basement     37\n",
      "Name: BsmtFinType1, dtype: int64\n",
      "0\n"
     ]
    },
    {
     "data": {
      "image/png": "[encoded data removed]",
      "text/plain": [
       "<Figure size 432x288 with 1 Axes>"
      ]
     },
     "metadata": {
      "needs_background": "light"
     },
     "output_type": "display_data"
    }
   ],
   "source": [
    "train.pivot_table(index='BsmtFinType1', \n",
    "                         values = 'log_SalePrice', \n",
    "                         aggfunc = np.median).plot(kind='bar',ylim=(11,12.5))\n",
    "print(train.BsmtFinType1.value_counts())\n",
    "print(train.BsmtFinType1.isnull().sum())"
   ]
  },
  {
   "cell_type": "code",
   "execution_count": 265,
   "metadata": {},
   "outputs": [
    {
     "name": "stdout",
     "output_type": "stream",
     "text": [
      "(1448, 164)\n"
     ]
    }
   ],
   "source": [
    "train = pd.concat([train, pd.get_dummies(train.BsmtFinType1, drop_first = True)], axis=1)\n",
    "train = train.drop('BsmtFinType1', axis=1)\n",
    "print(train.shape)"
   ]
  },
  {
   "cell_type": "code",
   "execution_count": 266,
   "metadata": {},
   "outputs": [
    {
     "name": "stdout",
     "output_type": "stream",
     "text": [
      "(1459, 160)\n"
     ]
    }
   ],
   "source": [
    "test = pd.concat([test, pd.get_dummies(test.BsmtFinType1, drop_first = True)], axis=1)\n",
    "test = test.drop('BsmtFinType1', axis=1)\n",
    "print(test.shape)"
   ]
  },
  {
   "cell_type": "markdown",
   "metadata": {},
   "source": [
    "## BsmtFinType2"
   ]
  },
  {
   "cell_type": "code",
   "execution_count": 267,
   "metadata": {},
   "outputs": [
    {
     "data": {
      "text/plain": [
       "(1448, 163)"
      ]
     },
     "execution_count": 267,
     "metadata": {},
     "output_type": "execute_result"
    }
   ],
   "source": [
    "train = train.drop('BsmtFinType2', axis=1)\n",
    "train.shape"
   ]
  },
  {
   "cell_type": "code",
   "execution_count": 268,
   "metadata": {},
   "outputs": [
    {
     "data": {
      "text/plain": [
       "(1459, 159)"
      ]
     },
     "execution_count": 268,
     "metadata": {},
     "output_type": "execute_result"
    }
   ],
   "source": [
    "test = test.drop('BsmtFinType2', axis=1)\n",
    "test.shape"
   ]
  },
  {
   "cell_type": "markdown",
   "metadata": {},
   "source": [
    "## Heating"
   ]
  },
  {
   "cell_type": "code",
   "execution_count": 269,
   "metadata": {},
   "outputs": [
    {
     "name": "stdout",
     "output_type": "stream",
     "text": [
      "(1448, 162)\n"
     ]
    }
   ],
   "source": [
    "# Drop Heating\n",
    "train = train.drop('Heating', axis=1)\n",
    "print(train.shape)"
   ]
  },
  {
   "cell_type": "code",
   "execution_count": 270,
   "metadata": {},
   "outputs": [
    {
     "name": "stdout",
     "output_type": "stream",
     "text": [
      "(1459, 158)\n"
     ]
    }
   ],
   "source": [
    "test = test.drop('Heating', axis=1)\n",
    "print(test.shape)"
   ]
  },
  {
   "cell_type": "markdown",
   "metadata": {},
   "source": [
    "## HeatingQC"
   ]
  },
  {
   "cell_type": "code",
   "execution_count": 271,
   "metadata": {},
   "outputs": [
    {
     "name": "stdout",
     "output_type": "stream",
     "text": [
      "Ex    734\n",
      "TA    425\n",
      "Gd    239\n",
      "Fa     49\n",
      "Po      1\n",
      "Name: HeatingQC, dtype: int64\n",
      "0\n"
     ]
    },
    {
     "data": {
      "image/png": "[encoded data removed]",
      "text/plain": [
       "<Figure size 432x288 with 1 Axes>"
      ]
     },
     "metadata": {
      "needs_background": "light"
     },
     "output_type": "display_data"
    }
   ],
   "source": [
    "train.pivot_table(index='HeatingQC', \n",
    "                         values = 'log_SalePrice', \n",
    "                         aggfunc = np.median).plot(kind='bar',ylim=(11,12.5))\n",
    "print(train.HeatingQC.value_counts())\n",
    "print(train.HeatingQC.isnull().sum())"
   ]
  },
  {
   "cell_type": "code",
   "execution_count": 272,
   "metadata": {},
   "outputs": [
    {
     "name": "stdout",
     "output_type": "stream",
     "text": [
      "(1448, 165)\n"
     ]
    }
   ],
   "source": [
    "train = pd.concat([train, pd.get_dummies(train.HeatingQC, drop_first = True)], axis=1)\n",
    "train = train.drop('HeatingQC', axis=1)\n",
    "print(train.shape)"
   ]
  },
  {
   "cell_type": "code",
   "execution_count": 273,
   "metadata": {},
   "outputs": [
    {
     "name": "stdout",
     "output_type": "stream",
     "text": [
      "(1459, 161)\n"
     ]
    }
   ],
   "source": [
    "test = pd.concat([test, pd.get_dummies(test.HeatingQC, drop_first = True)], axis=1)\n",
    "test = test.drop('HeatingQC', axis=1)\n",
    "print(test.shape)"
   ]
  },
  {
   "cell_type": "markdown",
   "metadata": {},
   "source": [
    "## CentralAir"
   ]
  },
  {
   "cell_type": "code",
   "execution_count": 274,
   "metadata": {},
   "outputs": [
    {
     "name": "stdout",
     "output_type": "stream",
     "text": [
      "Y    1354\n",
      "N      94\n",
      "Name: CentralAir, dtype: int64\n",
      "0\n"
     ]
    },
    {
     "data": {
      "image/png": "[encoded data removed]",
      "text/plain": [
       "<Figure size 432x288 with 1 Axes>"
      ]
     },
     "metadata": {
      "needs_background": "light"
     },
     "output_type": "display_data"
    }
   ],
   "source": [
    "train.pivot_table(index='CentralAir', \n",
    "                         values = 'log_SalePrice', \n",
    "                         aggfunc = np.median).plot(kind='bar',ylim=(11,12.5))\n",
    "print(train.CentralAir.value_counts())\n",
    "print(train.CentralAir.isnull().sum())"
   ]
  },
  {
   "cell_type": "code",
   "execution_count": 275,
   "metadata": {},
   "outputs": [
    {
     "name": "stdout",
     "output_type": "stream",
     "text": [
      "1    1354\n",
      "0      94\n",
      "Name: CentralAir, dtype: int64\n",
      "(1448, 165)\n"
     ]
    }
   ],
   "source": [
    "def f(x):\n",
    " return 1 if x == 'Y' else 0\n",
    "train['CentralAir'] = train['CentralAir'].apply(f)\n",
    "print(train.CentralAir.value_counts())  \n",
    "print(train.shape)"
   ]
  },
  {
   "cell_type": "code",
   "execution_count": 276,
   "metadata": {},
   "outputs": [
    {
     "name": "stdout",
     "output_type": "stream",
     "text": [
      "1    1358\n",
      "0     101\n",
      "Name: CentralAir, dtype: int64\n",
      "(1459, 161)\n"
     ]
    }
   ],
   "source": [
    "def g(x):\n",
    " return 1 if x == 'Y' else 0\n",
    "test['CentralAir'] = test['CentralAir'].apply(g)\n",
    "print(test.CentralAir.value_counts())\n",
    "print(test.shape)"
   ]
  },
  {
   "cell_type": "markdown",
   "metadata": {},
   "source": [
    "## Electrical"
   ]
  },
  {
   "cell_type": "code",
   "execution_count": 277,
   "metadata": {},
   "outputs": [
    {
     "name": "stdout",
     "output_type": "stream",
     "text": [
      "SBrkr    1323\n",
      "FuseA      93\n",
      "FuseF      27\n",
      "FuseP       3\n",
      "Mix         1\n",
      "Name: Electrical, dtype: int64\n",
      "1\n"
     ]
    },
    {
     "data": {
      "image/png": "[encoded data removed]",
      "text/plain": [
       "<Figure size 432x288 with 1 Axes>"
      ]
     },
     "metadata": {
      "needs_background": "light"
     },
     "output_type": "display_data"
    }
   ],
   "source": [
    "train.pivot_table(index='Electrical', \n",
    "                         values = 'log_SalePrice', \n",
    "                         aggfunc = np.median).plot(kind='bar',ylim=(11,12.5))\n",
    "print(train.Electrical.value_counts())\n",
    "print(train.Electrical.isnull().sum())"
   ]
  },
  {
   "cell_type": "code",
   "execution_count": 278,
   "metadata": {},
   "outputs": [
    {
     "name": "stdout",
     "output_type": "stream",
     "text": [
      "1    1323\n",
      "0     125\n",
      "Name: Electrical, dtype: int64\n",
      "(1448, 165)\n"
     ]
    }
   ],
   "source": [
    "def f(x):\n",
    " return 1 if x == 'SBrkr' else 0\n",
    "train['Electrical'] = train['Electrical'].apply(f)\n",
    "print(train.Electrical.value_counts())   \n",
    "print(train.shape)"
   ]
  },
  {
   "cell_type": "code",
   "execution_count": 279,
   "metadata": {},
   "outputs": [
    {
     "name": "stdout",
     "output_type": "stream",
     "text": [
      "1    1323\n",
      "0     125\n",
      "Name: Electrical, dtype: int64\n",
      "(1448, 165)\n"
     ]
    }
   ],
   "source": [
    "def g(x):\n",
    " return 1 if x == 'SBrkr' else 0\n",
    "test['Electrical'] = test['Electrical'].apply(g)\n",
    "print(train.Electrical.value_counts())   \n",
    "print(train.shape)"
   ]
  },
  {
   "cell_type": "markdown",
   "metadata": {},
   "source": [
    "## KitchenQual"
   ]
  },
  {
   "cell_type": "code",
   "execution_count": 280,
   "metadata": {},
   "outputs": [
    {
     "name": "stdout",
     "output_type": "stream",
     "text": [
      "TA    729\n",
      "Gd    583\n",
      "Ex     97\n",
      "Fa     39\n",
      "Name: KitchenQual, dtype: int64\n",
      "0\n"
     ]
    },
    {
     "data": {
      "image/png": "[encoded data removed]",
      "text/plain": [
       "<Figure size 432x288 with 1 Axes>"
      ]
     },
     "metadata": {
      "needs_background": "light"
     },
     "output_type": "display_data"
    }
   ],
   "source": [
    "train.pivot_table(index='KitchenQual', \n",
    "                         values = 'log_SalePrice', \n",
    "                         aggfunc = np.median).plot(kind='bar',ylim=(11,12.5))\n",
    "print(train.KitchenQual.value_counts())\n",
    "print(train.KitchenQual.isnull().sum())"
   ]
  },
  {
   "cell_type": "code",
   "execution_count": 281,
   "metadata": {},
   "outputs": [
    {
     "name": "stdout",
     "output_type": "stream",
     "text": [
      "(1448, 167)\n"
     ]
    }
   ],
   "source": [
    "train = pd.concat([train, pd.get_dummies(train.KitchenQual, drop_first = True)], axis=1)\n",
    "train = train.drop('KitchenQual', axis=1)\n",
    "print(train.shape)"
   ]
  },
  {
   "cell_type": "code",
   "execution_count": 282,
   "metadata": {},
   "outputs": [
    {
     "name": "stdout",
     "output_type": "stream",
     "text": [
      "(1459, 163)\n"
     ]
    }
   ],
   "source": [
    "test = pd.concat([test, pd.get_dummies(test.KitchenQual, drop_first = True)], axis=1)\n",
    "test = test.drop('KitchenQual', axis=1)\n",
    "print(test.shape)"
   ]
  },
  {
   "cell_type": "markdown",
   "metadata": {},
   "source": [
    "## Functional"
   ]
  },
  {
   "cell_type": "code",
   "execution_count": 283,
   "metadata": {},
   "outputs": [
    {
     "name": "stdout",
     "output_type": "stream",
     "text": [
      "Typ     1349\n",
      "Min2      34\n",
      "Min1      31\n",
      "Maj1      14\n",
      "Mod       14\n",
      "Maj2       5\n",
      "Sev        1\n",
      "Name: Functional, dtype: int64\n",
      "0\n"
     ]
    },
    {
     "data": {
      "image/png": "[encoded data removed]",
      "text/plain": [
       "<Figure size 432x288 with 1 Axes>"
      ]
     },
     "metadata": {
      "needs_background": "light"
     },
     "output_type": "display_data"
    }
   ],
   "source": [
    "train.pivot_table(index='Functional', \n",
    "                         values = 'log_SalePrice', \n",
    "                         aggfunc = np.median).plot(kind='bar',ylim=(11,12.5))\n",
    "print(train.Functional.value_counts())\n",
    "print(train.Functional.isnull().sum())"
   ]
  },
  {
   "cell_type": "code",
   "execution_count": 284,
   "metadata": {},
   "outputs": [
    {
     "name": "stdout",
     "output_type": "stream",
     "text": [
      "0    1448\n",
      "Name: Electrical, dtype: int64\n",
      "(1448, 167)\n"
     ]
    }
   ],
   "source": [
    "def f(x):\n",
    " return 1 if x == 'Typ' else 0\n",
    "train['Electrical'] = train['Electrical'].apply(f)\n",
    "print(train.Electrical.value_counts())   \n",
    "print(train.shape)"
   ]
  },
  {
   "cell_type": "code",
   "execution_count": 285,
   "metadata": {},
   "outputs": [
    {
     "name": "stdout",
     "output_type": "stream",
     "text": [
      "0    1459\n",
      "Name: Electrical, dtype: int64\n",
      "(1459, 163)\n"
     ]
    }
   ],
   "source": [
    "def g(x):\n",
    " return 1 if x == 'Typ' else 0\n",
    "test['Electrical'] = test['Electrical'].apply(g)\n",
    "print(test.Electrical.value_counts())   \n",
    "print(test.shape)"
   ]
  },
  {
   "cell_type": "markdown",
   "metadata": {},
   "source": [
    "## FireplaceQu"
   ]
  },
  {
   "cell_type": "code",
   "execution_count": 286,
   "metadata": {},
   "outputs": [],
   "source": [
    "train['FireplaceQu'] = train['FireplaceQu'].fillna(value='No Fireplace')\n",
    "test['FireplaceQu'] = test['FireplaceQu'].fillna(value='No Fireplace')"
   ]
  },
  {
   "cell_type": "code",
   "execution_count": 287,
   "metadata": {},
   "outputs": [
    {
     "name": "stdout",
     "output_type": "stream",
     "text": [
      "No Fireplace    688\n",
      "Gd              373\n",
      "TA              310\n",
      "Fa               33\n",
      "Ex               24\n",
      "Po               20\n",
      "Name: FireplaceQu, dtype: int64\n",
      "0\n"
     ]
    },
    {
     "data": {
      "image/png": "[encoded data removed]",
      "text/plain": [
       "<Figure size 432x288 with 1 Axes>"
      ]
     },
     "metadata": {
      "needs_background": "light"
     },
     "output_type": "display_data"
    }
   ],
   "source": [
    "train.pivot_table(index='FireplaceQu', \n",
    "                         values = 'log_SalePrice', \n",
    "                         aggfunc = np.median).plot(kind='bar',ylim=(11,12.5))\n",
    "print(train.FireplaceQu.value_counts())\n",
    "print(train.FireplaceQu.isnull().sum())"
   ]
  },
  {
   "cell_type": "code",
   "execution_count": 288,
   "metadata": {},
   "outputs": [
    {
     "name": "stdout",
     "output_type": "stream",
     "text": [
      "(1448, 171)\n"
     ]
    }
   ],
   "source": [
    "train = pd.concat([train, pd.get_dummies(train.FireplaceQu, drop_first = True)], axis=1)\n",
    "train = train.drop('FireplaceQu', axis=1)\n",
    "print(train.shape)"
   ]
  },
  {
   "cell_type": "code",
   "execution_count": 289,
   "metadata": {},
   "outputs": [
    {
     "name": "stdout",
     "output_type": "stream",
     "text": [
      "(1459, 167)\n"
     ]
    }
   ],
   "source": [
    "test = pd.concat([test, pd.get_dummies(test.FireplaceQu, drop_first = True)], axis=1)\n",
    "test = test.drop('FireplaceQu', axis=1)\n",
    "print(test.shape)"
   ]
  },
  {
   "cell_type": "markdown",
   "metadata": {},
   "source": [
    "## GarageType"
   ]
  },
  {
   "cell_type": "code",
   "execution_count": 290,
   "metadata": {},
   "outputs": [],
   "source": [
    "train['GarageType'] = train['GarageType'].fillna(value='No Garage')\n",
    "test['GarageType'] = test['GarageType'].fillna(value='No Garage')"
   ]
  },
  {
   "cell_type": "code",
   "execution_count": 291,
   "metadata": {},
   "outputs": [
    {
     "name": "stdout",
     "output_type": "stream",
     "text": [
      "Attchd       864\n",
      "Detchd       384\n",
      "BuiltIn       87\n",
      "No Garage     80\n",
      "Basment       19\n",
      "CarPort        9\n",
      "2Types         5\n",
      "Name: GarageType, dtype: int64\n",
      "0\n"
     ]
    },
    {
     "data": {
      "image/png": "[encoded data removed]",
      "text/plain": [
       "<Figure size 432x288 with 1 Axes>"
      ]
     },
     "metadata": {
      "needs_background": "light"
     },
     "output_type": "display_data"
    }
   ],
   "source": [
    "train.pivot_table(index='GarageType', \n",
    "                         values = 'log_SalePrice', \n",
    "                         aggfunc = np.median).plot(kind='bar',ylim=(11,12.5))\n",
    "print(train.GarageType.value_counts())\n",
    "print(train.GarageType.isnull().sum())"
   ]
  },
  {
   "cell_type": "code",
   "execution_count": 292,
   "metadata": {},
   "outputs": [
    {
     "name": "stdout",
     "output_type": "stream",
     "text": [
      "(1448, 176)\n"
     ]
    }
   ],
   "source": [
    "train = pd.concat([train, pd.get_dummies(train.GarageType, drop_first = True)], axis=1)\n",
    "train = train.drop('GarageType', axis=1)\n",
    "print(train.shape)"
   ]
  },
  {
   "cell_type": "code",
   "execution_count": 293,
   "metadata": {},
   "outputs": [
    {
     "name": "stdout",
     "output_type": "stream",
     "text": [
      "(1459, 172)\n"
     ]
    }
   ],
   "source": [
    "test = pd.concat([test, pd.get_dummies(test.GarageType, drop_first = True)], axis=1)\n",
    "test = test.drop('GarageType', axis=1)\n",
    "print(test.shape)"
   ]
  },
  {
   "cell_type": "markdown",
   "metadata": {},
   "source": [
    "## GarageFinish"
   ]
  },
  {
   "cell_type": "code",
   "execution_count": 294,
   "metadata": {},
   "outputs": [],
   "source": [
    "train['GarageFinish'] = train['GarageFinish'].fillna(value='No Garage')\n",
    "test['GarageFinish'] = test['GarageFinish'].fillna(value='No Garage')"
   ]
  },
  {
   "cell_type": "code",
   "execution_count": 295,
   "metadata": {},
   "outputs": [
    {
     "name": "stdout",
     "output_type": "stream",
     "text": [
      "Unf          603\n",
      "RFn          418\n",
      "Fin          347\n",
      "No Garage     80\n",
      "Name: GarageFinish, dtype: int64\n",
      "0\n"
     ]
    },
    {
     "data": {
      "image/png": "[encoded data removed]",
      "text/plain": [
       "<Figure size 432x288 with 1 Axes>"
      ]
     },
     "metadata": {
      "needs_background": "light"
     },
     "output_type": "display_data"
    }
   ],
   "source": [
    "train.pivot_table(index='GarageFinish', \n",
    "                         values = 'log_SalePrice', \n",
    "                         aggfunc = np.median).plot(kind='bar',ylim=(11,12.5))\n",
    "print(train.GarageFinish.value_counts())\n",
    "print(train.GarageFinish.isnull().sum())"
   ]
  },
  {
   "cell_type": "code",
   "execution_count": 296,
   "metadata": {},
   "outputs": [
    {
     "name": "stdout",
     "output_type": "stream",
     "text": [
      "(1448, 178)\n"
     ]
    }
   ],
   "source": [
    "train = pd.concat([train, pd.get_dummies(train.GarageFinish, drop_first = True)], axis=1)\n",
    "train = train.drop('GarageFinish', axis=1)\n",
    "print(train.shape)"
   ]
  },
  {
   "cell_type": "code",
   "execution_count": 297,
   "metadata": {},
   "outputs": [
    {
     "name": "stdout",
     "output_type": "stream",
     "text": [
      "(1459, 174)\n"
     ]
    }
   ],
   "source": [
    "test = pd.concat([test, pd.get_dummies(test.GarageFinish, drop_first = True)], axis=1)\n",
    "test = test.drop('GarageFinish', axis=1)\n",
    "print(test.shape)"
   ]
  },
  {
   "cell_type": "markdown",
   "metadata": {},
   "source": [
    "## GarageQual"
   ]
  },
  {
   "cell_type": "code",
   "execution_count": 298,
   "metadata": {},
   "outputs": [],
   "source": [
    "train = train.drop('GarageQual', axis = 1)"
   ]
  },
  {
   "cell_type": "code",
   "execution_count": 299,
   "metadata": {},
   "outputs": [],
   "source": [
    "test = test.drop('GarageQual', axis = 1)"
   ]
  },
  {
   "cell_type": "code",
   "execution_count": 300,
   "metadata": {},
   "outputs": [
    {
     "data": {
      "text/plain": [
       "(1448, 177)"
      ]
     },
     "execution_count": 300,
     "metadata": {},
     "output_type": "execute_result"
    }
   ],
   "source": [
    "train.shape"
   ]
  },
  {
   "cell_type": "markdown",
   "metadata": {},
   "source": [
    "## GarageCond"
   ]
  },
  {
   "cell_type": "code",
   "execution_count": 301,
   "metadata": {},
   "outputs": [
    {
     "name": "stdout",
     "output_type": "stream",
     "text": [
      "(1448, 176)\n"
     ]
    }
   ],
   "source": [
    "train = train.drop('GarageCond', axis = 1)\n",
    "print(train.shape)"
   ]
  },
  {
   "cell_type": "code",
   "execution_count": 302,
   "metadata": {},
   "outputs": [
    {
     "name": "stdout",
     "output_type": "stream",
     "text": [
      "(1459, 172)\n"
     ]
    }
   ],
   "source": [
    "test = test.drop('GarageCond', axis = 1)\n",
    "print(test.shape)"
   ]
  },
  {
   "cell_type": "markdown",
   "metadata": {},
   "source": [
    "## PavedDrive"
   ]
  },
  {
   "cell_type": "code",
   "execution_count": 303,
   "metadata": {},
   "outputs": [
    {
     "name": "stdout",
     "output_type": "stream",
     "text": [
      "Y    1329\n",
      "N      89\n",
      "P      30\n",
      "Name: PavedDrive, dtype: int64\n",
      "0\n"
     ]
    },
    {
     "data": {
      "image/png": "[encoded data removed]",
      "text/plain": [
       "<Figure size 432x288 with 1 Axes>"
      ]
     },
     "metadata": {
      "needs_background": "light"
     },
     "output_type": "display_data"
    }
   ],
   "source": [
    "train.pivot_table(index='PavedDrive', \n",
    "                         values = 'log_SalePrice', \n",
    "                         aggfunc = np.median).plot(kind='bar',ylim=(11,12.5))\n",
    "print(train.PavedDrive.value_counts())\n",
    "print(train.PavedDrive.isnull().sum())"
   ]
  },
  {
   "cell_type": "code",
   "execution_count": 304,
   "metadata": {},
   "outputs": [
    {
     "name": "stdout",
     "output_type": "stream",
     "text": [
      "(1448, 177)\n"
     ]
    }
   ],
   "source": [
    "train = pd.concat([train, pd.get_dummies(train.PavedDrive, drop_first = True)], axis=1)\n",
    "train = train.drop('PavedDrive', axis=1)\n",
    "print(train.shape)"
   ]
  },
  {
   "cell_type": "code",
   "execution_count": 305,
   "metadata": {},
   "outputs": [
    {
     "name": "stdout",
     "output_type": "stream",
     "text": [
      "(1459, 173)\n"
     ]
    }
   ],
   "source": [
    "test = pd.concat([test, pd.get_dummies(test.PavedDrive, drop_first = True)], axis=1)\n",
    "test = test.drop('PavedDrive', axis=1)\n",
    "print(test.shape)"
   ]
  },
  {
   "cell_type": "markdown",
   "metadata": {},
   "source": [
    "## PoolQC"
   ]
  },
  {
   "cell_type": "code",
   "execution_count": 306,
   "metadata": {},
   "outputs": [
    {
     "name": "stdout",
     "output_type": "stream",
     "text": [
      "(1448, 176)\n"
     ]
    }
   ],
   "source": [
    "train = train.drop('PoolQC', axis = 1)\n",
    "print(train.shape)"
   ]
  },
  {
   "cell_type": "code",
   "execution_count": 307,
   "metadata": {},
   "outputs": [
    {
     "name": "stdout",
     "output_type": "stream",
     "text": [
      "(1459, 172)\n"
     ]
    }
   ],
   "source": [
    "test = test.drop('PoolQC', axis = 1)\n",
    "print(test.shape)"
   ]
  },
  {
   "cell_type": "markdown",
   "metadata": {},
   "source": [
    "## Fence"
   ]
  },
  {
   "cell_type": "code",
   "execution_count": 308,
   "metadata": {},
   "outputs": [],
   "source": [
    "train['Fence'] = train['Fence'].fillna(value='No Fence')\n",
    "test['Fence'] = test['Fence'].fillna(value='No Fence')"
   ]
  },
  {
   "cell_type": "code",
   "execution_count": 309,
   "metadata": {
    "scrolled": true
   },
   "outputs": [
    {
     "name": "stdout",
     "output_type": "stream",
     "text": [
      "No Fence    1169\n",
      "MnPrv        156\n",
      "GdPrv         59\n",
      "GdWo          53\n",
      "MnWw          11\n",
      "Name: Fence, dtype: int64\n",
      "0\n"
     ]
    },
    {
     "data": {
      "image/png": "[encoded data removed]",
      "text/plain": [
       "<Figure size 432x288 with 1 Axes>"
      ]
     },
     "metadata": {
      "needs_background": "light"
     },
     "output_type": "display_data"
    }
   ],
   "source": [
    "train.pivot_table(index='Fence', \n",
    "                         values = 'log_SalePrice', \n",
    "                         aggfunc = np.median).plot(kind='bar',ylim=(11,12.5))\n",
    "print(train.Fence.value_counts())\n",
    "print(train.Fence.isnull().sum())"
   ]
  },
  {
   "cell_type": "code",
   "execution_count": 310,
   "metadata": {},
   "outputs": [
    {
     "name": "stdout",
     "output_type": "stream",
     "text": [
      "(1448, 179)\n"
     ]
    }
   ],
   "source": [
    "train = pd.concat([train, pd.get_dummies(train.Fence, drop_first = True)], axis=1)\n",
    "train = train.drop('Fence', axis=1)\n",
    "print(train.shape)"
   ]
  },
  {
   "cell_type": "code",
   "execution_count": 311,
   "metadata": {},
   "outputs": [
    {
     "name": "stdout",
     "output_type": "stream",
     "text": [
      "(1459, 175)\n"
     ]
    }
   ],
   "source": [
    "test = pd.concat([test, pd.get_dummies(test.Fence, drop_first = True)], axis=1)\n",
    "test = test.drop('Fence', axis=1)\n",
    "print(test.shape)"
   ]
  },
  {
   "cell_type": "markdown",
   "metadata": {},
   "source": [
    "## MiscFeature"
   ]
  },
  {
   "cell_type": "code",
   "execution_count": 312,
   "metadata": {},
   "outputs": [
    {
     "name": "stdout",
     "output_type": "stream",
     "text": [
      "(1448, 178)\n"
     ]
    }
   ],
   "source": [
    "train = train.drop('MiscFeature', axis=1)\n",
    "print(train.shape)"
   ]
  },
  {
   "cell_type": "code",
   "execution_count": 313,
   "metadata": {},
   "outputs": [
    {
     "name": "stdout",
     "output_type": "stream",
     "text": [
      "(1459, 174)\n"
     ]
    }
   ],
   "source": [
    "test = test.drop('MiscFeature', axis=1)\n",
    "print(test.shape)"
   ]
  },
  {
   "cell_type": "markdown",
   "metadata": {},
   "source": [
    "## SaleType"
   ]
  },
  {
   "cell_type": "code",
   "execution_count": 314,
   "metadata": {},
   "outputs": [
    {
     "name": "stdout",
     "output_type": "stream",
     "text": [
      "WD       1259\n",
      "New       119\n",
      "COD        43\n",
      "ConLD       8\n",
      "ConLI       5\n",
      "ConLw       5\n",
      "CWD         4\n",
      "Oth         3\n",
      "Con         2\n",
      "Name: SaleType, dtype: int64\n",
      "0\n"
     ]
    },
    {
     "data": {
      "image/png": "[encoded data removed]",
      "text/plain": [
       "<Figure size 432x288 with 1 Axes>"
      ]
     },
     "metadata": {
      "needs_background": "light"
     },
     "output_type": "display_data"
    }
   ],
   "source": [
    "train.pivot_table(index='SaleType', \n",
    "                         values = 'log_SalePrice', \n",
    "                         aggfunc = np.median).plot(kind='bar',ylim=(11,12.5))\n",
    "print(train.SaleType.value_counts())\n",
    "print(train.SaleType.isnull().sum())"
   ]
  },
  {
   "cell_type": "code",
   "execution_count": 315,
   "metadata": {},
   "outputs": [
    {
     "name": "stdout",
     "output_type": "stream",
     "text": [
      "0    1329\n",
      "1     119\n",
      "Name: SaleType, dtype: int64\n",
      "(1448, 178)\n"
     ]
    }
   ],
   "source": [
    "def f(x):\n",
    " return 1 if x == 'New' else 0\n",
    "train['SaleType'] = train['SaleType'].apply(f)\n",
    "print(train.SaleType.value_counts()) \n",
    "print(train.shape)"
   ]
  },
  {
   "cell_type": "code",
   "execution_count": 316,
   "metadata": {},
   "outputs": [
    {
     "name": "stdout",
     "output_type": "stream",
     "text": [
      "0    1329\n",
      "1     119\n",
      "Name: SaleType, dtype: int64\n",
      "(1448, 178)\n"
     ]
    }
   ],
   "source": [
    "def g(x):\n",
    " return 1 if x == 'New' else 0\n",
    "test['SaleType'] = test['SaleType'].apply(g)\n",
    "print(train.SaleType.value_counts()) \n",
    "print(train.shape)"
   ]
  },
  {
   "cell_type": "markdown",
   "metadata": {},
   "source": [
    "## SaleCondition"
   ]
  },
  {
   "cell_type": "code",
   "execution_count": 317,
   "metadata": {},
   "outputs": [
    {
     "name": "stdout",
     "output_type": "stream",
     "text": [
      "Normal     1190\n",
      "Partial     122\n",
      "Abnorml     100\n",
      "Family       20\n",
      "Alloca       12\n",
      "AdjLand       4\n",
      "Name: SaleCondition, dtype: int64\n",
      "0\n"
     ]
    },
    {
     "data": {
      "image/png": "[encoded data removed]",
      "text/plain": [
       "<Figure size 432x288 with 1 Axes>"
      ]
     },
     "metadata": {
      "needs_background": "light"
     },
     "output_type": "display_data"
    }
   ],
   "source": [
    "train.pivot_table(index='SaleCondition', \n",
    "                         values = 'log_SalePrice', \n",
    "                         aggfunc = np.median).plot(kind='bar',ylim=(11,12.5))\n",
    "print(train.SaleCondition.value_counts())\n",
    "print(train.SaleCondition.isnull().sum())"
   ]
  },
  {
   "cell_type": "code",
   "execution_count": 318,
   "metadata": {},
   "outputs": [
    {
     "name": "stdout",
     "output_type": "stream",
     "text": [
      "(1448, 182)\n"
     ]
    }
   ],
   "source": [
    "train = pd.concat([train, pd.get_dummies(train.SaleCondition, drop_first = True)], axis=1)\n",
    "train = train.drop('SaleCondition', axis=1)\n",
    "print(train.shape)"
   ]
  },
  {
   "cell_type": "code",
   "execution_count": 319,
   "metadata": {},
   "outputs": [
    {
     "name": "stdout",
     "output_type": "stream",
     "text": [
      "(1459, 178)\n"
     ]
    }
   ],
   "source": [
    "test = pd.concat([test, pd.get_dummies(test.SaleCondition, drop_first = True)], axis=1)\n",
    "test = test.drop('SaleCondition', axis=1)\n",
    "print(test.shape)"
   ]
  },
  {
   "cell_type": "markdown",
   "metadata": {},
   "source": [
    "## MoSold"
   ]
  },
  {
   "cell_type": "code",
   "execution_count": 320,
   "metadata": {},
   "outputs": [
    {
     "name": "stdout",
     "output_type": "stream",
     "text": [
      "6     250\n",
      "7     233\n",
      "5     204\n",
      "4     141\n",
      "8     119\n",
      "3     105\n",
      "10     88\n",
      "11     77\n",
      "9      63\n",
      "12     59\n",
      "1      57\n",
      "2      52\n",
      "Name: MoSold, dtype: int64\n",
      "0\n"
     ]
    },
    {
     "data": {
      "image/png": "[encoded data removed]",
      "text/plain": [
       "<Figure size 432x288 with 1 Axes>"
      ]
     },
     "metadata": {
      "needs_background": "light"
     },
     "output_type": "display_data"
    }
   ],
   "source": [
    "train.pivot_table(index='MoSold', \n",
    "                         values = 'log_SalePrice', \n",
    "                         aggfunc = np.median).plot(kind='bar',ylim=(11,12.5))\n",
    "print(train.MoSold.value_counts())\n",
    "print(train.MoSold.isnull().sum())"
   ]
  },
  {
   "cell_type": "code",
   "execution_count": 321,
   "metadata": {},
   "outputs": [
    {
     "name": "stdout",
     "output_type": "stream",
     "text": [
      "(1448, 192)\n"
     ]
    }
   ],
   "source": [
    "train = pd.concat([train, pd.get_dummies(train.MoSold, drop_first = True)], axis=1)\n",
    "train = train.drop('MoSold', axis=1)\n",
    "print(train.shape)"
   ]
  },
  {
   "cell_type": "code",
   "execution_count": 322,
   "metadata": {},
   "outputs": [
    {
     "name": "stdout",
     "output_type": "stream",
     "text": [
      "(1459, 188)\n"
     ]
    }
   ],
   "source": [
    "test = pd.concat([test, pd.get_dummies(test.MoSold, drop_first = True)], axis=1)\n",
    "test = test.drop('MoSold', axis=1)\n",
    "print(test.shape)"
   ]
  },
  {
   "cell_type": "markdown",
   "metadata": {},
   "source": [
    "## YrSold"
   ]
  },
  {
   "cell_type": "code",
   "execution_count": 323,
   "metadata": {},
   "outputs": [
    {
     "name": "stdout",
     "output_type": "stream",
     "text": [
      "2009    335\n",
      "2007    326\n",
      "2006    314\n",
      "2008    298\n",
      "2010    175\n",
      "Name: YrSold, dtype: int64\n",
      "0\n"
     ]
    },
    {
     "data": {
      "image/png": "[encoded data removed]",
      "text/plain": [
       "<Figure size 432x288 with 1 Axes>"
      ]
     },
     "metadata": {
      "needs_background": "light"
     },
     "output_type": "display_data"
    }
   ],
   "source": [
    "train.pivot_table(index='YrSold', \n",
    "                         values = 'log_SalePrice', \n",
    "                         aggfunc = np.median).plot(kind='bar',ylim=(11,12.5))\n",
    "print(train.YrSold.value_counts())\n",
    "print(train.YrSold.isnull().sum())"
   ]
  },
  {
   "cell_type": "code",
   "execution_count": 324,
   "metadata": {},
   "outputs": [
    {
     "name": "stdout",
     "output_type": "stream",
     "text": [
      "(1448, 195)\n"
     ]
    }
   ],
   "source": [
    "train = pd.concat([train, pd.get_dummies(train.YrSold, drop_first = True)], axis=1)\n",
    "train = train.drop('YrSold', axis=1)\n",
    "print(train.shape)"
   ]
  },
  {
   "cell_type": "code",
   "execution_count": 325,
   "metadata": {},
   "outputs": [
    {
     "name": "stdout",
     "output_type": "stream",
     "text": [
      "(1459, 191)\n"
     ]
    }
   ],
   "source": [
    "test = pd.concat([test, pd.get_dummies(test.YrSold, drop_first = True)], axis=1)\n",
    "test = test.drop('YrSold', axis=1)\n",
    "print(test.shape)"
   ]
  },
  {
   "cell_type": "code",
   "execution_count": 326,
   "metadata": {},
   "outputs": [
    {
     "data": {
      "text/html": [
       "<div>\n",
       "<style scoped>\n",
       "    .dataframe tbody tr th:only-of-type {\n",
       "        vertical-align: middle;\n",
       "    }\n",
       "\n",
       "    .dataframe tbody tr th {\n",
       "        vertical-align: top;\n",
       "    }\n",
       "\n",
       "    .dataframe thead th {\n",
       "        text-align: right;\n",
       "    }\n",
       "</style>\n",
       "<table border=\"1\" class=\"dataframe\">\n",
       "  <thead>\n",
       "    <tr style=\"text-align: right;\">\n",
       "      <th></th>\n",
       "      <th>0</th>\n",
       "    </tr>\n",
       "  </thead>\n",
       "  <tbody>\n",
       "    <tr>\n",
       "      <th>2010</th>\n",
       "      <td>0</td>\n",
       "    </tr>\n",
       "    <tr>\n",
       "      <th>RH</th>\n",
       "      <td>0</td>\n",
       "    </tr>\n",
       "    <tr>\n",
       "      <th>MeadowV</th>\n",
       "      <td>0</td>\n",
       "    </tr>\n",
       "    <tr>\n",
       "      <th>IDOTRR</th>\n",
       "      <td>0</td>\n",
       "    </tr>\n",
       "    <tr>\n",
       "      <th>Gilbert</th>\n",
       "      <td>0</td>\n",
       "    </tr>\n",
       "    <tr>\n",
       "      <th>Edwards</th>\n",
       "      <td>0</td>\n",
       "    </tr>\n",
       "    <tr>\n",
       "      <th>Crawfor</th>\n",
       "      <td>0</td>\n",
       "    </tr>\n",
       "    <tr>\n",
       "      <th>CollgCr</th>\n",
       "      <td>0</td>\n",
       "    </tr>\n",
       "    <tr>\n",
       "      <th>ClearCr</th>\n",
       "      <td>0</td>\n",
       "    </tr>\n",
       "    <tr>\n",
       "      <th>BrkSide</th>\n",
       "      <td>0</td>\n",
       "    </tr>\n",
       "    <tr>\n",
       "      <th>BrDale</th>\n",
       "      <td>0</td>\n",
       "    </tr>\n",
       "    <tr>\n",
       "      <th>Blueste</th>\n",
       "      <td>0</td>\n",
       "    </tr>\n",
       "    <tr>\n",
       "      <th>Sev</th>\n",
       "      <td>0</td>\n",
       "    </tr>\n",
       "    <tr>\n",
       "      <th>Mod</th>\n",
       "      <td>0</td>\n",
       "    </tr>\n",
       "    <tr>\n",
       "      <th>Inside</th>\n",
       "      <td>0</td>\n",
       "    </tr>\n",
       "    <tr>\n",
       "      <th>FR3</th>\n",
       "      <td>0</td>\n",
       "    </tr>\n",
       "    <tr>\n",
       "      <th>FR2</th>\n",
       "      <td>0</td>\n",
       "    </tr>\n",
       "    <tr>\n",
       "      <th>CulDSac</th>\n",
       "      <td>0</td>\n",
       "    </tr>\n",
       "    <tr>\n",
       "      <th>Lvl</th>\n",
       "      <td>0</td>\n",
       "    </tr>\n",
       "    <tr>\n",
       "      <th>Low</th>\n",
       "      <td>0</td>\n",
       "    </tr>\n",
       "    <tr>\n",
       "      <th>HLS</th>\n",
       "      <td>0</td>\n",
       "    </tr>\n",
       "    <tr>\n",
       "      <th>Pave</th>\n",
       "      <td>0</td>\n",
       "    </tr>\n",
       "    <tr>\n",
       "      <th>RM</th>\n",
       "      <td>0</td>\n",
       "    </tr>\n",
       "    <tr>\n",
       "      <th>Mitchel</th>\n",
       "      <td>0</td>\n",
       "    </tr>\n",
       "    <tr>\n",
       "      <th>NAmes</th>\n",
       "      <td>0</td>\n",
       "    </tr>\n",
       "    <tr>\n",
       "      <th>NPkVill</th>\n",
       "      <td>0</td>\n",
       "    </tr>\n",
       "    <tr>\n",
       "      <th>Feedr</th>\n",
       "      <td>0</td>\n",
       "    </tr>\n",
       "    <tr>\n",
       "      <th>Duplex</th>\n",
       "      <td>0</td>\n",
       "    </tr>\n",
       "    <tr>\n",
       "      <th>2fmCon</th>\n",
       "      <td>0</td>\n",
       "    </tr>\n",
       "    <tr>\n",
       "      <th>RRNn</th>\n",
       "      <td>0</td>\n",
       "    </tr>\n",
       "    <tr>\n",
       "      <th>...</th>\n",
       "      <td>...</td>\n",
       "    </tr>\n",
       "    <tr>\n",
       "      <th>SLvl</th>\n",
       "      <td>0</td>\n",
       "    </tr>\n",
       "    <tr>\n",
       "      <th>SFoyer</th>\n",
       "      <td>0</td>\n",
       "    </tr>\n",
       "    <tr>\n",
       "      <th>2Story</th>\n",
       "      <td>0</td>\n",
       "    </tr>\n",
       "    <tr>\n",
       "      <th>2.5Unf</th>\n",
       "      <td>0</td>\n",
       "    </tr>\n",
       "    <tr>\n",
       "      <th>2.5Fin</th>\n",
       "      <td>0</td>\n",
       "    </tr>\n",
       "    <tr>\n",
       "      <th>VinylSd</th>\n",
       "      <td>0</td>\n",
       "    </tr>\n",
       "    <tr>\n",
       "      <th>Wd Sdng</th>\n",
       "      <td>0</td>\n",
       "    </tr>\n",
       "    <tr>\n",
       "      <th>WdShing</th>\n",
       "      <td>0</td>\n",
       "    </tr>\n",
       "    <tr>\n",
       "      <th>Gd</th>\n",
       "      <td>0</td>\n",
       "    </tr>\n",
       "    <tr>\n",
       "      <th>GLQ</th>\n",
       "      <td>0</td>\n",
       "    </tr>\n",
       "    <tr>\n",
       "      <th>BLQ</th>\n",
       "      <td>0</td>\n",
       "    </tr>\n",
       "    <tr>\n",
       "      <th>No</th>\n",
       "      <td>0</td>\n",
       "    </tr>\n",
       "    <tr>\n",
       "      <th>Mn</th>\n",
       "      <td>0</td>\n",
       "    </tr>\n",
       "    <tr>\n",
       "      <th>Gd</th>\n",
       "      <td>0</td>\n",
       "    </tr>\n",
       "    <tr>\n",
       "      <th>TA</th>\n",
       "      <td>0</td>\n",
       "    </tr>\n",
       "    <tr>\n",
       "      <th>Po</th>\n",
       "      <td>0</td>\n",
       "    </tr>\n",
       "    <tr>\n",
       "      <th>Gd</th>\n",
       "      <td>0</td>\n",
       "    </tr>\n",
       "    <tr>\n",
       "      <th>TA</th>\n",
       "      <td>0</td>\n",
       "    </tr>\n",
       "    <tr>\n",
       "      <th>Fa</th>\n",
       "      <td>0</td>\n",
       "    </tr>\n",
       "    <tr>\n",
       "      <th>BrkFace</th>\n",
       "      <td>0</td>\n",
       "    </tr>\n",
       "    <tr>\n",
       "      <th>TA</th>\n",
       "      <td>0</td>\n",
       "    </tr>\n",
       "    <tr>\n",
       "      <th>Po</th>\n",
       "      <td>0</td>\n",
       "    </tr>\n",
       "    <tr>\n",
       "      <th>Gd</th>\n",
       "      <td>0</td>\n",
       "    </tr>\n",
       "    <tr>\n",
       "      <th>Fa</th>\n",
       "      <td>0</td>\n",
       "    </tr>\n",
       "    <tr>\n",
       "      <th>TA</th>\n",
       "      <td>0</td>\n",
       "    </tr>\n",
       "    <tr>\n",
       "      <th>Gd</th>\n",
       "      <td>0</td>\n",
       "    </tr>\n",
       "    <tr>\n",
       "      <th>Fa</th>\n",
       "      <td>0</td>\n",
       "    </tr>\n",
       "    <tr>\n",
       "      <th>Stone</th>\n",
       "      <td>0</td>\n",
       "    </tr>\n",
       "    <tr>\n",
       "      <th>None</th>\n",
       "      <td>0</td>\n",
       "    </tr>\n",
       "    <tr>\n",
       "      <th>Id</th>\n",
       "      <td>0</td>\n",
       "    </tr>\n",
       "  </tbody>\n",
       "</table>\n",
       "<p>195 rows × 1 columns</p>\n",
       "</div>"
      ],
      "text/plain": [
       "         0\n",
       "2010     0\n",
       "RH       0\n",
       "MeadowV  0\n",
       "IDOTRR   0\n",
       "Gilbert  0\n",
       "Edwards  0\n",
       "Crawfor  0\n",
       "CollgCr  0\n",
       "ClearCr  0\n",
       "BrkSide  0\n",
       "BrDale   0\n",
       "Blueste  0\n",
       "Sev      0\n",
       "Mod      0\n",
       "Inside   0\n",
       "FR3      0\n",
       "FR2      0\n",
       "CulDSac  0\n",
       "Lvl      0\n",
       "Low      0\n",
       "HLS      0\n",
       "Pave     0\n",
       "RM       0\n",
       "Mitchel  0\n",
       "NAmes    0\n",
       "NPkVill  0\n",
       "Feedr    0\n",
       "Duplex   0\n",
       "2fmCon   0\n",
       "RRNn     0\n",
       "...     ..\n",
       "SLvl     0\n",
       "SFoyer   0\n",
       "2Story   0\n",
       "2.5Unf   0\n",
       "2.5Fin   0\n",
       "VinylSd  0\n",
       "Wd Sdng  0\n",
       "WdShing  0\n",
       "Gd       0\n",
       "GLQ      0\n",
       "BLQ      0\n",
       "No       0\n",
       "Mn       0\n",
       "Gd       0\n",
       "TA       0\n",
       "Po       0\n",
       "Gd       0\n",
       "TA       0\n",
       "Fa       0\n",
       "BrkFace  0\n",
       "TA       0\n",
       "Po       0\n",
       "Gd       0\n",
       "Fa       0\n",
       "TA       0\n",
       "Gd       0\n",
       "Fa       0\n",
       "Stone    0\n",
       "None     0\n",
       "Id       0\n",
       "\n",
       "[195 rows x 1 columns]"
      ]
     },
     "execution_count": 326,
     "metadata": {},
     "output_type": "execute_result"
    }
   ],
   "source": [
    "null_vals = pd.DataFrame(train.isnull().sum().sort_values(ascending=False))\n",
    "null_vals"
   ]
  },
  {
   "cell_type": "code",
   "execution_count": 327,
   "metadata": {},
   "outputs": [
    {
     "name": "stdout",
     "output_type": "stream",
     "text": [
      "(1448, 195)\n",
      "(1459, 191)\n",
      "Stored 'train' (DataFrame)\n",
      "Stored 'test' (DataFrame)\n"
     ]
    }
   ],
   "source": [
    "print(train.shape)\n",
    "print(test.shape)\n",
    "%store train\n",
    "%store test"
   ]
  }
 ],
 "metadata": {
  "kernelspec": {
   "display_name": "Python 3",
   "language": "python",
   "name": "python3"
  },
  "language_info": {
   "codemirror_mode": {
    "name": "ipython",
    "version": 3
   },
   "file_extension": ".py",
   "mimetype": "text/x-python",
   "name": "python",
   "nbconvert_exporter": "python",
   "pygments_lexer": "ipython3",
   "version": "3.7.3"
  }
 },
 "nbformat": 4,
 "nbformat_minor": 2
}
