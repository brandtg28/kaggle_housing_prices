{
 "cells": [
  {
   "cell_type": "code",
   "execution_count": 23,
   "metadata": {},
   "outputs": [],
   "source": [
    "import pandas as pd\n",
    "import numpy as np\n",
    "%matplotlib inline\n",
    "import matplotlib.pyplot as plt\n",
    "from sklearn.linear_model import LinearRegression"
   ]
  },
  {
   "cell_type": "code",
   "execution_count": 24,
   "metadata": {},
   "outputs": [
    {
     "data": {
      "text/html": [
       "<div>\n",
       "<style scoped>\n",
       "    .dataframe tbody tr th:only-of-type {\n",
       "        vertical-align: middle;\n",
       "    }\n",
       "\n",
       "    .dataframe tbody tr th {\n",
       "        vertical-align: top;\n",
       "    }\n",
       "\n",
       "    .dataframe thead th {\n",
       "        text-align: right;\n",
       "    }\n",
       "</style>\n",
       "<table border=\"1\" class=\"dataframe\">\n",
       "  <thead>\n",
       "    <tr style=\"text-align: right;\">\n",
       "      <th></th>\n",
       "      <th>Id</th>\n",
       "      <th>MSSubClass</th>\n",
       "      <th>MSZoning</th>\n",
       "      <th>LotFrontage</th>\n",
       "      <th>LotArea</th>\n",
       "      <th>Street</th>\n",
       "      <th>Alley</th>\n",
       "      <th>LotShape</th>\n",
       "      <th>LandContour</th>\n",
       "      <th>Utilities</th>\n",
       "      <th>...</th>\n",
       "      <th>MiscFeature</th>\n",
       "      <th>MoSold</th>\n",
       "      <th>YrSold</th>\n",
       "      <th>SaleType</th>\n",
       "      <th>SaleCondition</th>\n",
       "      <th>SalePrice</th>\n",
       "      <th>log_SalePrice</th>\n",
       "      <th>TotalSF_log</th>\n",
       "      <th>TotalBath</th>\n",
       "      <th>BsmtTotalBath</th>\n",
       "    </tr>\n",
       "  </thead>\n",
       "  <tbody>\n",
       "    <tr>\n",
       "      <th>0</th>\n",
       "      <td>1</td>\n",
       "      <td>60</td>\n",
       "      <td>RL</td>\n",
       "      <td>65.0</td>\n",
       "      <td>9.041922</td>\n",
       "      <td>Pave</td>\n",
       "      <td>NaN</td>\n",
       "      <td>Reg</td>\n",
       "      <td>Lvl</td>\n",
       "      <td>AllPub</td>\n",
       "      <td>...</td>\n",
       "      <td>NaN</td>\n",
       "      <td>2</td>\n",
       "      <td>2008</td>\n",
       "      <td>WD</td>\n",
       "      <td>Normal</td>\n",
       "      <td>208500</td>\n",
       "      <td>12.247694</td>\n",
       "      <td>7.444249</td>\n",
       "      <td>2.5</td>\n",
       "      <td>1.0</td>\n",
       "    </tr>\n",
       "    <tr>\n",
       "      <th>1</th>\n",
       "      <td>2</td>\n",
       "      <td>20</td>\n",
       "      <td>RL</td>\n",
       "      <td>80.0</td>\n",
       "      <td>9.169518</td>\n",
       "      <td>Pave</td>\n",
       "      <td>NaN</td>\n",
       "      <td>Reg</td>\n",
       "      <td>Lvl</td>\n",
       "      <td>AllPub</td>\n",
       "      <td>...</td>\n",
       "      <td>NaN</td>\n",
       "      <td>5</td>\n",
       "      <td>2007</td>\n",
       "      <td>WD</td>\n",
       "      <td>Normal</td>\n",
       "      <td>181500</td>\n",
       "      <td>12.109011</td>\n",
       "      <td>7.140453</td>\n",
       "      <td>2.0</td>\n",
       "      <td>0.5</td>\n",
       "    </tr>\n",
       "    <tr>\n",
       "      <th>2</th>\n",
       "      <td>3</td>\n",
       "      <td>60</td>\n",
       "      <td>RL</td>\n",
       "      <td>68.0</td>\n",
       "      <td>9.328123</td>\n",
       "      <td>Pave</td>\n",
       "      <td>NaN</td>\n",
       "      <td>IR1</td>\n",
       "      <td>Lvl</td>\n",
       "      <td>AllPub</td>\n",
       "      <td>...</td>\n",
       "      <td>NaN</td>\n",
       "      <td>9</td>\n",
       "      <td>2008</td>\n",
       "      <td>WD</td>\n",
       "      <td>Normal</td>\n",
       "      <td>223500</td>\n",
       "      <td>12.317167</td>\n",
       "      <td>7.487734</td>\n",
       "      <td>2.5</td>\n",
       "      <td>1.0</td>\n",
       "    </tr>\n",
       "    <tr>\n",
       "      <th>3</th>\n",
       "      <td>4</td>\n",
       "      <td>70</td>\n",
       "      <td>RL</td>\n",
       "      <td>60.0</td>\n",
       "      <td>9.164296</td>\n",
       "      <td>Pave</td>\n",
       "      <td>NaN</td>\n",
       "      <td>IR1</td>\n",
       "      <td>Lvl</td>\n",
       "      <td>AllPub</td>\n",
       "      <td>...</td>\n",
       "      <td>NaN</td>\n",
       "      <td>2</td>\n",
       "      <td>2006</td>\n",
       "      <td>WD</td>\n",
       "      <td>Abnorml</td>\n",
       "      <td>140000</td>\n",
       "      <td>11.849398</td>\n",
       "      <td>7.448334</td>\n",
       "      <td>1.0</td>\n",
       "      <td>1.0</td>\n",
       "    </tr>\n",
       "    <tr>\n",
       "      <th>4</th>\n",
       "      <td>5</td>\n",
       "      <td>60</td>\n",
       "      <td>RL</td>\n",
       "      <td>84.0</td>\n",
       "      <td>9.565214</td>\n",
       "      <td>Pave</td>\n",
       "      <td>NaN</td>\n",
       "      <td>IR1</td>\n",
       "      <td>Lvl</td>\n",
       "      <td>AllPub</td>\n",
       "      <td>...</td>\n",
       "      <td>NaN</td>\n",
       "      <td>12</td>\n",
       "      <td>2008</td>\n",
       "      <td>WD</td>\n",
       "      <td>Normal</td>\n",
       "      <td>250000</td>\n",
       "      <td>12.429216</td>\n",
       "      <td>7.695303</td>\n",
       "      <td>2.5</td>\n",
       "      <td>1.0</td>\n",
       "    </tr>\n",
       "  </tbody>\n",
       "</table>\n",
       "<p>5 rows × 71 columns</p>\n",
       "</div>"
      ],
      "text/plain": [
       "   Id MSSubClass MSZoning  LotFrontage   LotArea Street Alley LotShape  \\\n",
       "0   1         60       RL         65.0  9.041922   Pave   NaN      Reg   \n",
       "1   2         20       RL         80.0  9.169518   Pave   NaN      Reg   \n",
       "2   3         60       RL         68.0  9.328123   Pave   NaN      IR1   \n",
       "3   4         70       RL         60.0  9.164296   Pave   NaN      IR1   \n",
       "4   5         60       RL         84.0  9.565214   Pave   NaN      IR1   \n",
       "\n",
       "  LandContour Utilities  ... MiscFeature MoSold YrSold SaleType SaleCondition  \\\n",
       "0         Lvl    AllPub  ...         NaN      2   2008       WD        Normal   \n",
       "1         Lvl    AllPub  ...         NaN      5   2007       WD        Normal   \n",
       "2         Lvl    AllPub  ...         NaN      9   2008       WD        Normal   \n",
       "3         Lvl    AllPub  ...         NaN      2   2006       WD       Abnorml   \n",
       "4         Lvl    AllPub  ...         NaN     12   2008       WD        Normal   \n",
       "\n",
       "  SalePrice log_SalePrice  TotalSF_log  TotalBath  BsmtTotalBath  \n",
       "0    208500     12.247694     7.444249        2.5            1.0  \n",
       "1    181500     12.109011     7.140453        2.0            0.5  \n",
       "2    223500     12.317167     7.487734        2.5            1.0  \n",
       "3    140000     11.849398     7.448334        1.0            1.0  \n",
       "4    250000     12.429216     7.695303        2.5            1.0  \n",
       "\n",
       "[5 rows x 71 columns]"
      ]
     },
     "execution_count": 24,
     "metadata": {},
     "output_type": "execute_result"
    }
   ],
   "source": [
    "%store -r train\n",
    "%store -r test\n",
    "train.head()\n"
   ]
  },
  {
   "cell_type": "code",
   "execution_count": 25,
   "metadata": {},
   "outputs": [
    {
     "name": "stdout",
     "output_type": "stream",
     "text": [
      "(1453, 71)\n",
      "(1459, 69)\n"
     ]
    }
   ],
   "source": [
    "print(train.shape)\n",
    "print(test.shape)"
   ]
  },
  {
   "cell_type": "code",
   "execution_count": 26,
   "metadata": {},
   "outputs": [
    {
     "name": "stdout",
     "output_type": "stream",
     "text": [
      "(1453, 46)\n",
      "        MSSubClass MSZoning Street Alley LotShape LandContour Utilities  \\\n",
      "count         1453     1453   1453    91     1453        1453      1453   \n",
      "unique          15        5      2     2        4           4         2   \n",
      "top             20       RL   Pave  Grvl      Reg         Lvl    AllPub   \n",
      "freq           533     1145   1448    50      922        1310      1452   \n",
      "\n",
      "       LotConfig LandSlope Neighborhood  ... GarageQual GarageCond PavedDrive  \\\n",
      "count       1453      1453         1453  ...       1372       1372       1453   \n",
      "unique         5         3           25  ...          5          5          3   \n",
      "top       Inside       Gtl        NAmes  ...         TA         TA          Y   \n",
      "freq        1046      1378          224  ...       1304       1319       1333   \n",
      "\n",
      "       PoolQC  Fence MiscFeature MoSold YrSold SaleType SaleCondition  \n",
      "count       6    281          53   1453   1453     1453          1453  \n",
      "unique      3      4           4     12      5        9             6  \n",
      "top        Fa  MnPrv        Shed      6   2009       WD        Normal  \n",
      "freq        2    157          48    252    336     1264          1194  \n",
      "\n",
      "[4 rows x 46 columns]\n",
      "MSSubClass       object\n",
      "MSZoning         object\n",
      "Street           object\n",
      "Alley            object\n",
      "LotShape         object\n",
      "LandContour      object\n",
      "Utilities        object\n",
      "LotConfig        object\n",
      "LandSlope        object\n",
      "Neighborhood     object\n",
      "Condition1       object\n",
      "Condition2       object\n",
      "BldgType         object\n",
      "HouseStyle       object\n",
      "RoofStyle        object\n",
      "RoofMatl         object\n",
      "Exterior1st      object\n",
      "Exterior2nd      object\n",
      "MasVnrType       object\n",
      "ExterQual        object\n",
      "ExterCond        object\n",
      "Foundation       object\n",
      "BsmtQual         object\n",
      "BsmtCond         object\n",
      "BsmtExposure     object\n",
      "BsmtFinType1     object\n",
      "BsmtFinType2     object\n",
      "Heating          object\n",
      "HeatingQC        object\n",
      "CentralAir       object\n",
      "Electrical       object\n",
      "KitchenQual      object\n",
      "Functional       object\n",
      "FireplaceQu      object\n",
      "GarageType       object\n",
      "GarageFinish     object\n",
      "GarageQual       object\n",
      "GarageCond       object\n",
      "PavedDrive       object\n",
      "PoolQC           object\n",
      "Fence            object\n",
      "MiscFeature      object\n",
      "MoSold           object\n",
      "YrSold           object\n",
      "SaleType         object\n",
      "SaleCondition    object\n",
      "dtype: object\n"
     ]
    }
   ],
   "source": [
    "categorical_cols = train.select_dtypes(exclude=np.number)\n",
    "print(categorical_cols.shape)\n",
    "print(categorical_cols.describe())\n",
    "print(categorical_cols.dtypes)"
   ]
  },
  {
   "cell_type": "markdown",
   "metadata": {},
   "source": [
    "## MSSubClass"
   ]
  },
  {
   "cell_type": "code",
   "execution_count": 27,
   "metadata": {},
   "outputs": [
    {
     "name": "stdout",
     "output_type": "stream",
     "text": [
      "20     533\n",
      "60     297\n",
      "50     144\n",
      "120     87\n",
      "30      68\n",
      "160     63\n",
      "70      60\n",
      "80      58\n",
      "90      52\n",
      "190     29\n",
      "85      20\n",
      "75      16\n",
      "45      12\n",
      "180     10\n",
      "40       4\n",
      "Name: MSSubClass, dtype: int64\n",
      "0\n",
      "20     543\n",
      "60     276\n",
      "50     143\n",
      "120     95\n",
      "30      70\n",
      "70      68\n",
      "160     65\n",
      "80      60\n",
      "90      57\n",
      "190     31\n",
      "85      28\n",
      "180      7\n",
      "75       7\n",
      "45       6\n",
      "40       2\n",
      "150      1\n",
      "Name: MSSubClass, dtype: int64\n",
      "0\n"
     ]
    },
    {
     "data": {
      "image/png": "[encoded data removed]",
      "text/plain": [
       "<Figure size 432x288 with 1 Axes>"
      ]
     },
     "metadata": {
      "needs_background": "light"
     },
     "output_type": "display_data"
    }
   ],
   "source": [
    "train.pivot_table(index='MSSubClass', \n",
    "                         values = 'log_SalePrice', \n",
    "                         aggfunc = np.median).plot(kind='bar',ylim=(11,12.5))\n",
    "print(train.MSSubClass.value_counts())\n",
    "print(train.MSSubClass.isnull().sum())\n",
    "print(test.MSSubClass.value_counts())\n",
    "print(test.MSSubClass.isnull().sum())"
   ]
  },
  {
   "cell_type": "code",
   "execution_count": 28,
   "metadata": {},
   "outputs": [
    {
     "name": "stdout",
     "output_type": "stream",
     "text": [
      "20     543\n",
      "60     276\n",
      "50     143\n",
      "120     95\n",
      "30      70\n",
      "70      68\n",
      "160     66\n",
      "80      60\n",
      "90      57\n",
      "190     31\n",
      "85      28\n",
      "180      7\n",
      "75       7\n",
      "45       6\n",
      "40       2\n",
      "Name: MSSubClass, dtype: int64\n",
      "(1459, 69)\n"
     ]
    }
   ],
   "source": [
    "def g(x):\n",
    " return 160 if x == 150 else x\n",
    "test['MSSubClass'] = test['MSSubClass'].apply(g)\n",
    "print(test.MSSubClass.value_counts())   \n",
    "print(test.shape)"
   ]
  },
  {
   "cell_type": "code",
   "execution_count": 29,
   "metadata": {},
   "outputs": [
    {
     "name": "stdout",
     "output_type": "stream",
     "text": [
      "(1453, 84)\n"
     ]
    }
   ],
   "source": [
    "train = pd.concat([train, pd.get_dummies(train.MSSubClass, drop_first = True)], axis=1)\n",
    "train = train.drop('MSSubClass', axis=1)\n",
    "print(train.shape)"
   ]
  },
  {
   "cell_type": "code",
   "execution_count": 30,
   "metadata": {},
   "outputs": [
    {
     "name": "stdout",
     "output_type": "stream",
     "text": [
      "(1459, 82)\n"
     ]
    }
   ],
   "source": [
    "test = pd.concat([test, pd.get_dummies(test.MSSubClass, drop_first = True)], axis=1)\n",
    "test = test.drop('MSSubClass', axis=1)\n",
    "print(test.shape)"
   ]
  },
  {
   "cell_type": "markdown",
   "metadata": {},
   "source": [
    "## MSZoning"
   ]
  },
  {
   "cell_type": "code",
   "execution_count": 31,
   "metadata": {},
   "outputs": [],
   "source": [
    "test['MSZoning'] = test['MSZoning'].fillna(value='RL')"
   ]
  },
  {
   "cell_type": "code",
   "execution_count": 32,
   "metadata": {},
   "outputs": [
    {
     "name": "stdout",
     "output_type": "stream",
     "text": [
      "RL         1145\n",
      "RM          218\n",
      "FV           65\n",
      "RH           16\n",
      "C (all)       9\n",
      "Name: MSZoning, dtype: int64\n",
      "0\n",
      "RL         1118\n",
      "RM          242\n",
      "FV           74\n",
      "C (all)      15\n",
      "RH           10\n",
      "Name: MSZoning, dtype: int64\n",
      "0\n"
     ]
    },
    {
     "data": {
      "image/png": "[encoded data removed]",
      "text/plain": [
       "<Figure size 432x288 with 1 Axes>"
      ]
     },
     "metadata": {
      "needs_background": "light"
     },
     "output_type": "display_data"
    }
   ],
   "source": [
    "train.pivot_table(index='MSZoning', \n",
    "                         values = 'log_SalePrice', \n",
    "                         aggfunc = np.median).plot(kind='bar',ylim=(11,12.5))\n",
    "print(train.MSZoning.value_counts())\n",
    "print(train.MSZoning.isnull().sum())\n",
    "print(test.MSZoning.value_counts())\n",
    "print(test.MSZoning.isnull().sum())"
   ]
  },
  {
   "cell_type": "code",
   "execution_count": 33,
   "metadata": {},
   "outputs": [
    {
     "name": "stdout",
     "output_type": "stream",
     "text": [
      "(1453, 87)\n"
     ]
    }
   ],
   "source": [
    "train = pd.concat([train, pd.get_dummies(train.MSZoning, drop_first = True)], axis=1)\n",
    "train = train.drop('MSZoning', axis=1)\n",
    "print(train.shape)\n"
   ]
  },
  {
   "cell_type": "code",
   "execution_count": 34,
   "metadata": {},
   "outputs": [
    {
     "name": "stdout",
     "output_type": "stream",
     "text": [
      "(1459, 85)\n"
     ]
    }
   ],
   "source": [
    "test = pd.concat([test, pd.get_dummies(test.MSZoning, drop_first = True)], axis=1)\n",
    "test = test.drop('MSZoning', axis=1)\n",
    "print(test.shape)"
   ]
  },
  {
   "cell_type": "markdown",
   "metadata": {},
   "source": [
    "## Street"
   ]
  },
  {
   "cell_type": "code",
   "execution_count": 35,
   "metadata": {},
   "outputs": [
    {
     "name": "stdout",
     "output_type": "stream",
     "text": [
      "Pave    1448\n",
      "Grvl       5\n",
      "Name: Street, dtype: int64\n",
      "0\n",
      "Pave    1453\n",
      "Grvl       6\n",
      "Name: Street, dtype: int64\n",
      "0\n"
     ]
    },
    {
     "data": {
      "image/png": "[encoded data removed]",
      "text/plain": [
       "<Figure size 432x288 with 1 Axes>"
      ]
     },
     "metadata": {
      "needs_background": "light"
     },
     "output_type": "display_data"
    }
   ],
   "source": [
    "train.pivot_table(index='Street', \n",
    "                         values = 'log_SalePrice', \n",
    "                         aggfunc = np.median).plot(kind='bar',ylim=(11,12.5))\n",
    "print(train.Street.value_counts())\n",
    "print(train.Street.isnull().sum())\n",
    "print(test.Street.value_counts())\n",
    "print(test.Street.isnull().sum())"
   ]
  },
  {
   "cell_type": "code",
   "execution_count": 36,
   "metadata": {},
   "outputs": [
    {
     "name": "stdout",
     "output_type": "stream",
     "text": [
      "(1453, 87)\n"
     ]
    }
   ],
   "source": [
    "train = pd.concat([train, pd.get_dummies(train.Street, drop_first = True)], axis=1)\n",
    "train = train.drop('Street', axis=1)\n",
    "print(train.shape)"
   ]
  },
  {
   "cell_type": "code",
   "execution_count": 37,
   "metadata": {},
   "outputs": [
    {
     "name": "stdout",
     "output_type": "stream",
     "text": [
      "(1459, 85)\n"
     ]
    }
   ],
   "source": [
    "test = pd.concat([test, pd.get_dummies(test.Street, drop_first = True)], axis=1)\n",
    "test = test.drop('Street', axis=1)\n",
    "print(test.shape)"
   ]
  },
  {
   "cell_type": "markdown",
   "metadata": {},
   "source": [
    "## Alley"
   ]
  },
  {
   "cell_type": "code",
   "execution_count": 38,
   "metadata": {},
   "outputs": [
    {
     "name": "stdout",
     "output_type": "stream",
     "text": [
      "Grvl    50\n",
      "Pave    41\n",
      "Name: Alley, dtype: int64\n",
      "1362\n",
      "Grvl    70\n",
      "Pave    37\n",
      "Name: Alley, dtype: int64\n",
      "1352\n"
     ]
    },
    {
     "data": {
      "image/png": "[encoded data removed]",
      "text/plain": [
       "<Figure size 432x288 with 1 Axes>"
      ]
     },
     "metadata": {
      "needs_background": "light"
     },
     "output_type": "display_data"
    }
   ],
   "source": [
    "train.pivot_table(index='Alley', \n",
    "                         values = 'log_SalePrice', \n",
    "                         aggfunc = np.median).plot(kind='bar',ylim=(11,12.5))\n",
    "print(train.Alley.value_counts())\n",
    "print(train.Alley.isnull().sum())\n",
    "print(test.Alley.value_counts())\n",
    "print(test.Alley.isnull().sum())"
   ]
  },
  {
   "cell_type": "code",
   "execution_count": 39,
   "metadata": {},
   "outputs": [
    {
     "name": "stdout",
     "output_type": "stream",
     "text": [
      "(1453, 86)\n"
     ]
    }
   ],
   "source": [
    "train=train.drop('Alley', axis=1)\n",
    "print(train.shape)"
   ]
  },
  {
   "cell_type": "code",
   "execution_count": 40,
   "metadata": {},
   "outputs": [
    {
     "name": "stdout",
     "output_type": "stream",
     "text": [
      "(1459, 84)\n"
     ]
    }
   ],
   "source": [
    "test=test.drop('Alley', axis=1)\n",
    "print(test.shape)"
   ]
  },
  {
   "cell_type": "markdown",
   "metadata": {},
   "source": [
    "## LotShape"
   ]
  },
  {
   "cell_type": "code",
   "execution_count": 41,
   "metadata": {},
   "outputs": [
    {
     "name": "stdout",
     "output_type": "stream",
     "text": [
      "Reg    922\n",
      "IR1    483\n",
      "IR2     40\n",
      "IR3      8\n",
      "Name: LotShape, dtype: int64\n",
      "0\n",
      "Reg    934\n",
      "IR1    484\n",
      "IR2     35\n",
      "IR3      6\n",
      "Name: LotShape, dtype: int64\n",
      "0\n"
     ]
    },
    {
     "data": {
      "image/png": "[encoded data removed]",
      "text/plain": [
       "<Figure size 432x288 with 1 Axes>"
      ]
     },
     "metadata": {
      "needs_background": "light"
     },
     "output_type": "display_data"
    }
   ],
   "source": [
    "train.pivot_table(index='LotShape', \n",
    "                         values = 'log_SalePrice', \n",
    "                         aggfunc = np.median).plot(kind='bar',ylim=(11,12.5))\n",
    "print(train.LotShape.value_counts())\n",
    "print(train.LotShape.isnull().sum())\n",
    "print(test.LotShape.value_counts())\n",
    "print(test.LotShape.isnull().sum())"
   ]
  },
  {
   "cell_type": "code",
   "execution_count": 42,
   "metadata": {},
   "outputs": [
    {
     "name": "stdout",
     "output_type": "stream",
     "text": [
      "1    922\n",
      "0    531\n",
      "Name: LotShape, dtype: int64\n",
      "(1453, 86)\n"
     ]
    }
   ],
   "source": [
    "#Reducing to binary Regular vs Irregular\n",
    "def f(x):\n",
    " return 1 if x == 'Reg' else 0\n",
    "train['LotShape'] = train['LotShape'].apply(f)\n",
    "print(train.LotShape.value_counts())   \n",
    "print(train.shape)"
   ]
  },
  {
   "cell_type": "code",
   "execution_count": 43,
   "metadata": {},
   "outputs": [
    {
     "name": "stdout",
     "output_type": "stream",
     "text": [
      "1    934\n",
      "0    525\n",
      "Name: LotShape, dtype: int64\n",
      "(1459, 84)\n"
     ]
    }
   ],
   "source": [
    "def g(x):\n",
    " return 1 if x == 'Reg' else 0\n",
    "test['LotShape'] = test['LotShape'].apply(g)\n",
    "print(test.LotShape.value_counts())   \n",
    "print(test.shape)"
   ]
  },
  {
   "cell_type": "markdown",
   "metadata": {},
   "source": [
    "## LandContour"
   ]
  },
  {
   "cell_type": "code",
   "execution_count": 44,
   "metadata": {},
   "outputs": [
    {
     "name": "stdout",
     "output_type": "stream",
     "text": [
      "Lvl    1310\n",
      "Bnk      61\n",
      "HLS      49\n",
      "Low      33\n",
      "Name: LandContour, dtype: int64\n",
      "0\n",
      "Lvl    1311\n",
      "HLS      70\n",
      "Bnk      54\n",
      "Low      24\n",
      "Name: LandContour, dtype: int64\n",
      "0\n"
     ]
    },
    {
     "data": {
      "image/png": "[encoded data removed]",
      "text/plain": [
       "<Figure size 432x288 with 1 Axes>"
      ]
     },
     "metadata": {
      "needs_background": "light"
     },
     "output_type": "display_data"
    }
   ],
   "source": [
    "train.pivot_table(index='LandContour', \n",
    "                         values = 'log_SalePrice', \n",
    "                         aggfunc = np.median).plot(kind='bar',ylim=(11,12.5))\n",
    "print(train.LandContour.value_counts())\n",
    "print(train.LandContour.isnull().sum())\n",
    "print(test.LandContour.value_counts())\n",
    "print(test.LandContour.isnull().sum())"
   ]
  },
  {
   "cell_type": "code",
   "execution_count": 45,
   "metadata": {},
   "outputs": [
    {
     "name": "stdout",
     "output_type": "stream",
     "text": [
      "(1453, 88)\n"
     ]
    }
   ],
   "source": [
    "train = pd.concat([train, pd.get_dummies(train.LandContour, drop_first = True)], axis=1)\n",
    "train = train.drop('LandContour', axis=1)\n",
    "print(train.shape)"
   ]
  },
  {
   "cell_type": "code",
   "execution_count": 46,
   "metadata": {},
   "outputs": [
    {
     "name": "stdout",
     "output_type": "stream",
     "text": [
      "(1459, 86)\n"
     ]
    }
   ],
   "source": [
    "test = pd.concat([test, pd.get_dummies(test.LandContour, drop_first = True)], axis=1)\n",
    "test = test.drop('LandContour', axis=1)\n",
    "print(test.shape)"
   ]
  },
  {
   "cell_type": "markdown",
   "metadata": {},
   "source": [
    "## Utilities"
   ]
  },
  {
   "cell_type": "code",
   "execution_count": 47,
   "metadata": {},
   "outputs": [
    {
     "name": "stdout",
     "output_type": "stream",
     "text": [
      "AllPub    1452\n",
      "NoSeWa       1\n",
      "Name: Utilities, dtype: int64\n",
      "0\n"
     ]
    },
    {
     "data": {
      "image/png": "[encoded data removed]",
      "text/plain": [
       "<Figure size 432x288 with 1 Axes>"
      ]
     },
     "metadata": {
      "needs_background": "light"
     },
     "output_type": "display_data"
    }
   ],
   "source": [
    "train.pivot_table(index='Utilities', \n",
    "                         values = 'log_SalePrice', \n",
    "                         aggfunc = np.median).plot(kind='bar',ylim=(11,12.5))\n",
    "print(train.Utilities.value_counts())\n",
    "print(train.Utilities.isnull().sum())"
   ]
  },
  {
   "cell_type": "code",
   "execution_count": 48,
   "metadata": {},
   "outputs": [],
   "source": [
    "# dropping utilities"
   ]
  },
  {
   "cell_type": "code",
   "execution_count": 49,
   "metadata": {},
   "outputs": [
    {
     "name": "stdout",
     "output_type": "stream",
     "text": [
      "(1453, 87)\n"
     ]
    }
   ],
   "source": [
    "train = train.drop('Utilities', axis=1)\n",
    "print(train.shape)"
   ]
  },
  {
   "cell_type": "code",
   "execution_count": 50,
   "metadata": {},
   "outputs": [
    {
     "name": "stdout",
     "output_type": "stream",
     "text": [
      "(1459, 85)\n"
     ]
    }
   ],
   "source": [
    "test = test.drop('Utilities', axis=1)\n",
    "print(test.shape)"
   ]
  },
  {
   "cell_type": "markdown",
   "metadata": {},
   "source": [
    "## LotConfig"
   ]
  },
  {
   "cell_type": "code",
   "execution_count": 51,
   "metadata": {
    "scrolled": true
   },
   "outputs": [
    {
     "name": "stdout",
     "output_type": "stream",
     "text": [
      "Inside     1046\n",
      "Corner      262\n",
      "CulDSac      94\n",
      "FR2          47\n",
      "FR3           4\n",
      "Name: LotConfig, dtype: int64\n",
      "0\n",
      "Inside     1081\n",
      "Corner      248\n",
      "CulDSac      82\n",
      "FR2          38\n",
      "FR3          10\n",
      "Name: LotConfig, dtype: int64\n",
      "0\n"
     ]
    },
    {
     "data": {
      "image/png": "[encoded data removed]",
      "text/plain": [
       "<Figure size 432x288 with 1 Axes>"
      ]
     },
     "metadata": {
      "needs_background": "light"
     },
     "output_type": "display_data"
    }
   ],
   "source": [
    "train.pivot_table(index='LotConfig', \n",
    "                         values = 'log_SalePrice', \n",
    "                         aggfunc = np.median).plot(kind='bar',ylim=(11,12.5))\n",
    "print(train.LotConfig.value_counts())\n",
    "print(train.LotConfig.isnull().sum())\n",
    "print(test.LotConfig.value_counts())\n",
    "print(test.LotConfig.isnull().sum())"
   ]
  },
  {
   "cell_type": "code",
   "execution_count": 52,
   "metadata": {},
   "outputs": [
    {
     "name": "stdout",
     "output_type": "stream",
     "text": [
      "(1453, 90)\n"
     ]
    }
   ],
   "source": [
    "train = pd.concat([train, pd.get_dummies(train.LotConfig, drop_first = True)], axis=1)\n",
    "train = train.drop('LotConfig', axis=1)\n",
    "print(train.shape)"
   ]
  },
  {
   "cell_type": "code",
   "execution_count": 53,
   "metadata": {},
   "outputs": [
    {
     "name": "stdout",
     "output_type": "stream",
     "text": [
      "(1459, 88)\n"
     ]
    }
   ],
   "source": [
    "test = pd.concat([test, pd.get_dummies(test.LotConfig, drop_first = True)], axis=1)\n",
    "test = test.drop('LotConfig', axis=1)\n",
    "print(test.shape)"
   ]
  },
  {
   "cell_type": "markdown",
   "metadata": {},
   "source": [
    "## LandSlope"
   ]
  },
  {
   "cell_type": "code",
   "execution_count": 54,
   "metadata": {},
   "outputs": [
    {
     "name": "stdout",
     "output_type": "stream",
     "text": [
      "Gtl    1378\n",
      "Mod      63\n",
      "Sev      12\n",
      "Name: LandSlope, dtype: int64\n",
      "0\n",
      "Gtl    1396\n",
      "Mod      60\n",
      "Sev       3\n",
      "Name: LandSlope, dtype: int64\n",
      "0\n"
     ]
    },
    {
     "data": {
      "image/png": "[encoded data removed]",
      "text/plain": [
       "<Figure size 432x288 with 1 Axes>"
      ]
     },
     "metadata": {
      "needs_background": "light"
     },
     "output_type": "display_data"
    }
   ],
   "source": [
    "train.pivot_table(index='LandSlope', \n",
    "                         values = 'log_SalePrice', \n",
    "                         aggfunc = np.median).plot(kind='bar',ylim=(11,12.5))\n",
    "print(train.LandSlope.value_counts())\n",
    "print(train.LandSlope.isnull().sum())\n",
    "print(test.LandSlope.value_counts())\n",
    "print(test.LandSlope.isnull().sum())"
   ]
  },
  {
   "cell_type": "code",
   "execution_count": 55,
   "metadata": {},
   "outputs": [
    {
     "name": "stdout",
     "output_type": "stream",
     "text": [
      "(1453, 91)\n"
     ]
    }
   ],
   "source": [
    "train = pd.concat([train, pd.get_dummies(train.LandSlope, drop_first = True)], axis=1)\n",
    "train = train.drop('LandSlope', axis=1)\n",
    "print(train.shape)\n"
   ]
  },
  {
   "cell_type": "code",
   "execution_count": 56,
   "metadata": {},
   "outputs": [
    {
     "name": "stdout",
     "output_type": "stream",
     "text": [
      "(1459, 89)\n"
     ]
    }
   ],
   "source": [
    "test = pd.concat([test, pd.get_dummies(test.LandSlope, drop_first = True)], axis=1)\n",
    "test = test.drop('LandSlope', axis=1)\n",
    "print(test.shape)"
   ]
  },
  {
   "cell_type": "markdown",
   "metadata": {},
   "source": [
    "## Neighborhood"
   ]
  },
  {
   "cell_type": "code",
   "execution_count": 57,
   "metadata": {},
   "outputs": [
    {
     "name": "stdout",
     "output_type": "stream",
     "text": [
      "NAmes      224\n",
      "CollgCr    150\n",
      "OldTown    113\n",
      "Edwards     98\n",
      "Somerst     86\n",
      "Gilbert     79\n",
      "NridgHt     76\n",
      "Sawyer      74\n",
      "NWAmes      73\n",
      "SawyerW     59\n",
      "BrkSide     58\n",
      "Crawfor     51\n",
      "Mitchel     48\n",
      "NoRidge     41\n",
      "Timber      37\n",
      "IDOTRR      36\n",
      "ClearCr     28\n",
      "StoneBr     25\n",
      "SWISU       25\n",
      "MeadowV     17\n",
      "Blmngtn     17\n",
      "BrDale      16\n",
      "Veenker     11\n",
      "NPkVill      9\n",
      "Blueste      2\n",
      "Name: Neighborhood, dtype: int64\n",
      "0\n",
      "NAmes      218\n",
      "OldTown    126\n",
      "CollgCr    117\n",
      "Somerst     96\n",
      "Edwards     94\n",
      "NridgHt     89\n",
      "Gilbert     86\n",
      "Sawyer      77\n",
      "SawyerW     66\n",
      "Mitchel     65\n",
      "NWAmes      58\n",
      "IDOTRR      56\n",
      "Crawfor     52\n",
      "BrkSide     50\n",
      "Timber      34\n",
      "NoRidge     30\n",
      "StoneBr     26\n",
      "SWISU       23\n",
      "MeadowV     20\n",
      "ClearCr     16\n",
      "BrDale      14\n",
      "NPkVill     14\n",
      "Veenker     13\n",
      "Blmngtn     11\n",
      "Blueste      8\n",
      "Name: Neighborhood, dtype: int64\n",
      "0\n"
     ]
    },
    {
     "data": {
      "image/png": "[encoded data removed]",
      "text/plain": [
       "<Figure size 432x288 with 1 Axes>"
      ]
     },
     "metadata": {
      "needs_background": "light"
     },
     "output_type": "display_data"
    }
   ],
   "source": [
    "train.pivot_table(index='Neighborhood', \n",
    "                         values = 'log_SalePrice', \n",
    "                         aggfunc = np.median).plot(kind='bar',ylim=(11,12.5))\n",
    "print(train.Neighborhood.value_counts())\n",
    "print(train.Neighborhood.isnull().sum())\n",
    "print(test.Neighborhood.value_counts())\n",
    "print(test.Neighborhood.isnull().sum())"
   ]
  },
  {
   "cell_type": "code",
   "execution_count": 58,
   "metadata": {},
   "outputs": [
    {
     "name": "stdout",
     "output_type": "stream",
     "text": [
      "(1453, 114)\n"
     ]
    }
   ],
   "source": [
    "train = pd.concat([train, pd.get_dummies(train.Neighborhood, drop_first = True)], axis=1)\n",
    "train = train.drop('Neighborhood', axis=1)\n",
    "print(train.shape)"
   ]
  },
  {
   "cell_type": "code",
   "execution_count": 59,
   "metadata": {},
   "outputs": [
    {
     "name": "stdout",
     "output_type": "stream",
     "text": [
      "(1459, 112)\n"
     ]
    }
   ],
   "source": [
    "test = pd.concat([test, pd.get_dummies(test.Neighborhood, drop_first = True)], axis=1)\n",
    "test = test.drop('Neighborhood', axis=1)\n",
    "print(test.shape)"
   ]
  },
  {
   "cell_type": "markdown",
   "metadata": {},
   "source": [
    "## Condition1"
   ]
  },
  {
   "cell_type": "code",
   "execution_count": 60,
   "metadata": {},
   "outputs": [
    {
     "name": "stdout",
     "output_type": "stream",
     "text": [
      "Norm      1256\n",
      "Feedr       80\n",
      "Artery      48\n",
      "RRAn        26\n",
      "PosN        18\n",
      "RRAe        11\n",
      "PosA         7\n",
      "RRNn         5\n",
      "RRNe         2\n",
      "Name: Condition1, dtype: int64\n",
      "0\n",
      "Norm      1251\n",
      "Feedr       83\n",
      "Artery      44\n",
      "RRAn        24\n",
      "PosN        20\n",
      "RRAe        17\n",
      "PosA        12\n",
      "RRNn         4\n",
      "RRNe         4\n",
      "Name: Condition1, dtype: int64\n",
      "0\n"
     ]
    },
    {
     "data": {
      "image/png": "[encoded data removed]",
      "text/plain": [
       "<Figure size 432x288 with 1 Axes>"
      ]
     },
     "metadata": {
      "needs_background": "light"
     },
     "output_type": "display_data"
    }
   ],
   "source": [
    "train.pivot_table(index='Condition1', \n",
    "                         values = 'log_SalePrice', \n",
    "                         aggfunc = np.median).plot(kind='bar',ylim=(11,12.5))\n",
    "print(train.Condition1.value_counts())\n",
    "print(train.Condition1.isnull().sum())\n",
    "print(test.Condition1.value_counts())\n",
    "print(test.Condition1.isnull().sum())"
   ]
  },
  {
   "cell_type": "code",
   "execution_count": 61,
   "metadata": {},
   "outputs": [
    {
     "name": "stdout",
     "output_type": "stream",
     "text": [
      "(1453, 121)\n"
     ]
    }
   ],
   "source": [
    "train = pd.concat([train, pd.get_dummies(train.Condition1, drop_first = True)], axis=1)\n",
    "train = train.drop('Condition1', axis=1)\n",
    "print(train.shape)"
   ]
  },
  {
   "cell_type": "code",
   "execution_count": 62,
   "metadata": {},
   "outputs": [
    {
     "name": "stdout",
     "output_type": "stream",
     "text": [
      "(1459, 119)\n"
     ]
    }
   ],
   "source": [
    "test = pd.concat([test, pd.get_dummies(test.Condition1, drop_first = True)], axis=1)\n",
    "test = test.drop('Condition1', axis=1)\n",
    "print(test.shape)"
   ]
  },
  {
   "cell_type": "markdown",
   "metadata": {},
   "source": [
    "## Condition2"
   ]
  },
  {
   "cell_type": "code",
   "execution_count": 63,
   "metadata": {},
   "outputs": [
    {
     "name": "stdout",
     "output_type": "stream",
     "text": [
      "(1453, 120)\n"
     ]
    }
   ],
   "source": [
    "#dropping condition 2, 99% norm\n",
    "train=train.drop('Condition2', axis=1)\n",
    "print(train.shape)"
   ]
  },
  {
   "cell_type": "code",
   "execution_count": 64,
   "metadata": {},
   "outputs": [
    {
     "name": "stdout",
     "output_type": "stream",
     "text": [
      "(1459, 118)\n"
     ]
    }
   ],
   "source": [
    "test=test.drop('Condition2', axis=1)\n",
    "print(test.shape)"
   ]
  },
  {
   "cell_type": "markdown",
   "metadata": {},
   "source": [
    "## BldgType"
   ]
  },
  {
   "cell_type": "code",
   "execution_count": 65,
   "metadata": {},
   "outputs": [
    {
     "name": "stdout",
     "output_type": "stream",
     "text": [
      "1Fam      1214\n",
      "TwnhsE     114\n",
      "Duplex      52\n",
      "Twnhs       43\n",
      "2fmCon      30\n",
      "Name: BldgType, dtype: int64\n",
      "0\n",
      "1Fam      1205\n",
      "TwnhsE     113\n",
      "Duplex      57\n",
      "Twnhs       53\n",
      "2fmCon      31\n",
      "Name: BldgType, dtype: int64\n",
      "0\n"
     ]
    },
    {
     "data": {
      "image/png": "[encoded data removed]",
      "text/plain": [
       "<Figure size 432x288 with 1 Axes>"
      ]
     },
     "metadata": {
      "needs_background": "light"
     },
     "output_type": "display_data"
    }
   ],
   "source": [
    "train.pivot_table(index='BldgType', \n",
    "                         values = 'log_SalePrice', \n",
    "                         aggfunc = np.median).plot(kind='bar',ylim=(11,12.5))\n",
    "print(train.BldgType.value_counts())\n",
    "print(train.BldgType.isnull().sum())\n",
    "print(test.BldgType.value_counts())\n",
    "print(test.BldgType.isnull().sum())"
   ]
  },
  {
   "cell_type": "code",
   "execution_count": 66,
   "metadata": {},
   "outputs": [
    {
     "name": "stdout",
     "output_type": "stream",
     "text": [
      "(1453, 123)\n"
     ]
    }
   ],
   "source": [
    "train = pd.concat([train, pd.get_dummies(train.BldgType, drop_first = True)], axis=1)\n",
    "train = train.drop('BldgType', axis=1)\n",
    "print(train.shape)"
   ]
  },
  {
   "cell_type": "code",
   "execution_count": 67,
   "metadata": {},
   "outputs": [
    {
     "name": "stdout",
     "output_type": "stream",
     "text": [
      "(1459, 121)\n"
     ]
    }
   ],
   "source": [
    "test = pd.concat([test, pd.get_dummies(test.BldgType, drop_first = True)], axis=1)\n",
    "test = test.drop('BldgType', axis=1)\n",
    "print(test.shape)"
   ]
  },
  {
   "cell_type": "markdown",
   "metadata": {},
   "source": [
    "## HouseStyle"
   ]
  },
  {
   "cell_type": "code",
   "execution_count": 68,
   "metadata": {},
   "outputs": [
    {
     "name": "stdout",
     "output_type": "stream",
     "text": [
      "1Story    721\n",
      "2Story    443\n",
      "1.5Fin    154\n",
      "SLvl       65\n",
      "SFoyer     37\n",
      "1.5Unf     14\n",
      "2.5Unf     11\n",
      "2.5Fin      8\n",
      "Name: HouseStyle, dtype: int64\n",
      "0\n",
      "1Story    745\n",
      "2Story    427\n",
      "1.5Fin    160\n",
      "SLvl       63\n",
      "SFoyer     46\n",
      "2.5Unf     13\n",
      "1.5Unf      5\n",
      "Name: HouseStyle, dtype: int64\n",
      "0\n"
     ]
    },
    {
     "data": {
      "image/png": "[encoded data removed]",
      "text/plain": [
       "<Figure size 432x288 with 1 Axes>"
      ]
     },
     "metadata": {
      "needs_background": "light"
     },
     "output_type": "display_data"
    }
   ],
   "source": [
    "train.pivot_table(index='HouseStyle', \n",
    "                         values = 'log_SalePrice', \n",
    "                         aggfunc = np.median).plot(kind='bar',ylim=(11,12.5))\n",
    "print(train.HouseStyle.value_counts())\n",
    "print(train.HouseStyle.isnull().sum())\n",
    "print(test.HouseStyle.value_counts())\n",
    "print(test.HouseStyle.isnull().sum())"
   ]
  },
  {
   "cell_type": "code",
   "execution_count": 69,
   "metadata": {},
   "outputs": [
    {
     "name": "stdout",
     "output_type": "stream",
     "text": [
      "1Story    721\n",
      "2Story    451\n",
      "1.5Fin    154\n",
      "SLvl       65\n",
      "SFoyer     37\n",
      "1.5Unf     14\n",
      "2.5Unf     11\n",
      "Name: HouseStyle, dtype: int64\n",
      "(1453, 123)\n"
     ]
    }
   ],
   "source": [
    "def f(x):\n",
    " return '2Story' if x == '2.5Fin' else x\n",
    "train['HouseStyle'] = train['HouseStyle'].apply(f)\n",
    "print(train.HouseStyle.value_counts())   \n",
    "print(train.shape)"
   ]
  },
  {
   "cell_type": "code",
   "execution_count": 70,
   "metadata": {},
   "outputs": [
    {
     "name": "stdout",
     "output_type": "stream",
     "text": [
      "(1453, 128)\n"
     ]
    }
   ],
   "source": [
    "train = pd.concat([train, pd.get_dummies(train.HouseStyle, drop_first = True)], axis=1)\n",
    "train = train.drop('HouseStyle', axis=1)\n",
    "print(train.shape)"
   ]
  },
  {
   "cell_type": "code",
   "execution_count": 71,
   "metadata": {},
   "outputs": [
    {
     "name": "stdout",
     "output_type": "stream",
     "text": [
      "(1459, 126)\n"
     ]
    }
   ],
   "source": [
    "test = pd.concat([test, pd.get_dummies(test.HouseStyle, drop_first = True)], axis=1)\n",
    "test = test.drop('HouseStyle', axis=1)\n",
    "print(test.shape)"
   ]
  },
  {
   "cell_type": "markdown",
   "metadata": {},
   "source": [
    "## RoofStyle"
   ]
  },
  {
   "cell_type": "code",
   "execution_count": 72,
   "metadata": {},
   "outputs": [
    {
     "name": "stdout",
     "output_type": "stream",
     "text": [
      "Gable      1139\n",
      "Hip         282\n",
      "Flat         12\n",
      "Gambrel      11\n",
      "Mansard       7\n",
      "Shed          2\n",
      "Name: RoofStyle, dtype: int64\n",
      "0\n",
      "Gable      1169\n",
      "Hip         265\n",
      "Gambrel      11\n",
      "Flat          7\n",
      "Mansard       4\n",
      "Shed          3\n",
      "Name: RoofStyle, dtype: int64\n",
      "0\n"
     ]
    },
    {
     "data": {
      "image/png": "[encoded data removed]",
      "text/plain": [
       "<Figure size 432x288 with 1 Axes>"
      ]
     },
     "metadata": {
      "needs_background": "light"
     },
     "output_type": "display_data"
    }
   ],
   "source": [
    "train.pivot_table(index='RoofStyle', \n",
    "                         values = 'log_SalePrice', \n",
    "                         aggfunc = np.median).plot(kind='bar',ylim=(11,12.5))\n",
    "print(train.RoofStyle.value_counts())\n",
    "print(train.RoofStyle.isnull().sum())\n",
    "print(test.RoofStyle.value_counts())\n",
    "print(test.RoofStyle.isnull().sum())"
   ]
  },
  {
   "cell_type": "code",
   "execution_count": 73,
   "metadata": {},
   "outputs": [
    {
     "name": "stdout",
     "output_type": "stream",
     "text": [
      "(1453, 132)\n"
     ]
    }
   ],
   "source": [
    "train = pd.concat([train, pd.get_dummies(train.RoofStyle, drop_first = True)], axis=1)\n",
    "train = train.drop('RoofStyle', axis=1)\n",
    "print(train.shape)"
   ]
  },
  {
   "cell_type": "code",
   "execution_count": 74,
   "metadata": {},
   "outputs": [
    {
     "name": "stdout",
     "output_type": "stream",
     "text": [
      "(1459, 130)\n"
     ]
    }
   ],
   "source": [
    "test = pd.concat([test, pd.get_dummies(test.RoofStyle, drop_first = True)], axis=1)\n",
    "test = test.drop('RoofStyle', axis=1)\n",
    "print(test.shape)"
   ]
  },
  {
   "cell_type": "markdown",
   "metadata": {},
   "source": [
    "## RoofMatl"
   ]
  },
  {
   "cell_type": "code",
   "execution_count": 75,
   "metadata": {},
   "outputs": [
    {
     "name": "stdout",
     "output_type": "stream",
     "text": [
      "(1453, 131)\n"
     ]
    }
   ],
   "source": [
    "#drop RoofMatl\n",
    "train = train.drop('RoofMatl', axis = 1)\n",
    "print(train.shape)"
   ]
  },
  {
   "cell_type": "code",
   "execution_count": 76,
   "metadata": {},
   "outputs": [
    {
     "name": "stdout",
     "output_type": "stream",
     "text": [
      "(1459, 129)\n"
     ]
    }
   ],
   "source": [
    "test = test.drop('RoofMatl', axis = 1)\n",
    "print(test.shape)"
   ]
  },
  {
   "cell_type": "markdown",
   "metadata": {},
   "source": [
    "## Exterior1st"
   ]
  },
  {
   "cell_type": "code",
   "execution_count": 77,
   "metadata": {},
   "outputs": [
    {
     "name": "stdout",
     "output_type": "stream",
     "text": [
      "VinylSd    514\n",
      "HdBoard    222\n",
      "MetalSd    218\n",
      "Wd Sdng    205\n",
      "Plywood    108\n",
      "CemntBd     60\n",
      "BrkFace     49\n",
      "WdShing     26\n",
      "Stucco      24\n",
      "AsbShng     20\n",
      "Stone        2\n",
      "BrkComm      2\n",
      "CBlock       1\n",
      "AsphShn      1\n",
      "ImStucc      1\n",
      "Name: Exterior1st, dtype: int64\n",
      "0\n",
      "VinylSd    510\n",
      "MetalSd    230\n",
      "HdBoard    220\n",
      "Wd Sdng    205\n",
      "Plywood    113\n",
      "CemntBd     65\n",
      "BrkFace     37\n",
      "WdShing     30\n",
      "AsbShng     24\n",
      "Stucco      18\n",
      "BrkComm      4\n",
      "CBlock       1\n",
      "AsphShn      1\n",
      "Name: Exterior1st, dtype: int64\n",
      "1\n"
     ]
    },
    {
     "data": {
      "image/png": "[encoded data removed]",
      "text/plain": [
       "<Figure size 432x288 with 1 Axes>"
      ]
     },
     "metadata": {
      "needs_background": "light"
     },
     "output_type": "display_data"
    }
   ],
   "source": [
    "train.pivot_table(index='Exterior1st', \n",
    "                         values = 'log_SalePrice', \n",
    "                         aggfunc = np.median).plot(kind='bar',ylim=(11,12.5))\n",
    "print(train.Exterior1st.value_counts())\n",
    "print(train.Exterior1st.isnull().sum())\n",
    "print(test.Exterior1st.value_counts())\n",
    "print(test.Exterior1st.isnull().sum())"
   ]
  },
  {
   "cell_type": "code",
   "execution_count": 78,
   "metadata": {},
   "outputs": [
    {
     "name": "stdout",
     "output_type": "stream",
     "text": [
      "VinylSd    514\n",
      "HdBoard    222\n",
      "MetalSd    218\n",
      "Wd Sdng    205\n",
      "Plywood    108\n",
      "Other       77\n",
      "CemntBd     60\n",
      "BrkFace     49\n",
      "Name: Exterior1st, dtype: int64\n"
     ]
    }
   ],
   "source": [
    "def f(x):\n",
    " return 'Other' if x in ['WdShing','Stucco', 'AsbShng', 'BrkComm', 'Stone', 'AsphShn', 'CBlock', 'ImStucc'] else x\n",
    "train['Exterior1st'] = train['Exterior1st'].apply(f)\n",
    "print(train.Exterior1st.value_counts())   "
   ]
  },
  {
   "cell_type": "code",
   "execution_count": 79,
   "metadata": {},
   "outputs": [
    {
     "name": "stdout",
     "output_type": "stream",
     "text": [
      "VinylSd    511\n",
      "MetalSd    230\n",
      "HdBoard    220\n",
      "Wd Sdng    205\n",
      "Plywood    113\n",
      "Other       78\n",
      "CemntBd     65\n",
      "BrkFace     37\n",
      "Name: Exterior1st, dtype: int64\n"
     ]
    }
   ],
   "source": [
    "def g(x):\n",
    " return 'Other' if x in ['WdShing','Stucco', 'AsbShng', 'BrkComm', 'Stone', 'AsphShn', 'CBlock', 'ImStucc'] else x\n",
    "test['Exterior1st'] = test['Exterior1st'].apply(g).fillna(value='VinylSd')\n",
    "print(test.Exterior1st.value_counts())   "
   ]
  },
  {
   "cell_type": "code",
   "execution_count": 80,
   "metadata": {},
   "outputs": [
    {
     "name": "stdout",
     "output_type": "stream",
     "text": [
      "(1453, 137)\n"
     ]
    }
   ],
   "source": [
    "train = pd.concat([train, pd.get_dummies(train.Exterior1st, drop_first = True)], axis=1)\n",
    "train = train.drop('Exterior1st', axis=1)\n",
    "print(train.shape)"
   ]
  },
  {
   "cell_type": "code",
   "execution_count": 81,
   "metadata": {},
   "outputs": [
    {
     "name": "stdout",
     "output_type": "stream",
     "text": [
      "(1459, 135)\n"
     ]
    }
   ],
   "source": [
    "test = pd.concat([test, pd.get_dummies(test.Exterior1st, drop_first = True)], axis=1)\n",
    "test = test.drop('Exterior1st', axis=1)\n",
    "print(test.shape)"
   ]
  },
  {
   "cell_type": "markdown",
   "metadata": {},
   "source": [
    "## Exterior2nd"
   ]
  },
  {
   "cell_type": "code",
   "execution_count": 82,
   "metadata": {},
   "outputs": [
    {
     "name": "stdout",
     "output_type": "stream",
     "text": [
      "(1453, 136)\n"
     ]
    }
   ],
   "source": [
    "#drop \n",
    "train=train.drop('Exterior2nd', axis=1)\n",
    "print(train.shape)"
   ]
  },
  {
   "cell_type": "code",
   "execution_count": 83,
   "metadata": {},
   "outputs": [
    {
     "name": "stdout",
     "output_type": "stream",
     "text": [
      "(1459, 134)\n"
     ]
    }
   ],
   "source": [
    "test=test.drop('Exterior2nd', axis=1)\n",
    "print(test.shape)"
   ]
  },
  {
   "cell_type": "markdown",
   "metadata": {},
   "source": [
    "## MasVnrType"
   ]
  },
  {
   "cell_type": "code",
   "execution_count": 84,
   "metadata": {},
   "outputs": [],
   "source": [
    "train['MasVnrType'] = train['MasVnrType'].fillna(value=train.mode()['MasVnrType'][0])"
   ]
  },
  {
   "cell_type": "code",
   "execution_count": 85,
   "metadata": {},
   "outputs": [],
   "source": [
    "test['MasVnrType'] = test['MasVnrType'].fillna(value=test.mode()['MasVnrType'][0])"
   ]
  },
  {
   "cell_type": "code",
   "execution_count": 86,
   "metadata": {},
   "outputs": [
    {
     "name": "stdout",
     "output_type": "stream",
     "text": [
      "None       869\n",
      "BrkFace    444\n",
      "Stone      125\n",
      "BrkCmn      15\n",
      "Name: MasVnrType, dtype: int64\n",
      "0\n",
      "None       869\n",
      "BrkFace    444\n",
      "Stone      125\n",
      "BrkCmn      15\n",
      "Name: MasVnrType, dtype: int64\n",
      "0\n"
     ]
    },
    {
     "data": {
      "image/png": "[encoded data removed]",
      "text/plain": [
       "<Figure size 432x288 with 1 Axes>"
      ]
     },
     "metadata": {
      "needs_background": "light"
     },
     "output_type": "display_data"
    }
   ],
   "source": [
    "train.pivot_table(index='MasVnrType', \n",
    "                         values = 'log_SalePrice', \n",
    "                         aggfunc = np.median).plot(kind='bar',ylim=(11,12.5))\n",
    "print(train.MasVnrType.value_counts())\n",
    "print(train.MasVnrType.isnull().sum())\n",
    "print(train.MasVnrType.value_counts())\n",
    "print(train.MasVnrType.isnull().sum())"
   ]
  },
  {
   "cell_type": "code",
   "execution_count": 87,
   "metadata": {},
   "outputs": [
    {
     "name": "stdout",
     "output_type": "stream",
     "text": [
      "(1453, 138)\n"
     ]
    }
   ],
   "source": [
    "train = pd.concat([train, pd.get_dummies(train.MasVnrType, drop_first = True)], axis=1)\n",
    "train = train.drop('MasVnrType', axis=1)\n",
    "print(train.shape)"
   ]
  },
  {
   "cell_type": "code",
   "execution_count": 88,
   "metadata": {},
   "outputs": [
    {
     "name": "stdout",
     "output_type": "stream",
     "text": [
      "(1459, 136)\n"
     ]
    }
   ],
   "source": [
    "test = pd.concat([test, pd.get_dummies(test.MasVnrType, drop_first = True)], axis=1)\n",
    "test = test.drop('MasVnrType', axis=1)\n",
    "print(test.shape)"
   ]
  },
  {
   "cell_type": "markdown",
   "metadata": {},
   "source": [
    "## ExterQual"
   ]
  },
  {
   "cell_type": "code",
   "execution_count": 89,
   "metadata": {},
   "outputs": [
    {
     "name": "stdout",
     "output_type": "stream",
     "text": [
      "TA    903\n",
      "Gd    488\n",
      "Ex     49\n",
      "Fa     13\n",
      "Name: ExterQual, dtype: int64\n",
      "0\n",
      "TA    892\n",
      "Gd    491\n",
      "Ex     55\n",
      "Fa     21\n",
      "Name: ExterQual, dtype: int64\n",
      "0\n"
     ]
    },
    {
     "data": {
      "image/png": "[encoded data removed]",
      "text/plain": [
       "<Figure size 432x288 with 1 Axes>"
      ]
     },
     "metadata": {
      "needs_background": "light"
     },
     "output_type": "display_data"
    }
   ],
   "source": [
    "train.pivot_table(index='ExterQual', \n",
    "                         values = 'log_SalePrice', \n",
    "                         aggfunc = np.median).plot(kind='bar',ylim=(11,12.5))\n",
    "print(train.ExterQual.value_counts())\n",
    "print(train.ExterQual.isnull().sum())\n",
    "print(test.ExterQual.value_counts())\n",
    "print(test.ExterQual.isnull().sum())"
   ]
  },
  {
   "cell_type": "code",
   "execution_count": 90,
   "metadata": {},
   "outputs": [
    {
     "name": "stdout",
     "output_type": "stream",
     "text": [
      "(1453, 140)\n"
     ]
    }
   ],
   "source": [
    "train = pd.concat([train, pd.get_dummies(train.ExterQual, drop_first = True)], axis=1)\n",
    "train = train.drop('ExterQual', axis=1)\n",
    "print(train.shape)"
   ]
  },
  {
   "cell_type": "code",
   "execution_count": 91,
   "metadata": {},
   "outputs": [
    {
     "name": "stdout",
     "output_type": "stream",
     "text": [
      "(1459, 138)\n"
     ]
    }
   ],
   "source": [
    "test = pd.concat([test, pd.get_dummies(test.ExterQual, drop_first = True)], axis=1)\n",
    "test = test.drop('ExterQual', axis=1)\n",
    "print(test.shape)"
   ]
  },
  {
   "cell_type": "markdown",
   "metadata": {},
   "source": [
    "## ExterCond"
   ]
  },
  {
   "cell_type": "code",
   "execution_count": 92,
   "metadata": {},
   "outputs": [
    {
     "name": "stdout",
     "output_type": "stream",
     "text": [
      "TA    1276\n",
      "Gd     145\n",
      "Fa      28\n",
      "Ex       3\n",
      "Po       1\n",
      "Name: ExterCond, dtype: int64\n",
      "0\n",
      "TA    1256\n",
      "Gd     153\n",
      "Fa      39\n",
      "Ex       9\n",
      "Po       2\n",
      "Name: ExterCond, dtype: int64\n",
      "0\n"
     ]
    },
    {
     "data": {
      "image/png": "[encoded data removed]",
      "text/plain": [
       "<Figure size 432x288 with 1 Axes>"
      ]
     },
     "metadata": {
      "needs_background": "light"
     },
     "output_type": "display_data"
    }
   ],
   "source": [
    "train.pivot_table(index='ExterCond', \n",
    "                         values = 'log_SalePrice', \n",
    "                         aggfunc = np.median).plot(kind='bar',ylim=(11,12.5))\n",
    "print(train.ExterCond.value_counts())\n",
    "print(train.ExterCond.isnull().sum())\n",
    "print(test.ExterCond.value_counts())\n",
    "print(test.ExterCond.isnull().sum())"
   ]
  },
  {
   "cell_type": "code",
   "execution_count": 93,
   "metadata": {},
   "outputs": [
    {
     "name": "stdout",
     "output_type": "stream",
     "text": [
      "(1453, 143)\n"
     ]
    }
   ],
   "source": [
    "train = pd.concat([train, pd.get_dummies(train.ExterCond, drop_first = True)], axis=1)\n",
    "train = train.drop('ExterCond', axis=1)\n",
    "print(train.shape)"
   ]
  },
  {
   "cell_type": "code",
   "execution_count": 94,
   "metadata": {},
   "outputs": [
    {
     "name": "stdout",
     "output_type": "stream",
     "text": [
      "(1459, 141)\n"
     ]
    }
   ],
   "source": [
    "test = pd.concat([test, pd.get_dummies(test.ExterCond, drop_first = True)], axis=1)\n",
    "test = test.drop('ExterCond', axis=1)\n",
    "print(test.shape)"
   ]
  },
  {
   "cell_type": "markdown",
   "metadata": {},
   "source": [
    "## Foundation"
   ]
  },
  {
   "cell_type": "code",
   "execution_count": 95,
   "metadata": {},
   "outputs": [
    {
     "name": "stdout",
     "output_type": "stream",
     "text": [
      "PConc     644\n",
      "CBlock    630\n",
      "BrkTil    146\n",
      "Slab       24\n",
      "Stone       6\n",
      "Wood        3\n",
      "Name: Foundation, dtype: int64\n",
      "0\n",
      "PConc     661\n",
      "CBlock    601\n",
      "BrkTil    165\n",
      "Slab       25\n",
      "Stone       5\n",
      "Wood        2\n",
      "Name: Foundation, dtype: int64\n",
      "0\n"
     ]
    },
    {
     "data": {
      "image/png": "[encoded data removed]",
      "text/plain": [
       "<Figure size 432x288 with 1 Axes>"
      ]
     },
     "metadata": {
      "needs_background": "light"
     },
     "output_type": "display_data"
    }
   ],
   "source": [
    "train.pivot_table(index='Foundation', \n",
    "                         values = 'log_SalePrice', \n",
    "                         aggfunc = np.median).plot(kind='bar',ylim=(11,12.5))\n",
    "print(train.Foundation.value_counts())\n",
    "print(train.Foundation.isnull().sum())\n",
    "print(test.Foundation.value_counts())\n",
    "print(test.Foundation.isnull().sum())"
   ]
  },
  {
   "cell_type": "code",
   "execution_count": 96,
   "metadata": {},
   "outputs": [
    {
     "name": "stdout",
     "output_type": "stream",
     "text": [
      "(1453, 147)\n"
     ]
    }
   ],
   "source": [
    "train = pd.concat([train, pd.get_dummies(train.Foundation, drop_first = True)], axis=1)\n",
    "train = train.drop('Foundation', axis=1)\n",
    "print(train.shape)"
   ]
  },
  {
   "cell_type": "code",
   "execution_count": 97,
   "metadata": {},
   "outputs": [
    {
     "name": "stdout",
     "output_type": "stream",
     "text": [
      "(1459, 145)\n"
     ]
    }
   ],
   "source": [
    "test = pd.concat([test, pd.get_dummies(test.Foundation, drop_first = True)], axis=1)\n",
    "test = test.drop('Foundation', axis=1)\n",
    "print(test.shape)"
   ]
  },
  {
   "cell_type": "markdown",
   "metadata": {},
   "source": [
    "## BsmtQual"
   ]
  },
  {
   "cell_type": "code",
   "execution_count": 98,
   "metadata": {},
   "outputs": [],
   "source": [
    "train['BsmtQual'] = train['BsmtQual'].fillna(value='None')"
   ]
  },
  {
   "cell_type": "code",
   "execution_count": 99,
   "metadata": {},
   "outputs": [],
   "source": [
    "test['BsmtQual'] = test['BsmtQual'].fillna(value='None')"
   ]
  },
  {
   "cell_type": "code",
   "execution_count": 100,
   "metadata": {},
   "outputs": [
    {
     "name": "stdout",
     "output_type": "stream",
     "text": [
      "TA      647\n",
      "Gd      616\n",
      "Ex      118\n",
      "None     37\n",
      "Fa       35\n",
      "Name: BsmtQual, dtype: int64\n",
      "0\n",
      "TA      647\n",
      "Gd      616\n",
      "Ex      118\n",
      "None     37\n",
      "Fa       35\n",
      "Name: BsmtQual, dtype: int64\n",
      "0\n"
     ]
    },
    {
     "data": {
      "image/png": "[encoded data removed]",
      "text/plain": [
       "<Figure size 432x288 with 1 Axes>"
      ]
     },
     "metadata": {
      "needs_background": "light"
     },
     "output_type": "display_data"
    }
   ],
   "source": [
    "train.pivot_table(index='BsmtQual', \n",
    "                         values = 'log_SalePrice', \n",
    "                         aggfunc = np.median).plot(kind='bar',ylim=(11,12.5))\n",
    "print(train.BsmtQual.value_counts())\n",
    "print(train.BsmtQual.isnull().sum())\n",
    "print(train.BsmtQual.value_counts())\n",
    "print(train.BsmtQual.isnull().sum())"
   ]
  },
  {
   "cell_type": "code",
   "execution_count": 101,
   "metadata": {},
   "outputs": [
    {
     "name": "stdout",
     "output_type": "stream",
     "text": [
      "(1453, 150)\n"
     ]
    }
   ],
   "source": [
    "train = pd.concat([train, pd.get_dummies(train.BsmtQual, drop_first = True)], axis=1)\n",
    "train = train.drop('BsmtQual', axis=1)\n",
    "print(train.shape)"
   ]
  },
  {
   "cell_type": "code",
   "execution_count": 102,
   "metadata": {},
   "outputs": [
    {
     "name": "stdout",
     "output_type": "stream",
     "text": [
      "(1459, 148)\n"
     ]
    }
   ],
   "source": [
    "test = pd.concat([test, pd.get_dummies(test.BsmtQual, drop_first = True)], axis=1)\n",
    "test = test.drop('BsmtQual', axis=1)\n",
    "print(test.shape)"
   ]
  },
  {
   "cell_type": "markdown",
   "metadata": {},
   "source": [
    "## BsmtCond"
   ]
  },
  {
   "cell_type": "code",
   "execution_count": 103,
   "metadata": {},
   "outputs": [],
   "source": [
    "train['BsmtCond'] = train['BsmtCond'].fillna(value='None')\n",
    "test['BsmtCond'] = test['BsmtCond'].fillna(value='None')"
   ]
  },
  {
   "cell_type": "code",
   "execution_count": 104,
   "metadata": {},
   "outputs": [
    {
     "name": "stdout",
     "output_type": "stream",
     "text": [
      "TA      1304\n",
      "Gd        65\n",
      "Fa        45\n",
      "None      37\n",
      "Po         2\n",
      "Name: BsmtCond, dtype: int64\n",
      "0\n",
      "TA      1304\n",
      "Gd        65\n",
      "Fa        45\n",
      "None      37\n",
      "Po         2\n",
      "Name: BsmtCond, dtype: int64\n",
      "0\n"
     ]
    },
    {
     "data": {
      "image/png": "[encoded data removed]",
      "text/plain": [
       "<Figure size 432x288 with 1 Axes>"
      ]
     },
     "metadata": {
      "needs_background": "light"
     },
     "output_type": "display_data"
    }
   ],
   "source": [
    "train.pivot_table(index='BsmtCond', \n",
    "                         values = 'log_SalePrice', \n",
    "                         aggfunc = np.median).plot(kind='bar',ylim=(11,12.5))\n",
    "print(train.BsmtCond.value_counts())\n",
    "print(train.BsmtCond.isnull().sum())\n",
    "print(train.BsmtCond.value_counts())\n",
    "print(train.BsmtCond.isnull().sum())"
   ]
  },
  {
   "cell_type": "code",
   "execution_count": 105,
   "metadata": {},
   "outputs": [
    {
     "name": "stdout",
     "output_type": "stream",
     "text": [
      "(1453, 153)\n"
     ]
    }
   ],
   "source": [
    "train = pd.concat([train, pd.get_dummies(train.BsmtCond, drop_first = True)], axis=1)\n",
    "train = train.drop('BsmtCond', axis=1)\n",
    "print(train.shape)"
   ]
  },
  {
   "cell_type": "code",
   "execution_count": 106,
   "metadata": {},
   "outputs": [
    {
     "name": "stdout",
     "output_type": "stream",
     "text": [
      "(1459, 151)\n"
     ]
    }
   ],
   "source": [
    "test = pd.concat([test, pd.get_dummies(test.BsmtCond, drop_first = True)], axis=1)\n",
    "test = test.drop('BsmtCond', axis=1)\n",
    "print(test.shape)"
   ]
  },
  {
   "cell_type": "markdown",
   "metadata": {},
   "source": [
    "## BsmtExposure"
   ]
  },
  {
   "cell_type": "code",
   "execution_count": 107,
   "metadata": {},
   "outputs": [],
   "source": [
    "train['BsmtExposure'] = train['BsmtExposure'].fillna(value='None')\n",
    "test['BsmtExposure'] = test['BsmtExposure'].fillna(value='None')"
   ]
  },
  {
   "cell_type": "code",
   "execution_count": 108,
   "metadata": {},
   "outputs": [
    {
     "name": "stdout",
     "output_type": "stream",
     "text": [
      "No      951\n",
      "Av      220\n",
      "Gd      130\n",
      "Mn      114\n",
      "None     38\n",
      "Name: BsmtExposure, dtype: int64\n",
      "0\n",
      "No      951\n",
      "Av      197\n",
      "Gd      142\n",
      "Mn      125\n",
      "None     44\n",
      "Name: BsmtExposure, dtype: int64\n",
      "0\n"
     ]
    },
    {
     "data": {
      "image/png": "[encoded data removed]",
      "text/plain": [
       "<Figure size 432x288 with 1 Axes>"
      ]
     },
     "metadata": {
      "needs_background": "light"
     },
     "output_type": "display_data"
    }
   ],
   "source": [
    "train.pivot_table(index='BsmtExposure', \n",
    "                         values = 'log_SalePrice', \n",
    "                         aggfunc = np.median).plot(kind='bar',ylim=(11,12.5))\n",
    "print(train.BsmtExposure.value_counts())\n",
    "print(train.BsmtExposure.isnull().sum())\n",
    "print(test.BsmtExposure.value_counts())\n",
    "print(test.BsmtExposure.isnull().sum())"
   ]
  },
  {
   "cell_type": "code",
   "execution_count": 109,
   "metadata": {},
   "outputs": [
    {
     "name": "stdout",
     "output_type": "stream",
     "text": [
      "(1453, 156)\n"
     ]
    }
   ],
   "source": [
    "train = pd.concat([train, pd.get_dummies(train.BsmtExposure, drop_first = True)], axis=1)\n",
    "train = train.drop('BsmtExposure', axis=1)\n",
    "print(train.shape)"
   ]
  },
  {
   "cell_type": "code",
   "execution_count": 110,
   "metadata": {},
   "outputs": [
    {
     "name": "stdout",
     "output_type": "stream",
     "text": [
      "(1459, 154)\n"
     ]
    }
   ],
   "source": [
    "test = pd.concat([test, pd.get_dummies(test.BsmtExposure, drop_first = True)], axis=1)\n",
    "test = test.drop('BsmtExposure', axis=1)\n",
    "print(test.shape)"
   ]
  },
  {
   "cell_type": "markdown",
   "metadata": {},
   "source": [
    "## BsmtFinType1"
   ]
  },
  {
   "cell_type": "code",
   "execution_count": 111,
   "metadata": {},
   "outputs": [],
   "source": [
    "train['BsmtFinType1'] = train['BsmtFinType1'].fillna(value='None')\n",
    "test['BsmtFinType1'] = test['BsmtFinType1'].fillna(value='None')"
   ]
  },
  {
   "cell_type": "code",
   "execution_count": 112,
   "metadata": {},
   "outputs": [
    {
     "name": "stdout",
     "output_type": "stream",
     "text": [
      "Unf     428\n",
      "GLQ     415\n",
      "ALQ     219\n",
      "BLQ     147\n",
      "Rec     133\n",
      "LwQ      74\n",
      "None     37\n",
      "Name: BsmtFinType1, dtype: int64\n",
      "0\n",
      "GLQ     431\n",
      "Unf     421\n",
      "ALQ     209\n",
      "Rec     155\n",
      "BLQ     121\n",
      "LwQ      80\n",
      "None     42\n",
      "Name: BsmtFinType1, dtype: int64\n",
      "0\n"
     ]
    },
    {
     "data": {
      "image/png": "[encoded data removed]",
      "text/plain": [
       "<Figure size 432x288 with 1 Axes>"
      ]
     },
     "metadata": {
      "needs_background": "light"
     },
     "output_type": "display_data"
    }
   ],
   "source": [
    "train.pivot_table(index='BsmtFinType1', \n",
    "                         values = 'log_SalePrice', \n",
    "                         aggfunc = np.median).plot(kind='bar',ylim=(11,12.5))\n",
    "print(train.BsmtFinType1.value_counts())\n",
    "print(train.BsmtFinType1.isnull().sum())\n",
    "print(test.BsmtFinType1.value_counts())\n",
    "print(test.BsmtFinType1.isnull().sum())"
   ]
  },
  {
   "cell_type": "code",
   "execution_count": 113,
   "metadata": {},
   "outputs": [
    {
     "name": "stdout",
     "output_type": "stream",
     "text": [
      "(1453, 161)\n"
     ]
    }
   ],
   "source": [
    "train = pd.concat([train, pd.get_dummies(train.BsmtFinType1, drop_first = True)], axis=1)\n",
    "train = train.drop('BsmtFinType1', axis=1)\n",
    "print(train.shape)"
   ]
  },
  {
   "cell_type": "code",
   "execution_count": 114,
   "metadata": {},
   "outputs": [
    {
     "name": "stdout",
     "output_type": "stream",
     "text": [
      "(1459, 159)\n"
     ]
    }
   ],
   "source": [
    "test = pd.concat([test, pd.get_dummies(test.BsmtFinType1, drop_first = True)], axis=1)\n",
    "test = test.drop('BsmtFinType1', axis=1)\n",
    "print(test.shape)"
   ]
  },
  {
   "cell_type": "markdown",
   "metadata": {},
   "source": [
    "## BsmtFinType2"
   ]
  },
  {
   "cell_type": "code",
   "execution_count": 115,
   "metadata": {},
   "outputs": [
    {
     "data": {
      "text/plain": [
       "(1453, 160)"
      ]
     },
     "execution_count": 115,
     "metadata": {},
     "output_type": "execute_result"
    }
   ],
   "source": [
    "train = train.drop('BsmtFinType2', axis=1)\n",
    "train.shape"
   ]
  },
  {
   "cell_type": "code",
   "execution_count": 116,
   "metadata": {},
   "outputs": [
    {
     "data": {
      "text/plain": [
       "(1459, 158)"
      ]
     },
     "execution_count": 116,
     "metadata": {},
     "output_type": "execute_result"
    }
   ],
   "source": [
    "test = test.drop('BsmtFinType2', axis=1)\n",
    "test.shape"
   ]
  },
  {
   "cell_type": "markdown",
   "metadata": {},
   "source": [
    "## Heating"
   ]
  },
  {
   "cell_type": "code",
   "execution_count": 117,
   "metadata": {},
   "outputs": [
    {
     "name": "stdout",
     "output_type": "stream",
     "text": [
      "(1453, 159)\n"
     ]
    }
   ],
   "source": [
    "# Drop Heating\n",
    "train = train.drop('Heating', axis=1)\n",
    "print(train.shape)"
   ]
  },
  {
   "cell_type": "code",
   "execution_count": 118,
   "metadata": {},
   "outputs": [
    {
     "name": "stdout",
     "output_type": "stream",
     "text": [
      "(1459, 157)\n"
     ]
    }
   ],
   "source": [
    "test = test.drop('Heating', axis=1)\n",
    "print(test.shape)"
   ]
  },
  {
   "cell_type": "markdown",
   "metadata": {},
   "source": [
    "## HeatingQC"
   ]
  },
  {
   "cell_type": "code",
   "execution_count": 119,
   "metadata": {},
   "outputs": [
    {
     "name": "stdout",
     "output_type": "stream",
     "text": [
      "Ex    736\n",
      "TA    426\n",
      "Gd    241\n",
      "Fa     49\n",
      "Po      1\n",
      "Name: HeatingQC, dtype: int64\n",
      "0\n",
      "Ex    752\n",
      "TA    429\n",
      "Gd    233\n",
      "Fa     43\n",
      "Po      2\n",
      "Name: HeatingQC, dtype: int64\n",
      "0\n"
     ]
    },
    {
     "data": {
      "image/png": "[encoded data removed]",
      "text/plain": [
       "<Figure size 432x288 with 1 Axes>"
      ]
     },
     "metadata": {
      "needs_background": "light"
     },
     "output_type": "display_data"
    }
   ],
   "source": [
    "train.pivot_table(index='HeatingQC', \n",
    "                         values = 'log_SalePrice', \n",
    "                         aggfunc = np.median).plot(kind='bar',ylim=(11,12.5))\n",
    "print(train.HeatingQC.value_counts())\n",
    "print(train.HeatingQC.isnull().sum())\n",
    "print(test.HeatingQC.value_counts())\n",
    "print(test.HeatingQC.isnull().sum())"
   ]
  },
  {
   "cell_type": "code",
   "execution_count": 120,
   "metadata": {},
   "outputs": [
    {
     "name": "stdout",
     "output_type": "stream",
     "text": [
      "(1453, 162)\n"
     ]
    }
   ],
   "source": [
    "train = pd.concat([train, pd.get_dummies(train.HeatingQC, drop_first = True)], axis=1)\n",
    "train = train.drop('HeatingQC', axis=1)\n",
    "print(train.shape)"
   ]
  },
  {
   "cell_type": "code",
   "execution_count": 121,
   "metadata": {},
   "outputs": [
    {
     "name": "stdout",
     "output_type": "stream",
     "text": [
      "(1459, 160)\n"
     ]
    }
   ],
   "source": [
    "test = pd.concat([test, pd.get_dummies(test.HeatingQC, drop_first = True)], axis=1)\n",
    "test = test.drop('HeatingQC', axis=1)\n",
    "print(test.shape)"
   ]
  },
  {
   "cell_type": "markdown",
   "metadata": {},
   "source": [
    "## CentralAir"
   ]
  },
  {
   "cell_type": "code",
   "execution_count": 122,
   "metadata": {},
   "outputs": [
    {
     "name": "stdout",
     "output_type": "stream",
     "text": [
      "Y    1358\n",
      "N      95\n",
      "Name: CentralAir, dtype: int64\n",
      "0\n",
      "Y    1358\n",
      "N     101\n",
      "Name: CentralAir, dtype: int64\n",
      "0\n"
     ]
    },
    {
     "data": {
      "image/png": "[encoded data removed]",
      "text/plain": [
       "<Figure size 432x288 with 1 Axes>"
      ]
     },
     "metadata": {
      "needs_background": "light"
     },
     "output_type": "display_data"
    }
   ],
   "source": [
    "train.pivot_table(index='CentralAir', \n",
    "                         values = 'log_SalePrice', \n",
    "                         aggfunc = np.median).plot(kind='bar',ylim=(11,12.5))\n",
    "print(train.CentralAir.value_counts())\n",
    "print(train.CentralAir.isnull().sum())\n",
    "print(test.CentralAir.value_counts())\n",
    "print(test.CentralAir.isnull().sum())"
   ]
  },
  {
   "cell_type": "code",
   "execution_count": 123,
   "metadata": {},
   "outputs": [
    {
     "name": "stdout",
     "output_type": "stream",
     "text": [
      "1    1358\n",
      "0      95\n",
      "Name: CentralAir, dtype: int64\n",
      "(1453, 162)\n"
     ]
    }
   ],
   "source": [
    "def f(x):\n",
    " return 1 if x == 'Y' else 0\n",
    "train['CentralAir'] = train['CentralAir'].apply(f)\n",
    "print(train.CentralAir.value_counts())  \n",
    "print(train.shape)"
   ]
  },
  {
   "cell_type": "code",
   "execution_count": 124,
   "metadata": {},
   "outputs": [
    {
     "name": "stdout",
     "output_type": "stream",
     "text": [
      "1    1358\n",
      "0     101\n",
      "Name: CentralAir, dtype: int64\n",
      "(1459, 160)\n"
     ]
    }
   ],
   "source": [
    "def g(x):\n",
    " return 1 if x == 'Y' else 0\n",
    "test['CentralAir'] = test['CentralAir'].apply(g)\n",
    "print(test.CentralAir.value_counts())\n",
    "print(test.shape)"
   ]
  },
  {
   "cell_type": "markdown",
   "metadata": {},
   "source": [
    "## Electrical"
   ]
  },
  {
   "cell_type": "code",
   "execution_count": 125,
   "metadata": {},
   "outputs": [
    {
     "name": "stdout",
     "output_type": "stream",
     "text": [
      "SBrkr    1327\n",
      "FuseA      94\n",
      "FuseF      27\n",
      "FuseP       3\n",
      "Mix         1\n",
      "Name: Electrical, dtype: int64\n",
      "1\n",
      "SBrkr    1337\n",
      "FuseA      94\n",
      "FuseF      23\n",
      "FuseP       5\n",
      "Name: Electrical, dtype: int64\n",
      "0\n"
     ]
    },
    {
     "data": {
      "image/png": "[encoded data removed]",
      "text/plain": [
       "<Figure size 432x288 with 1 Axes>"
      ]
     },
     "metadata": {
      "needs_background": "light"
     },
     "output_type": "display_data"
    }
   ],
   "source": [
    "train.pivot_table(index='Electrical', \n",
    "                         values = 'log_SalePrice', \n",
    "                         aggfunc = np.median).plot(kind='bar',ylim=(11,12.5))\n",
    "print(train.Electrical.value_counts())\n",
    "print(train.Electrical.isnull().sum())\n",
    "print(test.Electrical.value_counts())\n",
    "print(test.Electrical.isnull().sum())"
   ]
  },
  {
   "cell_type": "code",
   "execution_count": 126,
   "metadata": {},
   "outputs": [
    {
     "name": "stdout",
     "output_type": "stream",
     "text": [
      "1    1327\n",
      "0     126\n",
      "Name: Electrical, dtype: int64\n",
      "(1453, 162)\n"
     ]
    }
   ],
   "source": [
    "def f(x):\n",
    " return 1 if x == 'SBrkr' else 0\n",
    "train['Electrical'] = train['Electrical'].apply(f)\n",
    "print(train.Electrical.value_counts())   \n",
    "print(train.shape)"
   ]
  },
  {
   "cell_type": "code",
   "execution_count": 127,
   "metadata": {},
   "outputs": [
    {
     "name": "stdout",
     "output_type": "stream",
     "text": [
      "1    1337\n",
      "0     122\n",
      "Name: Electrical, dtype: int64\n",
      "(1459, 160)\n"
     ]
    }
   ],
   "source": [
    "def g(x):\n",
    " return 1 if x == 'SBrkr' else 0\n",
    "test['Electrical'] = test['Electrical'].apply(g)\n",
    "print(test.Electrical.value_counts())   \n",
    "print(test.shape)"
   ]
  },
  {
   "cell_type": "markdown",
   "metadata": {},
   "source": [
    "## KitchenQual"
   ]
  },
  {
   "cell_type": "code",
   "execution_count": 128,
   "metadata": {},
   "outputs": [
    {
     "name": "stdout",
     "output_type": "stream",
     "text": [
      "TA    732\n",
      "Gd    585\n",
      "Ex     97\n",
      "Fa     39\n",
      "Name: KitchenQual, dtype: int64\n",
      "0\n",
      "TA    732\n",
      "Gd    585\n",
      "Ex     97\n",
      "Fa     39\n",
      "Name: KitchenQual, dtype: int64\n",
      "0\n"
     ]
    },
    {
     "data": {
      "image/png": "[encoded data removed]",
      "text/plain": [
       "<Figure size 432x288 with 1 Axes>"
      ]
     },
     "metadata": {
      "needs_background": "light"
     },
     "output_type": "display_data"
    }
   ],
   "source": [
    "train.pivot_table(index='KitchenQual', \n",
    "                         values = 'log_SalePrice', \n",
    "                         aggfunc = np.median).plot(kind='bar',ylim=(11,12.5))\n",
    "print(train.KitchenQual.value_counts())\n",
    "print(train.KitchenQual.isnull().sum())\n",
    "print(train.KitchenQual.value_counts())\n",
    "print(train.KitchenQual.isnull().sum())"
   ]
  },
  {
   "cell_type": "code",
   "execution_count": 129,
   "metadata": {},
   "outputs": [
    {
     "name": "stdout",
     "output_type": "stream",
     "text": [
      "(1453, 164)\n"
     ]
    }
   ],
   "source": [
    "train = pd.concat([train, pd.get_dummies(train.KitchenQual, drop_first = True)], axis=1)\n",
    "train = train.drop('KitchenQual', axis=1)\n",
    "print(train.shape)"
   ]
  },
  {
   "cell_type": "code",
   "execution_count": 130,
   "metadata": {},
   "outputs": [
    {
     "name": "stdout",
     "output_type": "stream",
     "text": [
      "(1459, 162)\n"
     ]
    }
   ],
   "source": [
    "test = pd.concat([test, pd.get_dummies(test.KitchenQual, drop_first = True)], axis=1)\n",
    "test = test.drop('KitchenQual', axis=1)\n",
    "print(test.shape)"
   ]
  },
  {
   "cell_type": "markdown",
   "metadata": {},
   "source": [
    "## Functional"
   ]
  },
  {
   "cell_type": "code",
   "execution_count": 131,
   "metadata": {},
   "outputs": [
    {
     "name": "stdout",
     "output_type": "stream",
     "text": [
      "Typ     1353\n",
      "Min2      34\n",
      "Min1      31\n",
      "Mod       15\n",
      "Maj1      14\n",
      "Maj2       5\n",
      "Sev        1\n",
      "Name: Functional, dtype: int64\n",
      "0\n",
      "Typ     1353\n",
      "Min2      34\n",
      "Min1      31\n",
      "Mod       15\n",
      "Maj1      14\n",
      "Maj2       5\n",
      "Sev        1\n",
      "Name: Functional, dtype: int64\n",
      "0\n"
     ]
    },
    {
     "data": {
      "image/png": "[encoded data removed]",
      "text/plain": [
       "<Figure size 432x288 with 1 Axes>"
      ]
     },
     "metadata": {
      "needs_background": "light"
     },
     "output_type": "display_data"
    }
   ],
   "source": [
    "train.pivot_table(index='Functional', \n",
    "                         values = 'log_SalePrice', \n",
    "                         aggfunc = np.median).plot(kind='bar',ylim=(11,12.5))\n",
    "print(train.Functional.value_counts())\n",
    "print(train.Functional.isnull().sum())\n",
    "print(train.Functional.value_counts())\n",
    "print(train.Functional.isnull().sum())"
   ]
  },
  {
   "cell_type": "code",
   "execution_count": 132,
   "metadata": {},
   "outputs": [
    {
     "name": "stdout",
     "output_type": "stream",
     "text": [
      "1    1353\n",
      "0     100\n",
      "Name: Functional, dtype: int64\n",
      "(1453, 164)\n"
     ]
    }
   ],
   "source": [
    "def f(x):\n",
    " return 1 if x == 'Typ' else 0\n",
    "train['Functional'] = train['Functional'].apply(f)\n",
    "print(train.Functional.value_counts())   \n",
    "print(train.shape)"
   ]
  },
  {
   "cell_type": "code",
   "execution_count": 133,
   "metadata": {},
   "outputs": [
    {
     "name": "stdout",
     "output_type": "stream",
     "text": [
      "1    1357\n",
      "0     102\n",
      "Name: Functional, dtype: int64\n",
      "(1459, 162)\n"
     ]
    }
   ],
   "source": [
    "def g(x):\n",
    " return 1 if x == 'Typ' else 0\n",
    "test['Functional'] = test['Functional'].apply(g)\n",
    "print(test.Functional.value_counts())   \n",
    "print(test.shape)"
   ]
  },
  {
   "cell_type": "markdown",
   "metadata": {},
   "source": [
    "## FireplaceQu"
   ]
  },
  {
   "cell_type": "code",
   "execution_count": 134,
   "metadata": {},
   "outputs": [],
   "source": [
    "train['FireplaceQu'] = train['FireplaceQu'].fillna(value='None')\n",
    "test['FireplaceQu'] = test['FireplaceQu'].fillna(value='None')"
   ]
  },
  {
   "cell_type": "code",
   "execution_count": 135,
   "metadata": {},
   "outputs": [
    {
     "name": "stdout",
     "output_type": "stream",
     "text": [
      "None    689\n",
      "Gd      375\n",
      "TA      312\n",
      "Fa       33\n",
      "Ex       24\n",
      "Po       20\n",
      "Name: FireplaceQu, dtype: int64\n",
      "0\n",
      "None    730\n",
      "Gd      364\n",
      "TA      279\n",
      "Fa       41\n",
      "Po       26\n",
      "Ex       19\n",
      "Name: FireplaceQu, dtype: int64\n",
      "0\n"
     ]
    },
    {
     "data": {
      "image/png": "[encoded data removed]",
      "text/plain": [
       "<Figure size 432x288 with 1 Axes>"
      ]
     },
     "metadata": {
      "needs_background": "light"
     },
     "output_type": "display_data"
    }
   ],
   "source": [
    "train.pivot_table(index='FireplaceQu', \n",
    "                         values = 'log_SalePrice', \n",
    "                         aggfunc = np.median).plot(kind='bar',ylim=(11,12.5))\n",
    "print(train.FireplaceQu.value_counts())\n",
    "print(train.FireplaceQu.isnull().sum())\n",
    "print(test.FireplaceQu.value_counts())\n",
    "print(test.FireplaceQu.isnull().sum())"
   ]
  },
  {
   "cell_type": "code",
   "execution_count": 136,
   "metadata": {},
   "outputs": [
    {
     "name": "stdout",
     "output_type": "stream",
     "text": [
      "(1453, 168)\n"
     ]
    }
   ],
   "source": [
    "train = pd.concat([train, pd.get_dummies(train.FireplaceQu, drop_first = True)], axis=1)\n",
    "train = train.drop('FireplaceQu', axis=1)\n",
    "print(train.shape)"
   ]
  },
  {
   "cell_type": "code",
   "execution_count": 137,
   "metadata": {},
   "outputs": [
    {
     "name": "stdout",
     "output_type": "stream",
     "text": [
      "(1459, 166)\n"
     ]
    }
   ],
   "source": [
    "test = pd.concat([test, pd.get_dummies(test.FireplaceQu, drop_first = True)], axis=1)\n",
    "test = test.drop('FireplaceQu', axis=1)\n",
    "print(test.shape)"
   ]
  },
  {
   "cell_type": "markdown",
   "metadata": {},
   "source": [
    "## GarageType"
   ]
  },
  {
   "cell_type": "code",
   "execution_count": 138,
   "metadata": {},
   "outputs": [],
   "source": [
    "train['GarageType'] = train['GarageType'].fillna(value='None')\n",
    "test['GarageType'] = test['GarageType'].fillna(value='None')"
   ]
  },
  {
   "cell_type": "code",
   "execution_count": 139,
   "metadata": {},
   "outputs": [
    {
     "name": "stdout",
     "output_type": "stream",
     "text": [
      "Attchd     866\n",
      "Detchd     386\n",
      "BuiltIn     87\n",
      "None        81\n",
      "Basment     19\n",
      "CarPort      9\n",
      "2Types       5\n",
      "Name: GarageType, dtype: int64\n",
      "0\n",
      "Attchd     853\n",
      "Detchd     392\n",
      "BuiltIn     98\n",
      "None        76\n",
      "Basment     17\n",
      "2Types      17\n",
      "CarPort      6\n",
      "Name: GarageType, dtype: int64\n",
      "0\n"
     ]
    },
    {
     "data": {
      "image/png": "[encoded data removed]",
      "text/plain": [
       "<Figure size 432x288 with 1 Axes>"
      ]
     },
     "metadata": {
      "needs_background": "light"
     },
     "output_type": "display_data"
    }
   ],
   "source": [
    "train.pivot_table(index='GarageType', \n",
    "                         values = 'log_SalePrice', \n",
    "                         aggfunc = np.median).plot(kind='bar',ylim=(11,12.5))\n",
    "print(train.GarageType.value_counts())\n",
    "print(train.GarageType.isnull().sum())\n",
    "print(test.GarageType.value_counts())\n",
    "print(test.GarageType.isnull().sum())"
   ]
  },
  {
   "cell_type": "code",
   "execution_count": 140,
   "metadata": {},
   "outputs": [
    {
     "name": "stdout",
     "output_type": "stream",
     "text": [
      "(1453, 173)\n"
     ]
    }
   ],
   "source": [
    "train = pd.concat([train, pd.get_dummies(train.GarageType, drop_first = True)], axis=1)\n",
    "train = train.drop('GarageType', axis=1)\n",
    "print(train.shape)"
   ]
  },
  {
   "cell_type": "code",
   "execution_count": 141,
   "metadata": {},
   "outputs": [
    {
     "name": "stdout",
     "output_type": "stream",
     "text": [
      "(1459, 171)\n"
     ]
    }
   ],
   "source": [
    "test = pd.concat([test, pd.get_dummies(test.GarageType, drop_first = True)], axis=1)\n",
    "test = test.drop('GarageType', axis=1)\n",
    "print(test.shape)"
   ]
  },
  {
   "cell_type": "markdown",
   "metadata": {},
   "source": [
    "## GarageFinish"
   ]
  },
  {
   "cell_type": "code",
   "execution_count": 142,
   "metadata": {},
   "outputs": [],
   "source": [
    "train['GarageFinish'] = train['GarageFinish'].fillna(value='None')\n",
    "test['GarageFinish'] = test['GarageFinish'].fillna(value='None')"
   ]
  },
  {
   "cell_type": "code",
   "execution_count": 143,
   "metadata": {},
   "outputs": [
    {
     "name": "stdout",
     "output_type": "stream",
     "text": [
      "Unf     605\n",
      "RFn     418\n",
      "Fin     349\n",
      "None     81\n",
      "Name: GarageFinish, dtype: int64\n",
      "0\n",
      "Unf     625\n",
      "RFn     389\n",
      "Fin     367\n",
      "None     78\n",
      "Name: GarageFinish, dtype: int64\n",
      "0\n"
     ]
    },
    {
     "data": {
      "image/png": "[encoded data removed]",
      "text/plain": [
       "<Figure size 432x288 with 1 Axes>"
      ]
     },
     "metadata": {
      "needs_background": "light"
     },
     "output_type": "display_data"
    }
   ],
   "source": [
    "train.pivot_table(index='GarageFinish', \n",
    "                         values = 'log_SalePrice', \n",
    "                         aggfunc = np.median).plot(kind='bar',ylim=(11,12.5))\n",
    "print(train.GarageFinish.value_counts())\n",
    "print(train.GarageFinish.isnull().sum())\n",
    "print(test.GarageFinish.value_counts())\n",
    "print(test.GarageFinish.isnull().sum())"
   ]
  },
  {
   "cell_type": "code",
   "execution_count": 144,
   "metadata": {},
   "outputs": [
    {
     "name": "stdout",
     "output_type": "stream",
     "text": [
      "(1453, 175)\n"
     ]
    }
   ],
   "source": [
    "train = pd.concat([train, pd.get_dummies(train.GarageFinish, drop_first = True)], axis=1)\n",
    "train = train.drop('GarageFinish', axis=1)\n",
    "print(train.shape)"
   ]
  },
  {
   "cell_type": "code",
   "execution_count": 145,
   "metadata": {},
   "outputs": [
    {
     "name": "stdout",
     "output_type": "stream",
     "text": [
      "(1459, 173)\n"
     ]
    }
   ],
   "source": [
    "test = pd.concat([test, pd.get_dummies(test.GarageFinish, drop_first = True)], axis=1)\n",
    "test = test.drop('GarageFinish', axis=1)\n",
    "print(test.shape)"
   ]
  },
  {
   "cell_type": "markdown",
   "metadata": {},
   "source": [
    "## GarageQual"
   ]
  },
  {
   "cell_type": "code",
   "execution_count": 146,
   "metadata": {},
   "outputs": [],
   "source": [
    "train['GarageQual'] = train['GarageQual'].fillna(value='None')\n",
    "test['GarageQual'] = test['GarageQual'].fillna(value='None')"
   ]
  },
  {
   "cell_type": "code",
   "execution_count": 147,
   "metadata": {},
   "outputs": [
    {
     "name": "stdout",
     "output_type": "stream",
     "text": [
      "TA      1304\n",
      "None      81\n",
      "Fa        48\n",
      "Gd        14\n",
      "Po         3\n",
      "Ex         3\n",
      "Name: GarageQual, dtype: int64\n",
      "0\n",
      "TA      1293\n",
      "None      78\n",
      "Fa        76\n",
      "Gd        10\n",
      "Po         2\n",
      "Name: GarageQual, dtype: int64\n",
      "0\n"
     ]
    },
    {
     "data": {
      "image/png": "[encoded data removed]",
      "text/plain": [
       "<Figure size 432x288 with 1 Axes>"
      ]
     },
     "metadata": {
      "needs_background": "light"
     },
     "output_type": "display_data"
    }
   ],
   "source": [
    "train.pivot_table(index='GarageQual', \n",
    "                         values = 'log_SalePrice', \n",
    "                         aggfunc = np.median).plot(kind='bar',ylim=(11,12.5))\n",
    "print(train.GarageQual.value_counts())\n",
    "print(train.GarageQual.isnull().sum())\n",
    "print(test.GarageQual.value_counts())\n",
    "print(test.GarageQual.isnull().sum())"
   ]
  },
  {
   "cell_type": "code",
   "execution_count": 148,
   "metadata": {},
   "outputs": [
    {
     "name": "stdout",
     "output_type": "stream",
     "text": [
      "TA      1304\n",
      "None      81\n",
      "Fa        48\n",
      "Gd        17\n",
      "Po         3\n",
      "Name: GarageQual, dtype: int64\n",
      "(1453, 175)\n"
     ]
    }
   ],
   "source": [
    "def f(x):\n",
    " return 'Gd' if x == 'Ex' else x\n",
    "train['GarageQual'] = train['GarageQual'].apply(f)\n",
    "print(train.GarageQual.value_counts()) \n",
    "print(train.shape)"
   ]
  },
  {
   "cell_type": "code",
   "execution_count": 149,
   "metadata": {},
   "outputs": [
    {
     "name": "stdout",
     "output_type": "stream",
     "text": [
      "TA      1293\n",
      "None      78\n",
      "Fa        76\n",
      "Gd        10\n",
      "Po         2\n",
      "Name: GarageQual, dtype: int64\n",
      "(1459, 173)\n"
     ]
    }
   ],
   "source": [
    "def g(x):\n",
    " return 'Gd' if x == 'Ex' else x\n",
    "test['GarageQual'] = test['GarageQual'].apply(g)\n",
    "print(test.GarageQual.value_counts()) \n",
    "print(test.shape)"
   ]
  },
  {
   "cell_type": "code",
   "execution_count": 150,
   "metadata": {},
   "outputs": [
    {
     "name": "stdout",
     "output_type": "stream",
     "text": [
      "(1453, 178)\n"
     ]
    }
   ],
   "source": [
    "train = pd.concat([train, pd.get_dummies(train.GarageQual, drop_first = True)], axis=1)\n",
    "train = train.drop('GarageQual', axis=1)\n",
    "print(train.shape)"
   ]
  },
  {
   "cell_type": "code",
   "execution_count": 151,
   "metadata": {},
   "outputs": [
    {
     "name": "stdout",
     "output_type": "stream",
     "text": [
      "(1459, 176)\n"
     ]
    }
   ],
   "source": [
    "test = pd.concat([test, pd.get_dummies(test.GarageQual, drop_first = True)], axis=1)\n",
    "test = test.drop('GarageQual', axis=1)\n",
    "print(test.shape)"
   ]
  },
  {
   "cell_type": "code",
   "execution_count": 152,
   "metadata": {},
   "outputs": [
    {
     "data": {
      "text/plain": [
       "(1459, 176)"
      ]
     },
     "execution_count": 152,
     "metadata": {},
     "output_type": "execute_result"
    }
   ],
   "source": [
    "test.shape"
   ]
  },
  {
   "cell_type": "markdown",
   "metadata": {},
   "source": [
    "## GarageCond"
   ]
  },
  {
   "cell_type": "code",
   "execution_count": 153,
   "metadata": {},
   "outputs": [
    {
     "name": "stdout",
     "output_type": "stream",
     "text": [
      "(1453, 177)\n"
     ]
    }
   ],
   "source": [
    "train = train.drop('GarageCond', axis = 1)\n",
    "print(train.shape)"
   ]
  },
  {
   "cell_type": "code",
   "execution_count": 154,
   "metadata": {},
   "outputs": [
    {
     "name": "stdout",
     "output_type": "stream",
     "text": [
      "(1459, 175)\n"
     ]
    }
   ],
   "source": [
    "test = test.drop('GarageCond', axis = 1)\n",
    "print(test.shape)"
   ]
  },
  {
   "cell_type": "markdown",
   "metadata": {},
   "source": [
    "## PavedDrive"
   ]
  },
  {
   "cell_type": "code",
   "execution_count": 155,
   "metadata": {},
   "outputs": [
    {
     "name": "stdout",
     "output_type": "stream",
     "text": [
      "Y    1333\n",
      "N      90\n",
      "P      30\n",
      "Name: PavedDrive, dtype: int64\n",
      "0\n",
      "Y    1301\n",
      "N     126\n",
      "P      32\n",
      "Name: PavedDrive, dtype: int64\n",
      "0\n"
     ]
    },
    {
     "data": {
      "image/png": "[encoded data removed]",
      "text/plain": [
       "<Figure size 432x288 with 1 Axes>"
      ]
     },
     "metadata": {
      "needs_background": "light"
     },
     "output_type": "display_data"
    }
   ],
   "source": [
    "train.pivot_table(index='PavedDrive', \n",
    "                         values = 'log_SalePrice', \n",
    "                         aggfunc = np.median).plot(kind='bar',ylim=(11,12.5))\n",
    "print(train.PavedDrive.value_counts())\n",
    "print(train.PavedDrive.isnull().sum())\n",
    "print(test.PavedDrive.value_counts())\n",
    "print(test.PavedDrive.isnull().sum())"
   ]
  },
  {
   "cell_type": "code",
   "execution_count": 156,
   "metadata": {},
   "outputs": [
    {
     "name": "stdout",
     "output_type": "stream",
     "text": [
      "(1453, 178)\n"
     ]
    }
   ],
   "source": [
    "train = pd.concat([train, pd.get_dummies(train.PavedDrive, drop_first = True)], axis=1)\n",
    "train = train.drop('PavedDrive', axis=1)\n",
    "print(train.shape)"
   ]
  },
  {
   "cell_type": "code",
   "execution_count": 157,
   "metadata": {},
   "outputs": [
    {
     "name": "stdout",
     "output_type": "stream",
     "text": [
      "(1459, 176)\n"
     ]
    }
   ],
   "source": [
    "test = pd.concat([test, pd.get_dummies(test.PavedDrive, drop_first = True)], axis=1)\n",
    "test = test.drop('PavedDrive', axis=1)\n",
    "print(test.shape)"
   ]
  },
  {
   "cell_type": "markdown",
   "metadata": {},
   "source": [
    "## PoolQC"
   ]
  },
  {
   "cell_type": "code",
   "execution_count": 158,
   "metadata": {},
   "outputs": [
    {
     "name": "stdout",
     "output_type": "stream",
     "text": [
      "(1453, 177)\n"
     ]
    }
   ],
   "source": [
    "train = train.drop('PoolQC', axis = 1)\n",
    "print(train.shape)"
   ]
  },
  {
   "cell_type": "code",
   "execution_count": 159,
   "metadata": {},
   "outputs": [
    {
     "name": "stdout",
     "output_type": "stream",
     "text": [
      "(1459, 175)\n"
     ]
    }
   ],
   "source": [
    "test = test.drop('PoolQC', axis = 1)\n",
    "print(test.shape)"
   ]
  },
  {
   "cell_type": "markdown",
   "metadata": {},
   "source": [
    "## Fence"
   ]
  },
  {
   "cell_type": "code",
   "execution_count": 160,
   "metadata": {},
   "outputs": [],
   "source": [
    "train['Fence'] = train['Fence'].fillna(value='None')\n",
    "test['Fence'] = test['Fence'].fillna(value='None')"
   ]
  },
  {
   "cell_type": "code",
   "execution_count": 161,
   "metadata": {
    "scrolled": true
   },
   "outputs": [
    {
     "name": "stdout",
     "output_type": "stream",
     "text": [
      "None     1172\n",
      "MnPrv     157\n",
      "GdPrv      59\n",
      "GdWo       54\n",
      "MnWw       11\n",
      "Name: Fence, dtype: int64\n",
      "0\n",
      "None     1169\n",
      "MnPrv     172\n",
      "GdPrv      59\n",
      "GdWo       58\n",
      "MnWw        1\n",
      "Name: Fence, dtype: int64\n",
      "0\n"
     ]
    },
    {
     "data": {
      "image/png": "[encoded data removed]",
      "text/plain": [
       "<Figure size 432x288 with 1 Axes>"
      ]
     },
     "metadata": {
      "needs_background": "light"
     },
     "output_type": "display_data"
    }
   ],
   "source": [
    "train.pivot_table(index='Fence', \n",
    "                         values = 'log_SalePrice', \n",
    "                         aggfunc = np.median).plot(kind='bar',ylim=(11,12.5))\n",
    "print(train.Fence.value_counts())\n",
    "print(train.Fence.isnull().sum())\n",
    "print(test.Fence.value_counts())\n",
    "print(test.Fence.isnull().sum())"
   ]
  },
  {
   "cell_type": "code",
   "execution_count": 162,
   "metadata": {},
   "outputs": [
    {
     "name": "stdout",
     "output_type": "stream",
     "text": [
      "(1453, 180)\n"
     ]
    }
   ],
   "source": [
    "train = pd.concat([train, pd.get_dummies(train.Fence, drop_first = True)], axis=1)\n",
    "train = train.drop('Fence', axis=1)\n",
    "print(train.shape)"
   ]
  },
  {
   "cell_type": "code",
   "execution_count": 163,
   "metadata": {},
   "outputs": [
    {
     "name": "stdout",
     "output_type": "stream",
     "text": [
      "(1459, 178)\n"
     ]
    }
   ],
   "source": [
    "test = pd.concat([test, pd.get_dummies(test.Fence, drop_first = True)], axis=1)\n",
    "test = test.drop('Fence', axis=1)\n",
    "print(test.shape)"
   ]
  },
  {
   "cell_type": "markdown",
   "metadata": {},
   "source": [
    "## MiscFeature"
   ]
  },
  {
   "cell_type": "code",
   "execution_count": 164,
   "metadata": {},
   "outputs": [
    {
     "name": "stdout",
     "output_type": "stream",
     "text": [
      "(1453, 179)\n"
     ]
    }
   ],
   "source": [
    "train = train.drop('MiscFeature', axis=1)\n",
    "print(train.shape)"
   ]
  },
  {
   "cell_type": "code",
   "execution_count": 165,
   "metadata": {},
   "outputs": [
    {
     "name": "stdout",
     "output_type": "stream",
     "text": [
      "(1459, 177)\n"
     ]
    }
   ],
   "source": [
    "test = test.drop('MiscFeature', axis=1)\n",
    "print(test.shape)"
   ]
  },
  {
   "cell_type": "markdown",
   "metadata": {},
   "source": [
    "## SaleType"
   ]
  },
  {
   "cell_type": "code",
   "execution_count": 166,
   "metadata": {},
   "outputs": [],
   "source": [
    "test['SaleType'] = test['SaleType'].fillna(value='WD')"
   ]
  },
  {
   "cell_type": "code",
   "execution_count": 167,
   "metadata": {},
   "outputs": [
    {
     "name": "stdout",
     "output_type": "stream",
     "text": [
      "WD       1264\n",
      "New       119\n",
      "COD        43\n",
      "ConLD       8\n",
      "ConLw       5\n",
      "ConLI       5\n",
      "CWD         4\n",
      "Oth         3\n",
      "Con         2\n",
      "Name: SaleType, dtype: int64\n",
      "0\n",
      "WD       1259\n",
      "New       117\n",
      "COD        44\n",
      "ConLD      17\n",
      "CWD         8\n",
      "Oth         4\n",
      "ConLI       4\n",
      "ConLw       3\n",
      "Con         3\n",
      "Name: SaleType, dtype: int64\n",
      "0\n"
     ]
    },
    {
     "data": {
      "image/png": "[encoded data removed]",
      "text/plain": [
       "<Figure size 432x288 with 1 Axes>"
      ]
     },
     "metadata": {
      "needs_background": "light"
     },
     "output_type": "display_data"
    }
   ],
   "source": [
    "train.pivot_table(index='SaleType', \n",
    "                         values = 'log_SalePrice', \n",
    "                         aggfunc = np.median).plot(kind='bar',ylim=(11,12.5))\n",
    "print(train.SaleType.value_counts())\n",
    "print(train.SaleType.isnull().sum())\n",
    "print(test.SaleType.value_counts())\n",
    "print(test.SaleType.isnull().sum())"
   ]
  },
  {
   "cell_type": "code",
   "execution_count": 168,
   "metadata": {},
   "outputs": [
    {
     "name": "stdout",
     "output_type": "stream",
     "text": [
      "(1453, 186)\n"
     ]
    }
   ],
   "source": [
    "train = pd.concat([train, pd.get_dummies(train.SaleType, drop_first = True)], axis=1)\n",
    "train = train.drop('SaleType', axis=1)\n",
    "print(train.shape)"
   ]
  },
  {
   "cell_type": "code",
   "execution_count": 169,
   "metadata": {},
   "outputs": [
    {
     "name": "stdout",
     "output_type": "stream",
     "text": [
      "(1459, 184)\n"
     ]
    }
   ],
   "source": [
    "test = pd.concat([test, pd.get_dummies(test.SaleType, drop_first = True)], axis=1)\n",
    "test = test.drop('SaleType', axis=1)\n",
    "print(test.shape)"
   ]
  },
  {
   "cell_type": "markdown",
   "metadata": {},
   "source": [
    "## SaleCondition"
   ]
  },
  {
   "cell_type": "code",
   "execution_count": 170,
   "metadata": {},
   "outputs": [
    {
     "name": "stdout",
     "output_type": "stream",
     "text": [
      "Normal     1194\n",
      "Partial     122\n",
      "Abnorml     101\n",
      "Family       20\n",
      "Alloca       12\n",
      "AdjLand       4\n",
      "Name: SaleCondition, dtype: int64\n",
      "0\n",
      "Normal     1204\n",
      "Partial     120\n",
      "Abnorml      89\n",
      "Family       26\n",
      "Alloca       12\n",
      "AdjLand       8\n",
      "Name: SaleCondition, dtype: int64\n",
      "0\n"
     ]
    },
    {
     "data": {
      "image/png": "[encoded data removed]",
      "text/plain": [
       "<Figure size 432x288 with 1 Axes>"
      ]
     },
     "metadata": {
      "needs_background": "light"
     },
     "output_type": "display_data"
    }
   ],
   "source": [
    "train.pivot_table(index='SaleCondition', \n",
    "                         values = 'log_SalePrice', \n",
    "                         aggfunc = np.median).plot(kind='bar',ylim=(11,12.5))\n",
    "print(train.SaleCondition.value_counts())\n",
    "print(train.SaleCondition.isnull().sum())\n",
    "print(test.SaleCondition.value_counts())\n",
    "print(test.SaleCondition.isnull().sum())"
   ]
  },
  {
   "cell_type": "code",
   "execution_count": 171,
   "metadata": {},
   "outputs": [
    {
     "name": "stdout",
     "output_type": "stream",
     "text": [
      "(1453, 190)\n"
     ]
    }
   ],
   "source": [
    "train = pd.concat([train, pd.get_dummies(train.SaleCondition, drop_first = True)], axis=1)\n",
    "train = train.drop('SaleCondition', axis=1)\n",
    "print(train.shape)"
   ]
  },
  {
   "cell_type": "code",
   "execution_count": 172,
   "metadata": {},
   "outputs": [
    {
     "name": "stdout",
     "output_type": "stream",
     "text": [
      "(1459, 188)\n"
     ]
    }
   ],
   "source": [
    "test = pd.concat([test, pd.get_dummies(test.SaleCondition, drop_first = True)], axis=1)\n",
    "test = test.drop('SaleCondition', axis=1)\n",
    "print(test.shape)"
   ]
  },
  {
   "cell_type": "markdown",
   "metadata": {},
   "source": [
    "## MoSold"
   ]
  },
  {
   "cell_type": "code",
   "execution_count": 173,
   "metadata": {},
   "outputs": [
    {
     "name": "stdout",
     "output_type": "stream",
     "text": [
      "6     252\n",
      "7     234\n",
      "5     204\n",
      "4     141\n",
      "8     120\n",
      "3     105\n",
      "10     88\n",
      "11     78\n",
      "9      63\n",
      "12     59\n",
      "1      57\n",
      "2      52\n",
      "Name: MoSold, dtype: int64\n",
      "0\n",
      "6     252\n",
      "7     234\n",
      "5     204\n",
      "4     141\n",
      "8     120\n",
      "3     105\n",
      "10     88\n",
      "11     78\n",
      "9      63\n",
      "12     59\n",
      "1      57\n",
      "2      52\n",
      "Name: MoSold, dtype: int64\n",
      "0\n"
     ]
    },
    {
     "data": {
      "image/png": "[encoded data removed]",
      "text/plain": [
       "<Figure size 432x288 with 1 Axes>"
      ]
     },
     "metadata": {
      "needs_background": "light"
     },
     "output_type": "display_data"
    }
   ],
   "source": [
    "train.pivot_table(index='MoSold', \n",
    "                         values = 'log_SalePrice', \n",
    "                         aggfunc = np.median).plot(kind='bar',ylim=(11,12.5))\n",
    "print(train.MoSold.value_counts())\n",
    "print(train.MoSold.isnull().sum())\n",
    "print(train.MoSold.value_counts())\n",
    "print(train.MoSold.isnull().sum())"
   ]
  },
  {
   "cell_type": "code",
   "execution_count": 174,
   "metadata": {},
   "outputs": [
    {
     "name": "stdout",
     "output_type": "stream",
     "text": [
      "(1453, 200)\n"
     ]
    }
   ],
   "source": [
    "train = pd.concat([train, pd.get_dummies(train.MoSold, drop_first = True)], axis=1)\n",
    "train = train.drop('MoSold', axis=1)\n",
    "print(train.shape)"
   ]
  },
  {
   "cell_type": "code",
   "execution_count": 175,
   "metadata": {},
   "outputs": [
    {
     "name": "stdout",
     "output_type": "stream",
     "text": [
      "(1459, 198)\n"
     ]
    }
   ],
   "source": [
    "test = pd.concat([test, pd.get_dummies(test.MoSold, drop_first = True)], axis=1)\n",
    "test = test.drop('MoSold', axis=1)\n",
    "print(test.shape)"
   ]
  },
  {
   "cell_type": "markdown",
   "metadata": {},
   "source": [
    "## YrSold"
   ]
  },
  {
   "cell_type": "code",
   "execution_count": 176,
   "metadata": {},
   "outputs": [
    {
     "name": "stdout",
     "output_type": "stream",
     "text": [
      "2009    336\n",
      "2007    327\n",
      "2006    314\n",
      "2008    301\n",
      "2010    175\n",
      "Name: YrSold, dtype: int64\n",
      "0\n",
      "2009    336\n",
      "2007    327\n",
      "2006    314\n",
      "2008    301\n",
      "2010    175\n",
      "Name: YrSold, dtype: int64\n",
      "0\n"
     ]
    },
    {
     "data": {
      "image/png": "[encoded data removed]",
      "text/plain": [
       "<Figure size 432x288 with 1 Axes>"
      ]
     },
     "metadata": {
      "needs_background": "light"
     },
     "output_type": "display_data"
    }
   ],
   "source": [
    "train.pivot_table(index='YrSold', \n",
    "                         values = 'log_SalePrice', \n",
    "                         aggfunc = np.median).plot(kind='bar',ylim=(11,12.5))\n",
    "print(train.YrSold.value_counts())\n",
    "print(train.YrSold.isnull().sum())\n",
    "print(train.YrSold.value_counts())\n",
    "print(train.YrSold.isnull().sum())"
   ]
  },
  {
   "cell_type": "code",
   "execution_count": 177,
   "metadata": {},
   "outputs": [
    {
     "name": "stdout",
     "output_type": "stream",
     "text": [
      "(1453, 203)\n"
     ]
    }
   ],
   "source": [
    "train = pd.concat([train, pd.get_dummies(train.YrSold, drop_first = True)], axis=1)\n",
    "train = train.drop('YrSold', axis=1)\n",
    "print(train.shape)"
   ]
  },
  {
   "cell_type": "code",
   "execution_count": 178,
   "metadata": {},
   "outputs": [
    {
     "name": "stdout",
     "output_type": "stream",
     "text": [
      "(1459, 201)\n"
     ]
    }
   ],
   "source": [
    "test = pd.concat([test, pd.get_dummies(test.YrSold, drop_first = True)], axis=1)\n",
    "test = test.drop('YrSold', axis=1)\n",
    "print(test.shape)"
   ]
  },
  {
   "cell_type": "markdown",
   "metadata": {},
   "source": [
    "## GarageCars"
   ]
  },
  {
   "cell_type": "code",
   "execution_count": 179,
   "metadata": {},
   "outputs": [],
   "source": [
    "test['GarageCars'] = test['GarageCars'].fillna(value=2)"
   ]
  },
  {
   "cell_type": "code",
   "execution_count": 180,
   "metadata": {},
   "outputs": [
    {
     "name": "stdout",
     "output_type": "stream",
     "text": [
      "2    821\n",
      "1    369\n",
      "3    178\n",
      "0     81\n",
      "4      4\n",
      "Name: GarageCars, dtype: int64\n",
      "0\n",
      "2.0    771\n",
      "1.0    407\n",
      "3.0    193\n",
      "0.0     76\n",
      "4.0     11\n",
      "5.0      1\n",
      "Name: GarageCars, dtype: int64\n",
      "0\n"
     ]
    },
    {
     "data": {
      "image/png": "[encoded data removed]",
      "text/plain": [
       "<Figure size 432x288 with 1 Axes>"
      ]
     },
     "metadata": {
      "needs_background": "light"
     },
     "output_type": "display_data"
    }
   ],
   "source": [
    "train.pivot_table(index='GarageCars', \n",
    "                         values = 'log_SalePrice', \n",
    "                         aggfunc = np.median).plot(kind='bar',ylim=(11,12.5))\n",
    "print(train.GarageCars.value_counts())\n",
    "print(train.GarageCars.isnull().sum())\n",
    "print(test.GarageCars.value_counts())\n",
    "print(test.GarageCars.isnull().sum())"
   ]
  },
  {
   "cell_type": "code",
   "execution_count": 181,
   "metadata": {},
   "outputs": [
    {
     "name": "stdout",
     "output_type": "stream",
     "text": [
      "2.0    771\n",
      "1.0    407\n",
      "3.0    193\n",
      "0.0     76\n",
      "4.0     12\n",
      "Name: GarageCars, dtype: int64\n",
      "(1459, 201)\n"
     ]
    }
   ],
   "source": [
    "def g(x):\n",
    " return 4 if x == 5 else x\n",
    "test['GarageCars'] = test['GarageCars'].apply(g)\n",
    "print(test.GarageCars.value_counts())   \n",
    "print(test.shape)"
   ]
  },
  {
   "cell_type": "code",
   "execution_count": 182,
   "metadata": {},
   "outputs": [
    {
     "name": "stdout",
     "output_type": "stream",
     "text": [
      "(1453, 206)\n"
     ]
    }
   ],
   "source": [
    "train = pd.concat([train, pd.get_dummies(train.GarageCars, drop_first = True)], axis=1)\n",
    "train = train.drop('GarageCars', axis=1)\n",
    "print(train.shape)"
   ]
  },
  {
   "cell_type": "code",
   "execution_count": 183,
   "metadata": {},
   "outputs": [
    {
     "name": "stdout",
     "output_type": "stream",
     "text": [
      "(1459, 204)\n"
     ]
    }
   ],
   "source": [
    "test = pd.concat([test, pd.get_dummies(test.GarageCars, drop_first = True)], axis=1)\n",
    "test = test.drop('GarageCars', axis=1)\n",
    "print(test.shape)"
   ]
  },
  {
   "cell_type": "markdown",
   "metadata": {},
   "source": [
    "## HalfBath"
   ]
  },
  {
   "cell_type": "code",
   "execution_count": 184,
   "metadata": {},
   "outputs": [],
   "source": [
    "#numerical.. add to full bath\n",
    "#train.pivot_table(index='HalfBath', \n",
    "                        # values = 'log_SalePrice', \n",
    "                        # aggfunc = np.median).plot(kind='bar',ylim=(10.5,13))\n",
    "#print(train.HalfBath.value_counts())\n",
    "#print(train.HalfBath.isnull().sum())"
   ]
  },
  {
   "cell_type": "code",
   "execution_count": 185,
   "metadata": {},
   "outputs": [],
   "source": [
    "#train = pd.concat([train, pd.get_dummies(train.HalfBath, drop_first = True)], axis=1)\n",
    "#train = train.drop('HalfBath', axis=1)\n",
    "#print(train.shape)"
   ]
  },
  {
   "cell_type": "code",
   "execution_count": 186,
   "metadata": {},
   "outputs": [],
   "source": [
    "#test = pd.concat([test, pd.get_dummies(test.HalfBath, drop_first = True)], axis=1)\n",
    "#test = test.drop('HalfBath', axis=1)\n",
    "#print(train.shape)"
   ]
  },
  {
   "cell_type": "markdown",
   "metadata": {},
   "source": [
    "## OverallCond"
   ]
  },
  {
   "cell_type": "code",
   "execution_count": 187,
   "metadata": {},
   "outputs": [
    {
     "name": "stdout",
     "output_type": "stream",
     "text": [
      "5    817\n",
      "6    252\n",
      "7    204\n",
      "8     72\n",
      "4     55\n",
      "3     25\n",
      "9     22\n",
      "2      5\n",
      "1      1\n",
      "Name: OverallCond, dtype: int64\n",
      "0\n",
      "5    824\n",
      "6    279\n",
      "7    185\n",
      "8     72\n",
      "4     44\n",
      "3     25\n",
      "9     19\n",
      "1      6\n",
      "2      5\n",
      "Name: OverallCond, dtype: int64\n",
      "0\n"
     ]
    },
    {
     "data": {
      "image/png": "[encoded data removed]",
      "text/plain": [
       "<Figure size 432x288 with 1 Axes>"
      ]
     },
     "metadata": {
      "needs_background": "light"
     },
     "output_type": "display_data"
    }
   ],
   "source": [
    "train.pivot_table(index='OverallCond', \n",
    "                         values = 'log_SalePrice', \n",
    "                         aggfunc = np.median).plot(kind='bar',ylim=(10,13))\n",
    "print(train.OverallCond.value_counts())\n",
    "print(train.OverallCond.isnull().sum())\n",
    "print(test.OverallCond.value_counts())\n",
    "print(test.OverallCond.isnull().sum())"
   ]
  },
  {
   "cell_type": "code",
   "execution_count": 188,
   "metadata": {},
   "outputs": [
    {
     "name": "stdout",
     "output_type": "stream",
     "text": [
      "(1453, 213)\n"
     ]
    }
   ],
   "source": [
    "train = pd.concat([train, pd.get_dummies(train.OverallCond, drop_first = True)], axis=1)\n",
    "train = train.drop('OverallCond', axis=1)\n",
    "print(train.shape)"
   ]
  },
  {
   "cell_type": "code",
   "execution_count": 189,
   "metadata": {},
   "outputs": [
    {
     "name": "stdout",
     "output_type": "stream",
     "text": [
      "(1459, 211)\n"
     ]
    }
   ],
   "source": [
    "test = pd.concat([test, pd.get_dummies(test.OverallCond, drop_first = True)], axis=1)\n",
    "test = test.drop('OverallCond', axis=1)\n",
    "print(test.shape)"
   ]
  },
  {
   "cell_type": "code",
   "execution_count": 190,
   "metadata": {},
   "outputs": [
    {
     "data": {
      "text/html": [
       "<div>\n",
       "<style scoped>\n",
       "    .dataframe tbody tr th:only-of-type {\n",
       "        vertical-align: middle;\n",
       "    }\n",
       "\n",
       "    .dataframe tbody tr th {\n",
       "        vertical-align: top;\n",
       "    }\n",
       "\n",
       "    .dataframe thead th {\n",
       "        text-align: right;\n",
       "    }\n",
       "</style>\n",
       "<table border=\"1\" class=\"dataframe\">\n",
       "  <thead>\n",
       "    <tr style=\"text-align: right;\">\n",
       "      <th></th>\n",
       "      <th>0</th>\n",
       "    </tr>\n",
       "  </thead>\n",
       "  <tbody>\n",
       "    <tr>\n",
       "      <th>9</th>\n",
       "      <td>0</td>\n",
       "    </tr>\n",
       "    <tr>\n",
       "      <th>Sev</th>\n",
       "      <td>0</td>\n",
       "    </tr>\n",
       "    <tr>\n",
       "      <th>Veenker</th>\n",
       "      <td>0</td>\n",
       "    </tr>\n",
       "    <tr>\n",
       "      <th>Timber</th>\n",
       "      <td>0</td>\n",
       "    </tr>\n",
       "    <tr>\n",
       "      <th>StoneBr</th>\n",
       "      <td>0</td>\n",
       "    </tr>\n",
       "    <tr>\n",
       "      <th>Somerst</th>\n",
       "      <td>0</td>\n",
       "    </tr>\n",
       "    <tr>\n",
       "      <th>SawyerW</th>\n",
       "      <td>0</td>\n",
       "    </tr>\n",
       "    <tr>\n",
       "      <th>Sawyer</th>\n",
       "      <td>0</td>\n",
       "    </tr>\n",
       "    <tr>\n",
       "      <th>SWISU</th>\n",
       "      <td>0</td>\n",
       "    </tr>\n",
       "    <tr>\n",
       "      <th>OldTown</th>\n",
       "      <td>0</td>\n",
       "    </tr>\n",
       "    <tr>\n",
       "      <th>NridgHt</th>\n",
       "      <td>0</td>\n",
       "    </tr>\n",
       "    <tr>\n",
       "      <th>NoRidge</th>\n",
       "      <td>0</td>\n",
       "    </tr>\n",
       "    <tr>\n",
       "      <th>NWAmes</th>\n",
       "      <td>0</td>\n",
       "    </tr>\n",
       "    <tr>\n",
       "      <th>NPkVill</th>\n",
       "      <td>0</td>\n",
       "    </tr>\n",
       "    <tr>\n",
       "      <th>NAmes</th>\n",
       "      <td>0</td>\n",
       "    </tr>\n",
       "    <tr>\n",
       "      <th>Mitchel</th>\n",
       "      <td>0</td>\n",
       "    </tr>\n",
       "    <tr>\n",
       "      <th>MeadowV</th>\n",
       "      <td>0</td>\n",
       "    </tr>\n",
       "    <tr>\n",
       "      <th>IDOTRR</th>\n",
       "      <td>0</td>\n",
       "    </tr>\n",
       "    <tr>\n",
       "      <th>Gilbert</th>\n",
       "      <td>0</td>\n",
       "    </tr>\n",
       "    <tr>\n",
       "      <th>Edwards</th>\n",
       "      <td>0</td>\n",
       "    </tr>\n",
       "    <tr>\n",
       "      <th>Crawfor</th>\n",
       "      <td>0</td>\n",
       "    </tr>\n",
       "    <tr>\n",
       "      <th>CollgCr</th>\n",
       "      <td>0</td>\n",
       "    </tr>\n",
       "    <tr>\n",
       "      <th>ClearCr</th>\n",
       "      <td>0</td>\n",
       "    </tr>\n",
       "    <tr>\n",
       "      <th>BrkSide</th>\n",
       "      <td>0</td>\n",
       "    </tr>\n",
       "    <tr>\n",
       "      <th>BrDale</th>\n",
       "      <td>0</td>\n",
       "    </tr>\n",
       "    <tr>\n",
       "      <th>Feedr</th>\n",
       "      <td>0</td>\n",
       "    </tr>\n",
       "    <tr>\n",
       "      <th>Norm</th>\n",
       "      <td>0</td>\n",
       "    </tr>\n",
       "    <tr>\n",
       "      <th>PosA</th>\n",
       "      <td>0</td>\n",
       "    </tr>\n",
       "    <tr>\n",
       "      <th>2Story</th>\n",
       "      <td>0</td>\n",
       "    </tr>\n",
       "    <tr>\n",
       "      <th>MetalSd</th>\n",
       "      <td>0</td>\n",
       "    </tr>\n",
       "    <tr>\n",
       "      <th>...</th>\n",
       "      <td>...</td>\n",
       "    </tr>\n",
       "    <tr>\n",
       "      <th>Stone</th>\n",
       "      <td>0</td>\n",
       "    </tr>\n",
       "    <tr>\n",
       "      <th>None</th>\n",
       "      <td>0</td>\n",
       "    </tr>\n",
       "    <tr>\n",
       "      <th>BrkFace</th>\n",
       "      <td>0</td>\n",
       "    </tr>\n",
       "    <tr>\n",
       "      <th>Gd</th>\n",
       "      <td>0</td>\n",
       "    </tr>\n",
       "    <tr>\n",
       "      <th>Mn</th>\n",
       "      <td>0</td>\n",
       "    </tr>\n",
       "    <tr>\n",
       "      <th>No</th>\n",
       "      <td>0</td>\n",
       "    </tr>\n",
       "    <tr>\n",
       "      <th>Gd</th>\n",
       "      <td>0</td>\n",
       "    </tr>\n",
       "    <tr>\n",
       "      <th>CarPort</th>\n",
       "      <td>0</td>\n",
       "    </tr>\n",
       "    <tr>\n",
       "      <th>BuiltIn</th>\n",
       "      <td>0</td>\n",
       "    </tr>\n",
       "    <tr>\n",
       "      <th>Basment</th>\n",
       "      <td>0</td>\n",
       "    </tr>\n",
       "    <tr>\n",
       "      <th>Attchd</th>\n",
       "      <td>0</td>\n",
       "    </tr>\n",
       "    <tr>\n",
       "      <th>TA</th>\n",
       "      <td>0</td>\n",
       "    </tr>\n",
       "    <tr>\n",
       "      <th>Po</th>\n",
       "      <td>0</td>\n",
       "    </tr>\n",
       "    <tr>\n",
       "      <th>None</th>\n",
       "      <td>0</td>\n",
       "    </tr>\n",
       "    <tr>\n",
       "      <th>Gd</th>\n",
       "      <td>0</td>\n",
       "    </tr>\n",
       "    <tr>\n",
       "      <th>Fa</th>\n",
       "      <td>0</td>\n",
       "    </tr>\n",
       "    <tr>\n",
       "      <th>TA</th>\n",
       "      <td>0</td>\n",
       "    </tr>\n",
       "    <tr>\n",
       "      <th>Fa</th>\n",
       "      <td>0</td>\n",
       "    </tr>\n",
       "    <tr>\n",
       "      <th>None</th>\n",
       "      <td>0</td>\n",
       "    </tr>\n",
       "    <tr>\n",
       "      <th>TA</th>\n",
       "      <td>0</td>\n",
       "    </tr>\n",
       "    <tr>\n",
       "      <th>Po</th>\n",
       "      <td>0</td>\n",
       "    </tr>\n",
       "    <tr>\n",
       "      <th>Gd</th>\n",
       "      <td>0</td>\n",
       "    </tr>\n",
       "    <tr>\n",
       "      <th>Fa</th>\n",
       "      <td>0</td>\n",
       "    </tr>\n",
       "    <tr>\n",
       "      <th>Unf</th>\n",
       "      <td>0</td>\n",
       "    </tr>\n",
       "    <tr>\n",
       "      <th>Rec</th>\n",
       "      <td>0</td>\n",
       "    </tr>\n",
       "    <tr>\n",
       "      <th>None</th>\n",
       "      <td>0</td>\n",
       "    </tr>\n",
       "    <tr>\n",
       "      <th>LwQ</th>\n",
       "      <td>0</td>\n",
       "    </tr>\n",
       "    <tr>\n",
       "      <th>GLQ</th>\n",
       "      <td>0</td>\n",
       "    </tr>\n",
       "    <tr>\n",
       "      <th>BLQ</th>\n",
       "      <td>0</td>\n",
       "    </tr>\n",
       "    <tr>\n",
       "      <th>Id</th>\n",
       "      <td>0</td>\n",
       "    </tr>\n",
       "  </tbody>\n",
       "</table>\n",
       "<p>211 rows × 1 columns</p>\n",
       "</div>"
      ],
      "text/plain": [
       "         0\n",
       "9        0\n",
       "Sev      0\n",
       "Veenker  0\n",
       "Timber   0\n",
       "StoneBr  0\n",
       "Somerst  0\n",
       "SawyerW  0\n",
       "Sawyer   0\n",
       "SWISU    0\n",
       "OldTown  0\n",
       "NridgHt  0\n",
       "NoRidge  0\n",
       "NWAmes   0\n",
       "NPkVill  0\n",
       "NAmes    0\n",
       "Mitchel  0\n",
       "MeadowV  0\n",
       "IDOTRR   0\n",
       "Gilbert  0\n",
       "Edwards  0\n",
       "Crawfor  0\n",
       "CollgCr  0\n",
       "ClearCr  0\n",
       "BrkSide  0\n",
       "BrDale   0\n",
       "Feedr    0\n",
       "Norm     0\n",
       "PosA     0\n",
       "2Story   0\n",
       "MetalSd  0\n",
       "...     ..\n",
       "Stone    0\n",
       "None     0\n",
       "BrkFace  0\n",
       "Gd       0\n",
       "Mn       0\n",
       "No       0\n",
       "Gd       0\n",
       "CarPort  0\n",
       "BuiltIn  0\n",
       "Basment  0\n",
       "Attchd   0\n",
       "TA       0\n",
       "Po       0\n",
       "None     0\n",
       "Gd       0\n",
       "Fa       0\n",
       "TA       0\n",
       "Fa       0\n",
       "None     0\n",
       "TA       0\n",
       "Po       0\n",
       "Gd       0\n",
       "Fa       0\n",
       "Unf      0\n",
       "Rec      0\n",
       "None     0\n",
       "LwQ      0\n",
       "GLQ      0\n",
       "BLQ      0\n",
       "Id       0\n",
       "\n",
       "[211 rows x 1 columns]"
      ]
     },
     "execution_count": 190,
     "metadata": {},
     "output_type": "execute_result"
    }
   ],
   "source": [
    "null_vals = pd.DataFrame(test.isnull().sum().sort_values(ascending=False))\n",
    "null_vals"
   ]
  },
  {
   "cell_type": "code",
   "execution_count": 191,
   "metadata": {},
   "outputs": [
    {
     "name": "stdout",
     "output_type": "stream",
     "text": [
      "(1453, 213)\n",
      "(1459, 211)\n",
      "Stored 'train' (DataFrame)\n",
      "Stored 'test' (DataFrame)\n"
     ]
    }
   ],
   "source": [
    "print(train.shape)\n",
    "print(test.shape)\n",
    "%store train\n",
    "%store test"
   ]
  }
 ],
 "metadata": {
  "kernelspec": {
   "display_name": "Python 3",
   "language": "python",
   "name": "python3"
  },
  "language_info": {
   "codemirror_mode": {
    "name": "ipython",
    "version": 3
   },
   "file_extension": ".py",
   "mimetype": "text/x-python",
   "name": "python",
   "nbconvert_exporter": "python",
   "pygments_lexer": "ipython3",
   "version": "3.7.3"
  }
 },
 "nbformat": 4,
 "nbformat_minor": 2
}
